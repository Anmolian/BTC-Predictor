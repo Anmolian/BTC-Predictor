{
  "nbformat": 4,
  "nbformat_minor": 0,
  "metadata": {
    "colab": {
      "name": "BTC Predictor.ipynb",
      "provenance": [],
      "collapsed_sections": []
    },
    "kernelspec": {
      "name": "python3",
      "display_name": "Python 3"
    },
    "language_info": {
      "name": "python"
    },
    "accelerator": "GPU",
    "gpuClass": "standard"
  },
  "cells": [
    {
      "cell_type": "markdown",
      "source": [
        "# Get Data"
      ],
      "metadata": {
        "id": "78Y7lQmv9QuF"
      }
    },
    {
      "cell_type": "markdown",
      "source": [
        "## Importing time series data with pandas"
      ],
      "metadata": {
        "id": "RBNRMCisATuG"
      }
    },
    {
      "cell_type": "code",
      "source": [
        "import pandas as pd\n",
        "df = pd.read_csv(\"/content/drive/MyDrive/BTC Predictor/BTC_USD_2013-10-01_2021-05-18.csv\", \n",
        "                 parse_dates = [\"Date\"],\n",
        "                 index_col = [\"Date\"])\n",
        "df.head()"
      ],
      "metadata": {
        "colab": {
          "base_uri": "https://localhost:8080/",
          "height": 237
        },
        "id": "pZT0pfKS_638",
        "outputId": "67160310-c423-4ef8-c322-ed6af0665d3f"
      },
      "execution_count": 6,
      "outputs": [
        {
          "output_type": "execute_result",
          "data": {
            "text/plain": [
              "           Currency  Closing Price (USD)  24h Open (USD)  24h High (USD)  \\\n",
              "Date                                                                       \n",
              "2013-10-01      BTC            123.65499       124.30466       124.75166   \n",
              "2013-10-02      BTC            125.45500       123.65499       125.75850   \n",
              "2013-10-03      BTC            108.58483       125.45500       125.66566   \n",
              "2013-10-04      BTC            118.67466       108.58483       118.67500   \n",
              "2013-10-05      BTC            121.33866       118.67466       121.93633   \n",
              "\n",
              "            24h Low (USD)  \n",
              "Date                       \n",
              "2013-10-01      122.56349  \n",
              "2013-10-02      123.63383  \n",
              "2013-10-03       83.32833  \n",
              "2013-10-04      107.05816  \n",
              "2013-10-05      118.00566  "
            ],
            "text/html": [
              "\n",
              "  <div id=\"df-c5180e3c-3e80-41b0-a515-0254661cdd39\">\n",
              "    <div class=\"colab-df-container\">\n",
              "      <div>\n",
              "<style scoped>\n",
              "    .dataframe tbody tr th:only-of-type {\n",
              "        vertical-align: middle;\n",
              "    }\n",
              "\n",
              "    .dataframe tbody tr th {\n",
              "        vertical-align: top;\n",
              "    }\n",
              "\n",
              "    .dataframe thead th {\n",
              "        text-align: right;\n",
              "    }\n",
              "</style>\n",
              "<table border=\"1\" class=\"dataframe\">\n",
              "  <thead>\n",
              "    <tr style=\"text-align: right;\">\n",
              "      <th></th>\n",
              "      <th>Currency</th>\n",
              "      <th>Closing Price (USD)</th>\n",
              "      <th>24h Open (USD)</th>\n",
              "      <th>24h High (USD)</th>\n",
              "      <th>24h Low (USD)</th>\n",
              "    </tr>\n",
              "    <tr>\n",
              "      <th>Date</th>\n",
              "      <th></th>\n",
              "      <th></th>\n",
              "      <th></th>\n",
              "      <th></th>\n",
              "      <th></th>\n",
              "    </tr>\n",
              "  </thead>\n",
              "  <tbody>\n",
              "    <tr>\n",
              "      <th>2013-10-01</th>\n",
              "      <td>BTC</td>\n",
              "      <td>123.65499</td>\n",
              "      <td>124.30466</td>\n",
              "      <td>124.75166</td>\n",
              "      <td>122.56349</td>\n",
              "    </tr>\n",
              "    <tr>\n",
              "      <th>2013-10-02</th>\n",
              "      <td>BTC</td>\n",
              "      <td>125.45500</td>\n",
              "      <td>123.65499</td>\n",
              "      <td>125.75850</td>\n",
              "      <td>123.63383</td>\n",
              "    </tr>\n",
              "    <tr>\n",
              "      <th>2013-10-03</th>\n",
              "      <td>BTC</td>\n",
              "      <td>108.58483</td>\n",
              "      <td>125.45500</td>\n",
              "      <td>125.66566</td>\n",
              "      <td>83.32833</td>\n",
              "    </tr>\n",
              "    <tr>\n",
              "      <th>2013-10-04</th>\n",
              "      <td>BTC</td>\n",
              "      <td>118.67466</td>\n",
              "      <td>108.58483</td>\n",
              "      <td>118.67500</td>\n",
              "      <td>107.05816</td>\n",
              "    </tr>\n",
              "    <tr>\n",
              "      <th>2013-10-05</th>\n",
              "      <td>BTC</td>\n",
              "      <td>121.33866</td>\n",
              "      <td>118.67466</td>\n",
              "      <td>121.93633</td>\n",
              "      <td>118.00566</td>\n",
              "    </tr>\n",
              "  </tbody>\n",
              "</table>\n",
              "</div>\n",
              "      <button class=\"colab-df-convert\" onclick=\"convertToInteractive('df-c5180e3c-3e80-41b0-a515-0254661cdd39')\"\n",
              "              title=\"Convert this dataframe to an interactive table.\"\n",
              "              style=\"display:none;\">\n",
              "        \n",
              "  <svg xmlns=\"http://www.w3.org/2000/svg\" height=\"24px\"viewBox=\"0 0 24 24\"\n",
              "       width=\"24px\">\n",
              "    <path d=\"M0 0h24v24H0V0z\" fill=\"none\"/>\n",
              "    <path d=\"M18.56 5.44l.94 2.06.94-2.06 2.06-.94-2.06-.94-.94-2.06-.94 2.06-2.06.94zm-11 1L8.5 8.5l.94-2.06 2.06-.94-2.06-.94L8.5 2.5l-.94 2.06-2.06.94zm10 10l.94 2.06.94-2.06 2.06-.94-2.06-.94-.94-2.06-.94 2.06-2.06.94z\"/><path d=\"M17.41 7.96l-1.37-1.37c-.4-.4-.92-.59-1.43-.59-.52 0-1.04.2-1.43.59L10.3 9.45l-7.72 7.72c-.78.78-.78 2.05 0 2.83L4 21.41c.39.39.9.59 1.41.59.51 0 1.02-.2 1.41-.59l7.78-7.78 2.81-2.81c.8-.78.8-2.07 0-2.86zM5.41 20L4 18.59l7.72-7.72 1.47 1.35L5.41 20z\"/>\n",
              "  </svg>\n",
              "      </button>\n",
              "      \n",
              "  <style>\n",
              "    .colab-df-container {\n",
              "      display:flex;\n",
              "      flex-wrap:wrap;\n",
              "      gap: 12px;\n",
              "    }\n",
              "\n",
              "    .colab-df-convert {\n",
              "      background-color: #E8F0FE;\n",
              "      border: none;\n",
              "      border-radius: 50%;\n",
              "      cursor: pointer;\n",
              "      display: none;\n",
              "      fill: #1967D2;\n",
              "      height: 32px;\n",
              "      padding: 0 0 0 0;\n",
              "      width: 32px;\n",
              "    }\n",
              "\n",
              "    .colab-df-convert:hover {\n",
              "      background-color: #E2EBFA;\n",
              "      box-shadow: 0px 1px 2px rgba(60, 64, 67, 0.3), 0px 1px 3px 1px rgba(60, 64, 67, 0.15);\n",
              "      fill: #174EA6;\n",
              "    }\n",
              "\n",
              "    [theme=dark] .colab-df-convert {\n",
              "      background-color: #3B4455;\n",
              "      fill: #D2E3FC;\n",
              "    }\n",
              "\n",
              "    [theme=dark] .colab-df-convert:hover {\n",
              "      background-color: #434B5C;\n",
              "      box-shadow: 0px 1px 3px 1px rgba(0, 0, 0, 0.15);\n",
              "      filter: drop-shadow(0px 1px 2px rgba(0, 0, 0, 0.3));\n",
              "      fill: #FFFFFF;\n",
              "    }\n",
              "  </style>\n",
              "\n",
              "      <script>\n",
              "        const buttonEl =\n",
              "          document.querySelector('#df-c5180e3c-3e80-41b0-a515-0254661cdd39 button.colab-df-convert');\n",
              "        buttonEl.style.display =\n",
              "          google.colab.kernel.accessAllowed ? 'block' : 'none';\n",
              "\n",
              "        async function convertToInteractive(key) {\n",
              "          const element = document.querySelector('#df-c5180e3c-3e80-41b0-a515-0254661cdd39');\n",
              "          const dataTable =\n",
              "            await google.colab.kernel.invokeFunction('convertToInteractive',\n",
              "                                                     [key], {});\n",
              "          if (!dataTable) return;\n",
              "\n",
              "          const docLinkHtml = 'Like what you see? Visit the ' +\n",
              "            '<a target=\"_blank\" href=https://colab.research.google.com/notebooks/data_table.ipynb>data table notebook</a>'\n",
              "            + ' to learn more about interactive tables.';\n",
              "          element.innerHTML = '';\n",
              "          dataTable['output_type'] = 'display_data';\n",
              "          await google.colab.output.renderOutput(dataTable, element);\n",
              "          const docLink = document.createElement('div');\n",
              "          docLink.innerHTML = docLinkHtml;\n",
              "          element.appendChild(docLink);\n",
              "        }\n",
              "      </script>\n",
              "    </div>\n",
              "  </div>\n",
              "  "
            ]
          },
          "metadata": {},
          "execution_count": 6
        }
      ]
    },
    {
      "cell_type": "code",
      "source": [
        "df.info()"
      ],
      "metadata": {
        "colab": {
          "base_uri": "https://localhost:8080/"
        },
        "id": "OjdTBzpPAMyb",
        "outputId": "a3e9eb9f-eb24-4fac-d2c2-84addb1ccdb7"
      },
      "execution_count": 7,
      "outputs": [
        {
          "output_type": "stream",
          "name": "stdout",
          "text": [
            "<class 'pandas.core.frame.DataFrame'>\n",
            "DatetimeIndex: 2787 entries, 2013-10-01 to 2021-05-18\n",
            "Data columns (total 5 columns):\n",
            " #   Column               Non-Null Count  Dtype  \n",
            "---  ------               --------------  -----  \n",
            " 0   Currency             2787 non-null   object \n",
            " 1   Closing Price (USD)  2787 non-null   float64\n",
            " 2   24h Open (USD)       2787 non-null   float64\n",
            " 3   24h High (USD)       2787 non-null   float64\n",
            " 4   24h Low (USD)        2787 non-null   float64\n",
            "dtypes: float64(4), object(1)\n",
            "memory usage: 130.6+ KB\n"
          ]
        }
      ]
    },
    {
      "cell_type": "code",
      "source": [
        "#How many samples?\n",
        "len(df)"
      ],
      "metadata": {
        "colab": {
          "base_uri": "https://localhost:8080/"
        },
        "id": "WLsttbd4FBvd",
        "outputId": "706be2e2-027b-44a5-a2a4-60bbc6fa23fa"
      },
      "execution_count": 8,
      "outputs": [
        {
          "output_type": "execute_result",
          "data": {
            "text/plain": [
              "2787"
            ]
          },
          "metadata": {},
          "execution_count": 8
        }
      ]
    },
    {
      "cell_type": "code",
      "source": [
        "#Only want closing price for each day\n",
        "\n",
        "bitcoin_prices = pd.DataFrame(df[\"Closing Price (USD)\"]).rename(columns={\"Closing Price (USD)\": \"Price\"})\n",
        "bitcoin_prices.head()"
      ],
      "metadata": {
        "colab": {
          "base_uri": "https://localhost:8080/",
          "height": 237
        },
        "id": "fp7t1cPhFGqQ",
        "outputId": "04d73af3-f633-49fc-bb70-674eabb97ad4"
      },
      "execution_count": 9,
      "outputs": [
        {
          "output_type": "execute_result",
          "data": {
            "text/plain": [
              "                Price\n",
              "Date                 \n",
              "2013-10-01  123.65499\n",
              "2013-10-02  125.45500\n",
              "2013-10-03  108.58483\n",
              "2013-10-04  118.67466\n",
              "2013-10-05  121.33866"
            ],
            "text/html": [
              "\n",
              "  <div id=\"df-4b7da66f-fa53-410c-8e64-9f25179134d7\">\n",
              "    <div class=\"colab-df-container\">\n",
              "      <div>\n",
              "<style scoped>\n",
              "    .dataframe tbody tr th:only-of-type {\n",
              "        vertical-align: middle;\n",
              "    }\n",
              "\n",
              "    .dataframe tbody tr th {\n",
              "        vertical-align: top;\n",
              "    }\n",
              "\n",
              "    .dataframe thead th {\n",
              "        text-align: right;\n",
              "    }\n",
              "</style>\n",
              "<table border=\"1\" class=\"dataframe\">\n",
              "  <thead>\n",
              "    <tr style=\"text-align: right;\">\n",
              "      <th></th>\n",
              "      <th>Price</th>\n",
              "    </tr>\n",
              "    <tr>\n",
              "      <th>Date</th>\n",
              "      <th></th>\n",
              "    </tr>\n",
              "  </thead>\n",
              "  <tbody>\n",
              "    <tr>\n",
              "      <th>2013-10-01</th>\n",
              "      <td>123.65499</td>\n",
              "    </tr>\n",
              "    <tr>\n",
              "      <th>2013-10-02</th>\n",
              "      <td>125.45500</td>\n",
              "    </tr>\n",
              "    <tr>\n",
              "      <th>2013-10-03</th>\n",
              "      <td>108.58483</td>\n",
              "    </tr>\n",
              "    <tr>\n",
              "      <th>2013-10-04</th>\n",
              "      <td>118.67466</td>\n",
              "    </tr>\n",
              "    <tr>\n",
              "      <th>2013-10-05</th>\n",
              "      <td>121.33866</td>\n",
              "    </tr>\n",
              "  </tbody>\n",
              "</table>\n",
              "</div>\n",
              "      <button class=\"colab-df-convert\" onclick=\"convertToInteractive('df-4b7da66f-fa53-410c-8e64-9f25179134d7')\"\n",
              "              title=\"Convert this dataframe to an interactive table.\"\n",
              "              style=\"display:none;\">\n",
              "        \n",
              "  <svg xmlns=\"http://www.w3.org/2000/svg\" height=\"24px\"viewBox=\"0 0 24 24\"\n",
              "       width=\"24px\">\n",
              "    <path d=\"M0 0h24v24H0V0z\" fill=\"none\"/>\n",
              "    <path d=\"M18.56 5.44l.94 2.06.94-2.06 2.06-.94-2.06-.94-.94-2.06-.94 2.06-2.06.94zm-11 1L8.5 8.5l.94-2.06 2.06-.94-2.06-.94L8.5 2.5l-.94 2.06-2.06.94zm10 10l.94 2.06.94-2.06 2.06-.94-2.06-.94-.94-2.06-.94 2.06-2.06.94z\"/><path d=\"M17.41 7.96l-1.37-1.37c-.4-.4-.92-.59-1.43-.59-.52 0-1.04.2-1.43.59L10.3 9.45l-7.72 7.72c-.78.78-.78 2.05 0 2.83L4 21.41c.39.39.9.59 1.41.59.51 0 1.02-.2 1.41-.59l7.78-7.78 2.81-2.81c.8-.78.8-2.07 0-2.86zM5.41 20L4 18.59l7.72-7.72 1.47 1.35L5.41 20z\"/>\n",
              "  </svg>\n",
              "      </button>\n",
              "      \n",
              "  <style>\n",
              "    .colab-df-container {\n",
              "      display:flex;\n",
              "      flex-wrap:wrap;\n",
              "      gap: 12px;\n",
              "    }\n",
              "\n",
              "    .colab-df-convert {\n",
              "      background-color: #E8F0FE;\n",
              "      border: none;\n",
              "      border-radius: 50%;\n",
              "      cursor: pointer;\n",
              "      display: none;\n",
              "      fill: #1967D2;\n",
              "      height: 32px;\n",
              "      padding: 0 0 0 0;\n",
              "      width: 32px;\n",
              "    }\n",
              "\n",
              "    .colab-df-convert:hover {\n",
              "      background-color: #E2EBFA;\n",
              "      box-shadow: 0px 1px 2px rgba(60, 64, 67, 0.3), 0px 1px 3px 1px rgba(60, 64, 67, 0.15);\n",
              "      fill: #174EA6;\n",
              "    }\n",
              "\n",
              "    [theme=dark] .colab-df-convert {\n",
              "      background-color: #3B4455;\n",
              "      fill: #D2E3FC;\n",
              "    }\n",
              "\n",
              "    [theme=dark] .colab-df-convert:hover {\n",
              "      background-color: #434B5C;\n",
              "      box-shadow: 0px 1px 3px 1px rgba(0, 0, 0, 0.15);\n",
              "      filter: drop-shadow(0px 1px 2px rgba(0, 0, 0, 0.3));\n",
              "      fill: #FFFFFF;\n",
              "    }\n",
              "  </style>\n",
              "\n",
              "      <script>\n",
              "        const buttonEl =\n",
              "          document.querySelector('#df-4b7da66f-fa53-410c-8e64-9f25179134d7 button.colab-df-convert');\n",
              "        buttonEl.style.display =\n",
              "          google.colab.kernel.accessAllowed ? 'block' : 'none';\n",
              "\n",
              "        async function convertToInteractive(key) {\n",
              "          const element = document.querySelector('#df-4b7da66f-fa53-410c-8e64-9f25179134d7');\n",
              "          const dataTable =\n",
              "            await google.colab.kernel.invokeFunction('convertToInteractive',\n",
              "                                                     [key], {});\n",
              "          if (!dataTable) return;\n",
              "\n",
              "          const docLinkHtml = 'Like what you see? Visit the ' +\n",
              "            '<a target=\"_blank\" href=https://colab.research.google.com/notebooks/data_table.ipynb>data table notebook</a>'\n",
              "            + ' to learn more about interactive tables.';\n",
              "          element.innerHTML = '';\n",
              "          dataTable['output_type'] = 'display_data';\n",
              "          await google.colab.output.renderOutput(dataTable, element);\n",
              "          const docLink = document.createElement('div');\n",
              "          docLink.innerHTML = docLinkHtml;\n",
              "          element.appendChild(docLink);\n",
              "        }\n",
              "      </script>\n",
              "    </div>\n",
              "  </div>\n",
              "  "
            ]
          },
          "metadata": {},
          "execution_count": 9
        }
      ]
    },
    {
      "cell_type": "code",
      "source": [
        "import matplotlib.pyplot as plt\n",
        "bitcoin_prices.plot(figsize=(10,7))\n",
        "plt.ylabel(\"BTC Price\")\n",
        "plt.title(\"Bitcoin Price from 1 Oct 2013 to 18 May 2021\", fontsize=16)\n",
        "plt.legend(fontsize=14)"
      ],
      "metadata": {
        "colab": {
          "base_uri": "https://localhost:8080/",
          "height": 478
        },
        "id": "RzWc0L4vHxZp",
        "outputId": "6bd28b30-9c26-45d8-9cab-176442e18e0d"
      },
      "execution_count": 10,
      "outputs": [
        {
          "output_type": "execute_result",
          "data": {
            "text/plain": [
              "<matplotlib.legend.Legend at 0x7fc787f8d510>"
            ]
          },
          "metadata": {},
          "execution_count": 10
        },
        {
          "output_type": "display_data",
          "data": {
            "text/plain": [
              "<Figure size 720x504 with 1 Axes>"
            ],
            "image/png": "[encoded data removed]"
          },
          "metadata": {
            "needs_background": "light"
          }
        }
      ]
    },
    {
      "cell_type": "markdown",
      "source": [
        "## Format Data Part 1"
      ],
      "metadata": {
        "id": "K-eHYl9CEqtH"
      }
    },
    {
      "cell_type": "markdown",
      "source": [
        "### Creating train and test splits for Time Series"
      ],
      "metadata": {
        "id": "5LdPpGCvNZWt"
      }
    },
    {
      "cell_type": "code",
      "source": [
        "# Turn DataFrame Index and column into NumPy arrays\n",
        "\n",
        "import numpy as np\n",
        "timesteps = bitcoin_prices.index.to_numpy()\n",
        "prices = bitcoin_prices[\"Price\"].to_numpy()\n",
        "\n",
        "timesteps[:10], prices[:10]"
      ],
      "metadata": {
        "colab": {
          "base_uri": "https://localhost:8080/"
        },
        "id": "-flyZS-nN-3F",
        "outputId": "b650bfec-9cea-4b55-98b2-368be0eccace"
      },
      "execution_count": 11,
      "outputs": [
        {
          "output_type": "execute_result",
          "data": {
            "text/plain": [
              "(array(['2013-10-01T00:00:00.000000000', '2013-10-02T00:00:00.000000000',\n",
              "        '2013-10-03T00:00:00.000000000', '2013-10-04T00:00:00.000000000',\n",
              "        '2013-10-05T00:00:00.000000000', '2013-10-06T00:00:00.000000000',\n",
              "        '2013-10-07T00:00:00.000000000', '2013-10-08T00:00:00.000000000',\n",
              "        '2013-10-09T00:00:00.000000000', '2013-10-10T00:00:00.000000000'],\n",
              "       dtype='datetime64[ns]'),\n",
              " array([123.65499, 125.455  , 108.58483, 118.67466, 121.33866, 120.65533,\n",
              "        121.795  , 123.033  , 124.049  , 125.96116]))"
            ]
          },
          "metadata": {},
          "execution_count": 11
        }
      ]
    },
    {
      "cell_type": "code",
      "source": [
        "# Wrong way to make train/test sets for time series\n",
        "from sklearn.model_selection import train_test_split \n",
        "\n",
        "X_train, X_test, y_train, y_test = train_test_split(timesteps, # dates\n",
        "                                                    prices, # prices\n",
        "                                                    test_size=0.2,\n",
        "                                                    random_state=42)\n",
        "X_train.shape, X_test.shape, y_train.shape, y_test.shape"
      ],
      "metadata": {
        "colab": {
          "base_uri": "https://localhost:8080/"
        },
        "id": "IOjaDLvFILMM",
        "outputId": "9cfb5b64-a2cf-43c9-e309-f9a6185b2e4e"
      },
      "execution_count": 12,
      "outputs": [
        {
          "output_type": "execute_result",
          "data": {
            "text/plain": [
              "((2229,), (558,), (2229,), (558,))"
            ]
          },
          "metadata": {},
          "execution_count": 12
        }
      ]
    },
    {
      "cell_type": "code",
      "source": [
        "# Plotting wrong train and test splits\n",
        "plt.figure(figsize=(10, 7))\n",
        "plt.scatter(X_train, y_train, s=5, label=\"Train data\")\n",
        "plt.scatter(X_test, y_test, s=5, label=\"Test data\")\n",
        "plt.xlabel(\"Date\")\n",
        "plt.ylabel(\"BTC Price\")\n",
        "plt.legend(fontsize=14)\n",
        "plt.show();"
      ],
      "metadata": {
        "colab": {
          "base_uri": "https://localhost:8080/",
          "height": 442
        },
        "id": "1ssCjEzCOrxl",
        "outputId": "835bff24-c938-4dc3-d635-04da6dbed929"
      },
      "execution_count": 13,
      "outputs": [
        {
          "output_type": "display_data",
          "data": {
            "text/plain": [
              "<Figure size 720x504 with 1 Axes>"
            ],
            "image/png": "[encoded data removed]"
          },
          "metadata": {
            "needs_background": "light"
          }
        }
      ]
    },
    {
      "cell_type": "markdown",
      "source": [
        "This kind of random split is okay for datasets without a time component (such as images for classification problems) but for time series, the time factor has to be taken into account.\n",
        "\n",
        "We need to split our historical Bitcoin data to have a dataset that reflects the past (train set) and a dataset that reflects the future (test set)."
      ],
      "metadata": {
        "id": "hxxznUt5O2A3"
      }
    },
    {
      "cell_type": "code",
      "source": [
        "#Create train and test splits the right way for time series data\n",
        "split_size = int(0.8 * len(prices)) # 80% train, 20 % test\n",
        "            \n",
        "#Create train data splits (everything before the split)\n",
        "X_train, y_train = timesteps[:split_size], prices[:split_size]\n",
        "\n",
        "#Create test data splits (everything after the split)\n",
        "X_test, y_test = timesteps[split_size:], prices[split_size:]\n",
        "\n",
        "len(X_train), len(X_test), len(y_train), len(y_test)"
      ],
      "metadata": {
        "colab": {
          "base_uri": "https://localhost:8080/"
        },
        "id": "EjsdfsjcOsL9",
        "outputId": "922342e9-546c-4086-ad17-97f0c2f422b3"
      },
      "execution_count": 14,
      "outputs": [
        {
          "output_type": "execute_result",
          "data": {
            "text/plain": [
              "(2229, 558, 2229, 558)"
            ]
          },
          "metadata": {},
          "execution_count": 14
        }
      ]
    },
    {
      "cell_type": "code",
      "source": [
        " #Plot correctly made splits\n",
        " plt.figure(figsize=(10,7))\n",
        " plt.scatter(X_train, y_train, s=5, label='Train data')\n",
        " plt.scatter(X_test, y_test, s=5, label='Test data')\n",
        " plt.xlabel(\"Date\")\n",
        " plt.ylabel(\"BTC Price\")\n",
        " plt.legend(fontsize=14)\n",
        " plt.show();"
      ],
      "metadata": {
        "colab": {
          "base_uri": "https://localhost:8080/",
          "height": 442
        },
        "id": "ZjuYnF1kPyq2",
        "outputId": "ba8ef6b1-c6d9-4e4c-de0c-823c3c35ec65"
      },
      "execution_count": 15,
      "outputs": [
        {
          "output_type": "display_data",
          "data": {
            "text/plain": [
              "<Figure size 720x504 with 1 Axes>"
            ],
            "image/png": "[encoded data removed]"
          },
          "metadata": {
            "needs_background": "light"
          }
        }
      ]
    },
    {
      "cell_type": "markdown",
      "source": [
        "### Creating a plotting function for time series data"
      ],
      "metadata": {
        "id": "nCdicnOKR-sF"
      }
    },
    {
      "cell_type": "code",
      "source": [
        "# Creating a function to plot time series data\n",
        "\n",
        "def plot_time_series(timesteps, values, format='.', start=0, end=None, label=None):\n",
        "  \"\"\"\n",
        "  Plots a timesteps (a series of points in time) against values (a series of values across timesteps).\n",
        "  \n",
        "  Parameters\n",
        "  ---------\n",
        "  timesteps : array of timesteps\n",
        "  values : array of values across time\n",
        "  format : style of plot, default \".\"\n",
        "  start : where to start the plot (setting a value will index from start of timesteps & values)\n",
        "  end : where to end the plot (setting a value will index from end of timesteps & values)\n",
        "  label : label to show on plot of values\n",
        "  \"\"\"\n",
        "  # Plot the series\n",
        "  plt.plot(timesteps[start:end], values[start:end], format, label=label)\n",
        "  plt.xlabel(\"Time\")\n",
        "  plt.ylabel(\"BTC Price\")\n",
        "  if label:\n",
        "    plt.legend(fontsize=14) # make label bigger\n",
        "  plt.grid(True)"
      ],
      "metadata": {
        "id": "4cE5im9_RjW6"
      },
      "execution_count": 16,
      "outputs": []
    },
    {
      "cell_type": "code",
      "source": [
        "# Try out our plotting function\n",
        "plt.figure(figsize=(10, 7))\n",
        "plot_time_series(timesteps=X_train, values=y_train, label=\"Train data\")\n",
        "plot_time_series(timesteps=X_test, values=y_test, label=\"Test data\")"
      ],
      "metadata": {
        "colab": {
          "base_uri": "https://localhost:8080/",
          "height": 442
        },
        "id": "iP5uCpanT1vU",
        "outputId": "0a40e614-555d-4ac4-bfd0-23e34c646514"
      },
      "execution_count": 17,
      "outputs": [
        {
          "output_type": "display_data",
          "data": {
            "text/plain": [
              "<Figure size 720x504 with 1 Axes>"
            ],
            "image/png": "[encoded data removed]"
          },
          "metadata": {
            "needs_background": "light"
          }
        }
      ]
    },
    {
      "cell_type": "code",
      "source": [
        "from google.colab import drive\n",
        "drive.mount('/content/drive')"
      ],
      "metadata": {
        "colab": {
          "base_uri": "https://localhost:8080/"
        },
        "id": "eotxQI8XI5h5",
        "outputId": "a38be3b5-6c0f-41fd-bb17-61c786244f27"
      },
      "execution_count": 18,
      "outputs": [
        {
          "output_type": "stream",
          "name": "stdout",
          "text": [
            "Drive already mounted at /content/drive; to attempt to forcibly remount, call drive.mount(\"/content/drive\", force_remount=True).\n"
          ]
        }
      ]
    },
    {
      "cell_type": "markdown",
      "source": [
        "# Modelling Experiments"
      ],
      "metadata": {
        "id": "JURD8u4cZHh7"
      }
    },
    {
      "cell_type": "markdown",
      "source": [
        "\n",
        "Bitcoin historical data is given, to model it, I'll run a series of modelling experiments and see which model performs best.\n",
        "\n",
        "Terms to be familiar with:\n",
        "\n",
        "* **Horizon** = number of timesteps into the future that are going to be predicted\n",
        "* **Window size** = number of timesteps that are going to be used to predict horizon\n",
        "Modelling experiments:\n",
        "\n",
        "* 0 Naïve model (baseline)\n",
        "* 1 Dense model, horizon = 1, window = 7\n",
        "* 2 Same as 1, horizon = 1, window = 30\n",
        "* 3 Same as 1, horizon = 7, window = 30\n",
        "* 4 LSTM\n",
        "* 5 Ensemble (multiple models optimized on different loss functions)\n",
        "* 6 Same as 1 (but with turkey data introduced)"
      ],
      "metadata": {
        "id": "169s7m0XZEf_"
      }
    },
    {
      "cell_type": "markdown",
      "source": [
        "## Model 0: Naive Forecast Model"
      ],
      "metadata": {
        "id": "uF5mFG6RuK0Z"
      }
    },
    {
      "cell_type": "markdown",
      "source": [
        "The prediction at timestep t (y-hat) is equal to the value at timestep t-1 (previous timestep) : (this is for a horizon=1)"
      ],
      "metadata": {
        "id": "Z_Xf-cXp5MSs"
      }
    },
    {
      "cell_type": "code",
      "source": [
        "  #Creating a Naive Forecast\n",
        "\n",
        "  naive_forecast = y_test[:-1] #offsetting y_test by 1\n",
        "\n",
        "  naive_forecast[:10], naive_forecast[-10:]"
      ],
      "metadata": {
        "id": "zCyaiYf6U4YQ",
        "colab": {
          "base_uri": "https://localhost:8080/"
        },
        "outputId": "aea4ef95-2fe8-4130-da59-63110961f84d"
      },
      "execution_count": 19,
      "outputs": [
        {
          "output_type": "execute_result",
          "data": {
            "text/plain": [
              "(array([9226.485821, 8794.358645, 8798.042055, 9081.186878, 8711.534339,\n",
              "        8760.892718, 8749.520591, 8656.970922, 8500.643558, 8469.260899]),\n",
              " array([57107.12067, 58788.20968, 58102.19143, 55715.54665, 56573.55547,\n",
              "        52147.82119, 49764.13208, 50032.69314, 47885.62525, 45604.61575]))"
            ]
          },
          "metadata": {},
          "execution_count": 19
        }
      ]
    },
    {
      "cell_type": "code",
      "source": [
        "# Plot naive forecast\n",
        "plt.figure(figsize=(10,7))\n",
        "# plot_time_series(timesteps = X_train, values = y_train, label=\"Train Data\")\n",
        "plot_time_series(timesteps = X_test, values = y_test, start=350, format=\"-\", label=\"Test Data\")\n",
        "plot_time_series(timesteps = X_test[1:], values = naive_forecast, start=350, format =\"-\", label=\"Naive Forecast\")"
      ],
      "metadata": {
        "colab": {
          "base_uri": "https://localhost:8080/",
          "height": 442
        },
        "id": "r1aC6Plp6Jkt",
        "outputId": "89015fc0-9f1a-4c1c-f43b-32759d188cfe"
      },
      "execution_count": 20,
      "outputs": [
        {
          "output_type": "display_data",
          "data": {
            "text/plain": [
              "<Figure size 720x504 with 1 Axes>"
            ],
            "image/png": "[encoded data removed]"
          },
          "metadata": {
            "needs_background": "light"
          }
        }
      ]
    },
    {
      "cell_type": "markdown",
      "source": [
        "## Evaluating a time series model\n",
        "\n",
        "In the end a number has to be predicted, that means it is a regression problem, so, some regression-like metrics are needed.\n",
        "\n",
        "A few common regression metrics (which can also be used for time series forecasting):\n",
        "* MAE - mean absolute error\n",
        "* MSE - mean squared error\n",
        "* RMSE - root mean square error\n",
        "* MAPE/sMAPE - (symmetric) mean absolute percentage error\n",
        "* MASE - mean absolute scaled error\n",
        "\n",
        "For all of the above metrics, **lower is better**, for example, an MAE of 0 that is better than an MAE of 100.\n",
        "\n",
        "The main thing to evaluate here is: **how do our model's forecasts (y_pred) compare against the actual values (y_true or ground truth values)?**\n"
      ],
      "metadata": {
        "id": "hdAjGL_79EKy"
      }
    },
    {
      "cell_type": "code",
      "source": [
        "import tensorflow as tf"
      ],
      "metadata": {
        "id": "u4yqG82A7can"
      },
      "execution_count": 21,
      "outputs": []
    },
    {
      "cell_type": "code",
      "source": [
        "# MASE Implementation since it is not in the tf.keras.metrics class\n",
        "# Seasonality is a characteristic of a time series in which the data experiences regular and predictable changes that recur every calendar year.\n",
        "\n",
        "def mean_absolute_scaled_error(y_true, y_pred):\n",
        "  \"\"\"\n",
        "  Implement MASE (assuming no seasonality of data).\n",
        "  \"\"\"\n",
        "  mae = tf.reduce_mean(tf.abs(y_true - y_pred))\n",
        "\n",
        "  # Find MAE of naive forecast (no seasonality)\n",
        "  mae_naive_no_season = tf.reduce_mean(tf.abs(y_true[1:] - y_true[:-1])) # our seasonality is 1 day (hence the shifting of 1 day)\n",
        "\n",
        "  return mae / mae_naive_no_season"
      ],
      "metadata": {
        "id": "wfc_yJs89DIF"
      },
      "execution_count": 22,
      "outputs": []
    },
    {
      "cell_type": "code",
      "source": [
        "mean_absolute_scaled_error(y_true = y_test[1:], y_pred=naive_forecast).numpy()"
      ],
      "metadata": {
        "colab": {
          "base_uri": "https://localhost:8080/"
        },
        "id": "A1u28Hs1lpRS",
        "outputId": "8e7fcb9a-3fd9-4f06-f9fc-8fa537ef127f"
      },
      "execution_count": 23,
      "outputs": [
        {
          "output_type": "execute_result",
          "data": {
            "text/plain": [
              "0.9995699939172406"
            ]
          },
          "metadata": {},
          "execution_count": 23
        }
      ]
    },
    {
      "cell_type": "markdown",
      "source": [
        "Above it can be seen that MASE for Naive Forecast is almost 1, which should be the case for Naive Forecast"
      ],
      "metadata": {
        "id": "q28elSBpmdVj"
      }
    },
    {
      "cell_type": "markdown",
      "source": [
        "In practice, if the function is correct, the naïve model should achieve an MASE of 1 (or very close to 1). Any model worse than the naïve forecast will achieve an MASE of >1 and any model better than the naïve forecast will achieve an MASE of <1."
      ],
      "metadata": {
        "id": "_7ynX9hWrnnh"
      }
    },
    {
      "cell_type": "markdown",
      "source": [
        "Putting each different evaluation metrics together into a function."
      ],
      "metadata": {
        "id": "YGvr-rHlrsdZ"
      }
    },
    {
      "cell_type": "code",
      "source": [
        "y_test[0].dtype"
      ],
      "metadata": {
        "colab": {
          "base_uri": "https://localhost:8080/"
        },
        "id": "8QlNs9gCnZGJ",
        "outputId": "5656d7ea-209a-471e-e77a-b717560aef34"
      },
      "execution_count": 24,
      "outputs": [
        {
          "output_type": "execute_result",
          "data": {
            "text/plain": [
              "dtype('float64')"
            ]
          },
          "metadata": {},
          "execution_count": 24
        }
      ]
    },
    {
      "cell_type": "code",
      "source": [
        "def evaluate_preds(y_true, y_pred):\n",
        "  # Make sure float32 (for metric calculations), if not in float32 tensorflow sometimes gives errors\n",
        "  y_true = tf.cast(y_true, dtype=tf.float32)\n",
        "  y_pred = tf.cast(y_pred, dtype=tf.float32)\n",
        "\n",
        "  # Calculate various metrics\n",
        "  mae = tf.keras.metrics.mean_absolute_error(y_true, y_pred)\n",
        "  mse = tf.keras.metrics.mean_squared_error(y_true, y_pred) # puts and emphasis on outliers (all errors get squared)\n",
        "  rmse = tf.sqrt(mse)\n",
        "  mape = tf.keras.metrics.mean_absolute_percentage_error(y_true, y_pred)\n",
        "  mase = mean_absolute_scaled_error(y_true, y_pred)\n",
        "  \n",
        "  return {\"mae\": mae.numpy(),\n",
        "          \"mse\": mse.numpy(),\n",
        "          \"rmse\": rmse.numpy(),\n",
        "          \"mape\": mape.numpy(),\n",
        "          \"mase\": mase.numpy()}"
      ],
      "metadata": {
        "id": "2sgVJrot_17v"
      },
      "execution_count": 25,
      "outputs": []
    },
    {
      "cell_type": "code",
      "source": [
        "# Testing function \n",
        "\n",
        "naive_results = evaluate_preds(y_true=y_test[1:], y_pred=naive_forecast)\n",
        "\n",
        "naive_results"
      ],
      "metadata": {
        "colab": {
          "base_uri": "https://localhost:8080/"
        },
        "id": "KbKM4CgZusWy",
        "outputId": "c4b61f1f-5b9d-4162-f51f-3838985dbce9"
      },
      "execution_count": 26,
      "outputs": [
        {
          "output_type": "execute_result",
          "data": {
            "text/plain": [
              "{'mae': 567.9802,\n",
              " 'mape': 2.516525,\n",
              " 'mase': 0.99957,\n",
              " 'mse': 1147547.0,\n",
              " 'rmse': 1071.2362}"
            ]
          },
          "metadata": {},
          "execution_count": 26
        }
      ]
    },
    {
      "cell_type": "code",
      "source": [
        "# Find average price of bitcoin\n",
        "\n",
        "tf.reduce_mean(y_test).numpy()"
      ],
      "metadata": {
        "colab": {
          "base_uri": "https://localhost:8080/"
        },
        "id": "OIzF7N0VwIlZ",
        "outputId": "ff9f4ce7-c182-4203-cdd6-6a2e3bf0c522"
      },
      "execution_count": 27,
      "outputs": [
        {
          "output_type": "execute_result",
          "data": {
            "text/plain": [
              "20056.632963623655"
            ]
          },
          "metadata": {},
          "execution_count": 27
        }
      ]
    },
    {
      "cell_type": "markdown",
      "source": [
        "- Here we can see that the average price of bitcoin in test dateset is 20,056 dollars\n",
        "- So, we can say that on an average each prediction in naive forecast is off by 567.98 dollars"
      ],
      "metadata": {
        "id": "fcXXBVDBx5tZ"
      }
    },
    {
      "cell_type": "markdown",
      "source": [
        "## Format Data Part 2: Windowing Dataset\n",
        "\n",
        "\n",
        "Windowing is a method to turn a time series dataset into supervised learning problem.\n",
        "\n",
        "\n",
        "Window for one week with the target of predicting the next day (Bitcoin prices)\n",
        "\n",
        "- [123.654, 125.455, 108.584, 118.674, 121.338, 120.655, 121.795] -> [123.033]\n",
        "- [125.455, 108.584, 118.674, 121.338, 120.655, 121.795, 123.033] -> [124.049]\n",
        "- [108.584, 118.674, 121.338, 120.655, 121.795, 123.033, 124.049] -> [125.961]"
      ],
      "metadata": {
        "id": "nF19FaSB0xE2"
      }
    },
    {
      "cell_type": "code",
      "source": [
        "# Setting up global variables\n",
        "HORIZON = 1 # predict one step at a time\n",
        "WINDOW_SIZE = 7 # use one week worth of timesteps to predict the horizon"
      ],
      "metadata": {
        "id": "HgwlFrovx4wf"
      },
      "execution_count": 28,
      "outputs": []
    },
    {
      "cell_type": "markdown",
      "source": [
        "Writing a function to take in an array and turn it into a window and horizon."
      ],
      "metadata": {
        "id": "DMZcCts22sAz"
      }
    },
    {
      "cell_type": "code",
      "source": [
        "# Create a function to label windowed data  \n",
        "def get_labelled_windows(x, horizon=1):\n",
        "\n",
        "  \"\"\"\n",
        "  Creates labels for windowed dataset.\n",
        "\n",
        "  E.g. if horizon=1 (default)\n",
        "  Input: [1, 2, 3, 4, 5, 6] -> Output: ([1, 2, 3, 4, 5], [6])\n",
        "  \"\"\"\n",
        "  return x[:, :-horizon], x[:, -horizon:]\n",
        "  "
      ],
      "metadata": {
        "id": "z0p69DL32rY7"
      },
      "execution_count": 29,
      "outputs": []
    },
    {
      "cell_type": "code",
      "source": [
        "# Testing out the window labelling function\n",
        "\n",
        "test_window, test_label = get_labelled_windows(tf.expand_dims(tf.range(8)+1, axis=0))\n",
        "test_window, test_label\n",
        "print(f\"Window: {tf.squeeze(test_window).numpy()} -> Label:  {tf.squeeze(test_label).numpy()} \")"
      ],
      "metadata": {
        "colab": {
          "base_uri": "https://localhost:8080/"
        },
        "id": "encnnV3ksjAZ",
        "outputId": "23c90fe8-644a-4d6e-deaa-d8f38da1d743"
      },
      "execution_count": 30,
      "outputs": [
        {
          "output_type": "stream",
          "name": "stdout",
          "text": [
            "Window: [1 2 3 4 5 6 7] -> Label:  8 \n"
          ]
        }
      ]
    },
    {
      "cell_type": "markdown",
      "source": [
        "Function to make windows for an entire time series:\n",
        "\n",
        "1. Creates a window step of specific window size, for example: [[0, 1, 2, 3, 4, 5, 6, 7]]\n",
        "2. Uses NumPy indexing to create a 2D of multiple window steps, for example:\n",
        "```\n",
        "  - [[0, 1, 2, 3, 4, 5, 6, 7],\n",
        "  - [1, 2, 3, 4, 5, 6, 7, 8],\n",
        "  - [2, 3, 4, 5, 6, 7, 8, 9]]\n",
        "```\n",
        "3. Uses the 2D array of multiple window steps (from 2.) to index on a target series (e.g. historical price of bitcoin)\n",
        "4. Use the get_labelled_windows() function created above to turn the window steps into windows with a specified horizon"
      ],
      "metadata": {
        "id": "HSM-emnm3jSF"
      }
    },
    {
      "cell_type": "code",
      "source": [
        "# Create a function to view numpy arrays as windows\n",
        "\n",
        "def make_windows(x, window_size=WINDOW_SIZE, horizon = HORIZON):\n",
        "  \"\"\"\n",
        "  Turns a 1D array into a 2D array of sequential lebelled windows of window_size\n",
        "  \"\"\"\n",
        "  # 1. Create a window of a specific window_size (add the horizon on the end for labelling later)\n",
        "  window_step = np.expand_dims(np.arange(window_size+horizon), axis = 0)\n",
        "  print(f\"Window step:\\n  {window_step}\")\n",
        "\n",
        "  # 2. Create a 2D array of windows of window_size (minus 1 to account for 0 indexing) using numpy indexing\n",
        "  window_indexes = window_step + np.expand_dims(np.arange(len(x) - (window_size+horizon-1)), axis=0).T\n",
        "  print(f\"Window indexes:\\n {window_indexes[:3], window_indexes[-3:], window_indexes.shape}\")\n",
        "\n",
        "  # 3. Index on target array (time series) with 2D array of multiple window steps\n",
        "  windowed_array = x[window_indexes]\n",
        "  print(f\"Windowed array:\\n {windowed_array}\")\n",
        "\n",
        "  # 4. Get the labelled windows\n",
        "  windows, labels = get_labelled_windows(windowed_array, horizon=horizon)\n",
        "\n",
        "  return windows, labels\n",
        "  \n"
      ],
      "metadata": {
        "id": "SEouwtaQ3J-W"
      },
      "execution_count": 31,
      "outputs": []
    },
    {
      "cell_type": "code",
      "source": [
        "full_windows, full_labels = make_windows(prices, window_size = WINDOW_SIZE, horizon = HORIZON)\n",
        "print(f\"Lenght of full windows: {len(full_windows)} \\nLength of full labels: {len(full_labels)}\")\n",
        "len(prices)"
      ],
      "metadata": {
        "colab": {
          "base_uri": "https://localhost:8080/"
        },
        "id": "VrtyKH1Q9jwc",
        "outputId": "172a3a18-3b0c-499e-9cdb-05652ce5492b"
      },
      "execution_count": 32,
      "outputs": [
        {
          "output_type": "stream",
          "name": "stdout",
          "text": [
            "Window step:\n",
            "  [[0 1 2 3 4 5 6 7]]\n",
            "Window indexes:\n",
            " (array([[0, 1, 2, 3, 4, 5, 6, 7],\n",
            "       [1, 2, 3, 4, 5, 6, 7, 8],\n",
            "       [2, 3, 4, 5, 6, 7, 8, 9]]), array([[2777, 2778, 2779, 2780, 2781, 2782, 2783, 2784],\n",
            "       [2778, 2779, 2780, 2781, 2782, 2783, 2784, 2785],\n",
            "       [2779, 2780, 2781, 2782, 2783, 2784, 2785, 2786]]), (2780, 8))\n",
            "Windowed array:\n",
            " [[  123.65499   125.455     108.58483 ...   120.65533   121.795\n",
            "    123.033  ]\n",
            " [  125.455     108.58483   118.67466 ...   121.795     123.033\n",
            "    124.049  ]\n",
            " [  108.58483   118.67466   121.33866 ...   123.033     124.049\n",
            "    125.96116]\n",
            " ...\n",
            " [58788.20968 58102.19143 55715.54665 ... 49764.13208 50032.69314\n",
            "  47885.62525]\n",
            " [58102.19143 55715.54665 56573.55547 ... 50032.69314 47885.62525\n",
            "  45604.61575]\n",
            " [55715.54665 56573.55547 52147.82119 ... 47885.62525 45604.61575\n",
            "  43144.47129]]\n",
            "Lenght of full windows: 2780 \n",
            "Length of full labels: 2780\n"
          ]
        },
        {
          "output_type": "execute_result",
          "data": {
            "text/plain": [
              "2787"
            ]
          },
          "metadata": {},
          "execution_count": 32
        }
      ]
    },
    {
      "cell_type": "code",
      "source": [
        "# View the first 3 windows/labels\n",
        "\n",
        "for i in range(3):\n",
        "  print(f\"Window: {full_windows[i]} -> Label: {full_labels[i]}\")"
      ],
      "metadata": {
        "colab": {
          "base_uri": "https://localhost:8080/"
        },
        "id": "vqPYuGnJzSxH",
        "outputId": "24bba701-fafc-4d1e-81e7-3c4dc18cf49d"
      },
      "execution_count": 33,
      "outputs": [
        {
          "output_type": "stream",
          "name": "stdout",
          "text": [
            "Window: [123.65499 125.455   108.58483 118.67466 121.33866 120.65533 121.795  ] -> Label: [123.033]\n",
            "Window: [125.455   108.58483 118.67466 121.33866 120.65533 121.795   123.033  ] -> Label: [124.049]\n",
            "Window: [108.58483 118.67466 121.33866 120.65533 121.795   123.033   124.049  ] -> Label: [125.96116]\n"
          ]
        }
      ]
    },
    {
      "cell_type": "code",
      "source": [
        "prices[:15]"
      ],
      "metadata": {
        "colab": {
          "base_uri": "https://localhost:8080/"
        },
        "id": "TWJOzmSY3J0c",
        "outputId": "219ca1cf-bade-4e6e-a11d-7d315a60963b"
      },
      "execution_count": 34,
      "outputs": [
        {
          "output_type": "execute_result",
          "data": {
            "text/plain": [
              "array([123.65499, 125.455  , 108.58483, 118.67466, 121.33866, 120.65533,\n",
              "       121.795  , 123.033  , 124.049  , 125.96116, 125.27966, 125.9275 ,\n",
              "       126.38333, 135.24199, 133.20333])"
            ]
          },
          "metadata": {},
          "execution_count": 34
        }
      ]
    },
    {
      "cell_type": "code",
      "source": [
        "# View the last 3 windows/labels\n",
        "\n",
        "for i in range(3):\n",
        "  print(f\"Window: {full_windows[i-3]} -> Label: {full_labels[i-3]}\")"
      ],
      "metadata": {
        "colab": {
          "base_uri": "https://localhost:8080/"
        },
        "id": "7NKAUc0B3Vya",
        "outputId": "200ccb76-d2d8-4f40-d1c5-ab6395064e1e"
      },
      "execution_count": 35,
      "outputs": [
        {
          "output_type": "stream",
          "name": "stdout",
          "text": [
            "Window: [58788.20968 58102.19143 55715.54665 56573.55547 52147.82119 49764.13208\n",
            " 50032.69314] -> Label: [47885.62525]\n",
            "Window: [58102.19143 55715.54665 56573.55547 52147.82119 49764.13208 50032.69314\n",
            " 47885.62525] -> Label: [45604.61575]\n",
            "Window: [55715.54665 56573.55547 52147.82119 49764.13208 50032.69314 47885.62525\n",
            " 45604.61575] -> Label: [43144.47129]\n"
          ]
        }
      ]
    },
    {
      "cell_type": "code",
      "source": [
        "prices[-15:]"
      ],
      "metadata": {
        "colab": {
          "base_uri": "https://localhost:8080/"
        },
        "id": "JX7DNmDB3436",
        "outputId": "7b758043-053c-49ed-c879-9c636577eb8f"
      },
      "execution_count": 36,
      "outputs": [
        {
          "output_type": "execute_result",
          "data": {
            "text/plain": [
              "array([57255.30684, 53658.84312, 57252.70218, 56583.84988, 57107.12067,\n",
              "       58788.20968, 58102.19143, 55715.54665, 56573.55547, 52147.82119,\n",
              "       49764.13208, 50032.69314, 47885.62525, 45604.61575, 43144.47129])"
            ]
          },
          "metadata": {},
          "execution_count": 36
        }
      ]
    },
    {
      "cell_type": "markdown",
      "source": [
        "## Turning windows into training and test tests\n",
        "\n"
      ],
      "metadata": {
        "id": "dtkM0K1k4JMj"
      }
    },
    {
      "cell_type": "code",
      "source": [
        "# Make the test/train splits\n",
        "def make_train_test_splits(windows, labels, test_split=0.2):\n",
        "  \"\"\"\n",
        "  Splits, matching pairs of windows and labels into train and test splits\n",
        "  \"\"\"\n",
        "  split_size = int(len(windows) * (1-test_split)) # this will default to 80% train and 20% test\n",
        "  #print(split_size)\n",
        "  train_windows = windows[:split_size]\n",
        "  train_labels = labels[:split_size]\n",
        "  test_windows = windows[split_size:]\n",
        "  test_labels = labels[split_size:]\n",
        "\n",
        "  return train_windows, test_windows, train_labels, test_labels"
      ],
      "metadata": {
        "id": "OCv3e1I64AkR"
      },
      "execution_count": 37,
      "outputs": []
    },
    {
      "cell_type": "code",
      "source": [
        "# Create train and test windows\n",
        "train_windows, test_windows, train_labels, test_labels = make_train_test_splits(full_windows, full_labels)\n",
        "len(train_windows), len(test_windows), len(train_labels), len(test_labels)\n"
      ],
      "metadata": {
        "colab": {
          "base_uri": "https://localhost:8080/"
        },
        "id": "bS0sZ0je6CUZ",
        "outputId": "1869b4d0-067a-4e0c-a580-606e3b598441"
      },
      "execution_count": 38,
      "outputs": [
        {
          "output_type": "execute_result",
          "data": {
            "text/plain": [
              "(2224, 556, 2224, 556)"
            ]
          },
          "metadata": {},
          "execution_count": 38
        }
      ]
    },
    {
      "cell_type": "code",
      "source": [
        "len(full_windows) * 0.8"
      ],
      "metadata": {
        "colab": {
          "base_uri": "https://localhost:8080/"
        },
        "id": "9se3s7dv65Vv",
        "outputId": "574a5771-9b21-4c1a-f39a-17083b131210"
      },
      "execution_count": 39,
      "outputs": [
        {
          "output_type": "execute_result",
          "data": {
            "text/plain": [
              "2224.0"
            ]
          },
          "metadata": {},
          "execution_count": 39
        }
      ]
    },
    {
      "cell_type": "code",
      "source": [
        "train_windows[:5], train_labels[:5]"
      ],
      "metadata": {
        "colab": {
          "base_uri": "https://localhost:8080/"
        },
        "id": "-x6PZxDv7MJR",
        "outputId": "8593e157-0979-4428-a4c3-762a25098ca7"
      },
      "execution_count": 40,
      "outputs": [
        {
          "output_type": "execute_result",
          "data": {
            "text/plain": [
              "(array([[123.65499, 125.455  , 108.58483, 118.67466, 121.33866, 120.65533,\n",
              "         121.795  ],\n",
              "        [125.455  , 108.58483, 118.67466, 121.33866, 120.65533, 121.795  ,\n",
              "         123.033  ],\n",
              "        [108.58483, 118.67466, 121.33866, 120.65533, 121.795  , 123.033  ,\n",
              "         124.049  ],\n",
              "        [118.67466, 121.33866, 120.65533, 121.795  , 123.033  , 124.049  ,\n",
              "         125.96116],\n",
              "        [121.33866, 120.65533, 121.795  , 123.033  , 124.049  , 125.96116,\n",
              "         125.27966]]), array([[123.033  ],\n",
              "        [124.049  ],\n",
              "        [125.96116],\n",
              "        [125.27966],\n",
              "        [125.9275 ]]))"
            ]
          },
          "metadata": {},
          "execution_count": 40
        }
      ]
    },
    {
      "cell_type": "code",
      "source": [
        "test_windows[:5], test_labels[:5]"
      ],
      "metadata": {
        "colab": {
          "base_uri": "https://localhost:8080/"
        },
        "id": "bm2LlcSC7VoJ",
        "outputId": "3d3b1811-f980-4108-bb97-08d0b5197728"
      },
      "execution_count": 41,
      "outputs": [
        {
          "output_type": "execute_result",
          "data": {
            "text/plain": [
              "(array([[9290.896602, 9202.415451, 9369.628081, 9326.599624, 9335.752402,\n",
              "         9226.485821, 8794.358645],\n",
              "        [9202.415451, 9369.628081, 9326.599624, 9335.752402, 9226.485821,\n",
              "         8794.358645, 8798.042055],\n",
              "        [9369.628081, 9326.599624, 9335.752402, 9226.485821, 8794.358645,\n",
              "         8798.042055, 9081.186878],\n",
              "        [9326.599624, 9335.752402, 9226.485821, 8794.358645, 8798.042055,\n",
              "         9081.186878, 8711.534339],\n",
              "        [9335.752402, 9226.485821, 8794.358645, 8798.042055, 9081.186878,\n",
              "         8711.534339, 8760.892718]]), array([[8798.042055],\n",
              "        [9081.186878],\n",
              "        [8711.534339],\n",
              "        [8760.892718],\n",
              "        [8749.520591]]))"
            ]
          },
          "metadata": {},
          "execution_count": 41
        }
      ]
    },
    {
      "cell_type": "code",
      "source": [
        "# Check to see if train labels are the same (before and after the window split)\n",
        "\n",
        "np.array_equal(np.squeeze(train_labels[:-HORIZON-1]), y_train[WINDOW_SIZE:])"
      ],
      "metadata": {
        "colab": {
          "base_uri": "https://localhost:8080/"
        },
        "id": "mxbKb8457bKj",
        "outputId": "93563752-8860-43f4-8f05-caf89aa7e1f7"
      },
      "execution_count": 42,
      "outputs": [
        {
          "output_type": "execute_result",
          "data": {
            "text/plain": [
              "True"
            ]
          },
          "metadata": {},
          "execution_count": 42
        }
      ]
    },
    {
      "cell_type": "markdown",
      "source": [
        "## Make a Modelling Checkpoint\n",
        "\n",
        "Because the model's performance will fluctuate from experiment to experiment, the comparison should be done in a way in which each model's best performance is compared against each model's best performance.\n",
        "\n",
        "For example, if ```model_1``` performed incredibly well on epoch 55 but its performance fell off toward epoch 100, I want the version of the model from epoch 55 to compare to other models rather than the version of the model from epoch 100.\n",
        "\n",
        "For this: implementing a ```ModelCheckpoint``` callback."
      ],
      "metadata": {
        "id": "Ey9GOIT18eyw"
      }
    },
    {
      "cell_type": "code",
      "source": [
        "import os\n",
        "\n",
        "# Create a function to implement a ModelCheckPoint callback with a specific filename\n",
        "def create_model_checkpoint(model_name, save_path = \"/content/drive/MyDrive/BTC Predictor/model_experiments\"):\n",
        "   return tf.keras.callbacks.ModelCheckpoint(filepath=os.path.join(save_path, model_name), \n",
        "                                             monitor = 'val_loss', \n",
        "                                             verbose=0, # only output a limited amount of text,\n",
        "                                             save_best_only = True) "
      ],
      "metadata": {
        "id": "e5YMs1SU8PYD"
      },
      "execution_count": 43,
      "outputs": []
    },
    {
      "cell_type": "markdown",
      "source": [
        "## Model 1: Dense Model (window =7, horizon =1)\n",
        "\n",
        "* A single dense layer with 128 units and ReLu\n",
        "* An output layer with linear activation (no activation) - (here don't use softmax function as we only to predict a number)\n",
        "* Adam optimization and MAE Loss function \n",
        "* And as dataset is small we'll use a batch size of 128 and 100 epochs \n",
        "\n",
        "***\n",
        "* We add a Dense layer of 128 neurons (each neuron is connected to each neuron in previous and next dense layers)\n",
        "* In a neural network, the activation function is responsible for transforming the summed weighted input from the node into the activation of the node or output for that input.\n",
        "* The rectified linear activation (ReLu) function or ReLU is a piecewise linear function that will output the input directly if it is positive, otherwise, it will output zero."
      ],
      "metadata": {
        "id": "dOvvz3WHneib"
      }
    },
    {
      "cell_type": "code",
      "source": [
        "import tensorflow as tf\n",
        "from tensorflow.keras import layers\n",
        "\n",
        "# Set random seed for as reproducible results as possible\n",
        "tf.random.set_seed(42)\n",
        "\n",
        "# 1. Construct model\n",
        "model_1 = tf.keras.Sequential([\n",
        "    layers.Dense(128, activation = \"relu\"), \n",
        "    layers.Dense(HORIZON, activation = \"linear\")],   # here HORIZON = 1 which is our output neuron, linear activation is the same as having no activation\n",
        "    name = \"model_1_dense\")                          # name our model so we can save it\n",
        "\n",
        "# 2. Compile model\n",
        "model_1.compile(loss = \"mae\", \n",
        "                optimizer = tf.keras.optimizers.Adam(),\n",
        "                metrics = [\"mae\", \"mse\"]\n",
        "                 )\n",
        "# 3. Fit model\n",
        "model_1.fit(x= train_windows,\n",
        "            y= train_labels,\n",
        "            epochs = 100,\n",
        "            verbose = 1, # as we don't want to print much data\n",
        "            batch_size=128  , \n",
        "            validation_data = [test_windows, test_labels], # after fitting training data\n",
        "            callbacks = [create_model_checkpoint(model_1.name)]\n",
        "            )\n"
      ],
      "metadata": {
        "colab": {
          "base_uri": "https://localhost:8080/"
        },
        "id": "KktSl-5r-Otc",
        "outputId": "68438c6a-2b55-494b-c9d0-cb26912ddfce"
      },
      "execution_count": 44,
      "outputs": [
        {
          "output_type": "stream",
          "name": "stdout",
          "text": [
            "Epoch 1/100\n",
            " 1/18 [>.............................] - ETA: 46s - loss: 2111.0571 - mae: 2111.0571 - mse: 9255782.0000INFO:tensorflow:Assets written to: /content/drive/MyDrive/BTC Predictor/model_experiments/model_1_dense/assets\n",
            "18/18 [==============================] - 3s 45ms/step - loss: 780.3455 - mae: 780.3455 - mse: 2312725.7500 - val_loss: 2279.6528 - val_mae: 2279.6528 - val_mse: 12772731.0000\n",
            "Epoch 2/100\n",
            " 1/18 [>.............................] - ETA: 0s - loss: 348.8859 - mae: 348.8859 - mse: 600802.6250INFO:tensorflow:Assets written to: /content/drive/MyDrive/BTC Predictor/model_experiments/model_1_dense/assets\n",
            "18/18 [==============================] - 1s 29ms/step - loss: 247.6756 - mae: 247.6756 - mse: 285481.1875 - val_loss: 1005.9993 - val_mae: 1005.9993 - val_mse: 3441833.2500\n",
            "Epoch 3/100\n",
            " 1/18 [>.............................] - ETA: 0s - loss: 134.4855 - mae: 134.4855 - mse: 70765.6953INFO:tensorflow:Assets written to: /content/drive/MyDrive/BTC Predictor/model_experiments/model_1_dense/assets\n",
            "18/18 [==============================] - 0s 28ms/step - loss: 188.4116 - mae: 188.4116 - mse: 171891.6094 - val_loss: 923.2862 - val_mae: 923.2861 - val_mse: 2868220.7500\n",
            "Epoch 4/100\n",
            " 1/18 [>.............................] - ETA: 0s - loss: 211.3724 - mae: 211.3724 - mse: 238018.8906INFO:tensorflow:Assets written to: /content/drive/MyDrive/BTC Predictor/model_experiments/model_1_dense/assets\n",
            "18/18 [==============================] - 2s 108ms/step - loss: 169.4340 - mae: 169.4340 - mse: 151700.5781 - val_loss: 900.5872 - val_mae: 900.5872 - val_mse: 2683715.5000\n",
            "Epoch 5/100\n",
            "15/18 [========================>.....] - ETA: 0s - loss: 168.5602 - mae: 168.5602 - mse: 153500.3281INFO:tensorflow:Assets written to: /content/drive/MyDrive/BTC Predictor/model_experiments/model_1_dense/assets\n",
            "18/18 [==============================] - 1s 40ms/step - loss: 165.0894 - mae: 165.0894 - mse: 145490.7812 - val_loss: 895.2237 - val_mae: 895.2237 - val_mse: 2564574.5000\n",
            "Epoch 6/100\n",
            " 1/18 [>.............................] - ETA: 0s - loss: 117.3681 - mae: 117.3681 - mse: 55147.0820INFO:tensorflow:Assets written to: /content/drive/MyDrive/BTC Predictor/model_experiments/model_1_dense/assets\n",
            "18/18 [==============================] - 0s 29ms/step - loss: 158.5210 - mae: 158.5210 - mse: 133817.7344 - val_loss: 855.1984 - val_mae: 855.1984 - val_mse: 2481873.2500\n",
            "Epoch 7/100\n",
            " 1/18 [>.............................] - ETA: 0s - loss: 180.3349 - mae: 180.3349 - mse: 241586.4219INFO:tensorflow:Assets written to: /content/drive/MyDrive/BTC Predictor/model_experiments/model_1_dense/assets\n",
            "18/18 [==============================] - 1s 30ms/step - loss: 151.3566 - mae: 151.3566 - mse: 123446.9766 - val_loss: 840.9166 - val_mae: 840.9166 - val_mse: 2276451.5000\n",
            "Epoch 8/100\n",
            " 1/18 [>.............................] - ETA: 0s - loss: 121.1138 - mae: 121.1138 - mse: 57999.1211INFO:tensorflow:Assets written to: /content/drive/MyDrive/BTC Predictor/model_experiments/model_1_dense/assets\n",
            "18/18 [==============================] - 1s 37ms/step - loss: 145.2560 - mae: 145.2560 - mse: 117694.5000 - val_loss: 803.5956 - val_mae: 803.5956 - val_mse: 2140573.5000\n",
            "Epoch 9/100\n",
            " 1/18 [>.............................] - ETA: 0s - loss: 126.2215 - mae: 126.2215 - mse: 75301.4141INFO:tensorflow:Assets written to: /content/drive/MyDrive/BTC Predictor/model_experiments/model_1_dense/assets\n",
            "18/18 [==============================] - 0s 28ms/step - loss: 144.3546 - mae: 144.3546 - mse: 115269.3047 - val_loss: 799.5454 - val_mae: 799.5454 - val_mse: 2049207.7500\n",
            "Epoch 10/100\n",
            " 1/18 [>.............................] - ETA: 0s - loss: 148.4502 - mae: 148.4502 - mse: 164283.9375INFO:tensorflow:Assets written to: /content/drive/MyDrive/BTC Predictor/model_experiments/model_1_dense/assets\n",
            "18/18 [==============================] - 0s 29ms/step - loss: 141.2943 - mae: 141.2943 - mse: 112394.5938 - val_loss: 763.5010 - val_mae: 763.5010 - val_mse: 1933140.7500\n",
            "Epoch 11/100\n",
            "18/18 [==============================] - 0s 4ms/step - loss: 135.6595 - mae: 135.6595 - mse: 104118.2344 - val_loss: 771.3356 - val_mae: 771.3356 - val_mse: 1885849.7500\n",
            "Epoch 12/100\n",
            "18/18 [==============================] - 0s 5ms/step - loss: 134.1700 - mae: 134.1700 - mse: 101780.8672 - val_loss: 782.8079 - val_mae: 782.8079 - val_mse: 1881727.1250\n",
            "Epoch 13/100\n",
            "18/18 [==============================] - 0s 4ms/step - loss: 134.6015 - mae: 134.6015 - mse: 102345.2266 - val_loss: 784.4449 - val_mae: 784.4449 - val_mse: 1860996.1250\n",
            "Epoch 14/100\n",
            " 1/18 [>.............................] - ETA: 0s - loss: 136.5593 - mae: 136.5593 - mse: 78599.7188INFO:tensorflow:Assets written to: /content/drive/MyDrive/BTC Predictor/model_experiments/model_1_dense/assets\n",
            "18/18 [==============================] - 0s 28ms/step - loss: 130.6127 - mae: 130.6127 - mse: 96225.1328 - val_loss: 751.3234 - val_mae: 751.3233 - val_mse: 1749609.0000\n",
            "Epoch 15/100\n",
            " 1/18 [>.............................] - ETA: 0s - loss: 131.5350 - mae: 131.5350 - mse: 65715.5938INFO:tensorflow:Assets written to: /content/drive/MyDrive/BTC Predictor/model_experiments/model_1_dense/assets\n",
            "18/18 [==============================] - 1s 45ms/step - loss: 128.8347 - mae: 128.8347 - mse: 94306.9922 - val_loss: 696.5756 - val_mae: 696.5756 - val_mse: 1606352.3750\n",
            "Epoch 16/100\n",
            "18/18 [==============================] - 0s 12ms/step - loss: 124.7739 - mae: 124.7739 - mse: 90394.9375 - val_loss: 702.4698 - val_mae: 702.4698 - val_mse: 1592416.2500\n",
            "Epoch 17/100\n",
            "18/18 [==============================] - 0s 5ms/step - loss: 123.4474 - mae: 123.4474 - mse: 89247.7031 - val_loss: 704.9239 - val_mae: 704.9239 - val_mse: 1580782.7500\n",
            "Epoch 18/100\n",
            " 1/18 [>.............................] - ETA: 0s - loss: 137.2540 - mae: 137.2540 - mse: 95732.8359INFO:tensorflow:Assets written to: /content/drive/MyDrive/BTC Predictor/model_experiments/model_1_dense/assets\n",
            "18/18 [==============================] - 1s 34ms/step - loss: 122.2105 - mae: 122.2105 - mse: 87607.5938 - val_loss: 667.9724 - val_mae: 667.9724 - val_mse: 1498881.6250\n",
            "Epoch 19/100\n",
            "18/18 [==============================] - 0s 14ms/step - loss: 121.7263 - mae: 121.7263 - mse: 86632.2422 - val_loss: 718.8796 - val_mae: 718.8796 - val_mse: 1589299.2500\n",
            "Epoch 20/100\n",
            "10/18 [===============>..............] - ETA: 0s - loss: 125.0261 - mae: 125.0261 - mse: 93809.5234 INFO:tensorflow:Assets written to: /content/drive/MyDrive/BTC Predictor/model_experiments/model_1_dense/assets\n",
            "18/18 [==============================] - 1s 39ms/step - loss: 119.2420 - mae: 119.2420 - mse: 84334.3203 - val_loss: 657.0666 - val_mae: 657.0666 - val_mse: 1447501.1250\n",
            "Epoch 21/100\n",
            " 1/18 [>.............................] - ETA: 0s - loss: 129.2764 - mae: 129.2764 - mse: 78635.7812INFO:tensorflow:Assets written to: /content/drive/MyDrive/BTC Predictor/model_experiments/model_1_dense/assets\n",
            "18/18 [==============================] - 1s 54ms/step - loss: 121.2275 - mae: 121.2275 - mse: 85743.3828 - val_loss: 637.0331 - val_mae: 637.0331 - val_mse: 1401774.1250\n",
            "Epoch 22/100\n",
            "18/18 [==============================] - 0s 4ms/step - loss: 119.9544 - mae: 119.9544 - mse: 84050.1094 - val_loss: 671.2487 - val_mae: 671.2487 - val_mse: 1447895.6250\n",
            "Epoch 23/100\n",
            " 1/18 [>.............................] - ETA: 0s - loss: 116.0426 - mae: 116.0426 - mse: 57999.4492INFO:tensorflow:Assets written to: /content/drive/MyDrive/BTC Predictor/model_experiments/model_1_dense/assets\n",
            "18/18 [==============================] - 0s 27ms/step - loss: 121.9248 - mae: 121.9248 - mse: 83746.1250 - val_loss: 633.3591 - val_mae: 633.3591 - val_mse: 1367377.8750\n",
            "Epoch 24/100\n",
            " 1/18 [>.............................] - ETA: 0s - loss: 124.4802 - mae: 124.4802 - mse: 83062.6094INFO:tensorflow:Assets written to: /content/drive/MyDrive/BTC Predictor/model_experiments/model_1_dense/assets\n",
            "18/18 [==============================] - 1s 29ms/step - loss: 116.3665 - mae: 116.3665 - mse: 81446.6562 - val_loss: 624.4852 - val_mae: 624.4852 - val_mse: 1348960.7500\n",
            "Epoch 25/100\n",
            " 1/18 [>.............................] - ETA: 0s - loss: 123.8925 - mae: 123.8925 - mse: 61388.7969INFO:tensorflow:Assets written to: /content/drive/MyDrive/BTC Predictor/model_experiments/model_1_dense/assets\n",
            "18/18 [==============================] - 0s 27ms/step - loss: 114.6816 - mae: 114.6816 - mse: 78912.8359 - val_loss: 619.7570 - val_mae: 619.7570 - val_mse: 1351089.7500\n",
            "Epoch 26/100\n",
            " 1/18 [>.............................] - ETA: 0s - loss: 110.2667 - mae: 110.2667 - mse: 60073.7930INFO:tensorflow:Assets written to: /content/drive/MyDrive/BTC Predictor/model_experiments/model_1_dense/assets\n",
            "18/18 [==============================] - 1s 29ms/step - loss: 116.4455 - mae: 116.4455 - mse: 79365.5938 - val_loss: 615.6364 - val_mae: 615.6364 - val_mse: 1321514.3750\n",
            "Epoch 27/100\n",
            "18/18 [==============================] - 0s 4ms/step - loss: 116.5868 - mae: 116.5868 - mse: 78672.9062 - val_loss: 615.9629 - val_mae: 615.9629 - val_mse: 1313077.6250\n",
            "Epoch 28/100\n",
            " 1/18 [>.............................] - ETA: 0s - loss: 102.5480 - mae: 102.5480 - mse: 64013.4844INFO:tensorflow:Assets written to: /content/drive/MyDrive/BTC Predictor/model_experiments/model_1_dense/assets\n",
            "18/18 [==============================] - 1s 39ms/step - loss: 113.4691 - mae: 113.4691 - mse: 77440.1016 - val_loss: 608.0921 - val_mae: 608.0921 - val_mse: 1309775.3750\n",
            "Epoch 29/100\n",
            "18/18 [==============================] - 0s 5ms/step - loss: 113.7598 - mae: 113.7598 - mse: 78506.9531 - val_loss: 621.9305 - val_mae: 621.9305 - val_mse: 1313324.6250\n",
            "Epoch 30/100\n",
            " 1/18 [>.............................] - ETA: 0s - loss: 124.9585 - mae: 124.9585 - mse: 84341.5859INFO:tensorflow:Assets written to: /content/drive/MyDrive/BTC Predictor/model_experiments/model_1_dense/assets\n",
            "18/18 [==============================] - 0s 29ms/step - loss: 116.8613 - mae: 116.8613 - mse: 79236.4609 - val_loss: 604.4056 - val_mae: 604.4056 - val_mse: 1283407.8750\n",
            "Epoch 31/100\n",
            "18/18 [==============================] - 0s 4ms/step - loss: 111.9375 - mae: 111.9375 - mse: 74849.0703 - val_loss: 609.3882 - val_mae: 609.3882 - val_mse: 1284506.2500\n",
            "Epoch 32/100\n",
            " 1/18 [>.............................] - ETA: 0s - loss: 107.0553 - mae: 107.0553 - mse: 70567.9609INFO:tensorflow:Assets written to: /content/drive/MyDrive/BTC Predictor/model_experiments/model_1_dense/assets\n",
            "18/18 [==============================] - 1s 30ms/step - loss: 112.4175 - mae: 112.4175 - mse: 77178.5859 - val_loss: 603.0588 - val_mae: 603.0588 - val_mse: 1273059.5000\n",
            "Epoch 33/100\n",
            "18/18 [==============================] - 0s 4ms/step - loss: 112.6697 - mae: 112.6697 - mse: 75787.9766 - val_loss: 645.6973 - val_mae: 645.6973 - val_mse: 1353255.7500\n",
            "Epoch 34/100\n",
            "18/18 [==============================] - 0s 5ms/step - loss: 111.9867 - mae: 111.9867 - mse: 77245.7266 - val_loss: 604.7634 - val_mae: 604.7634 - val_mse: 1289360.3750\n",
            "Epoch 35/100\n",
            " 1/18 [>.............................] - ETA: 0s - loss: 103.6643 - mae: 103.6643 - mse: 56614.1367INFO:tensorflow:Assets written to: /content/drive/MyDrive/BTC Predictor/model_experiments/model_1_dense/assets\n",
            "18/18 [==============================] - 1s 29ms/step - loss: 110.9451 - mae: 110.9451 - mse: 75301.7812 - val_loss: 593.4648 - val_mae: 593.4648 - val_mse: 1250491.3750\n",
            "Epoch 36/100\n",
            "18/18 [==============================] - 0s 4ms/step - loss: 114.4816 - mae: 114.4816 - mse: 76138.5391 - val_loss: 608.0074 - val_mae: 608.0074 - val_mse: 1269272.3750\n",
            "Epoch 37/100\n",
            "18/18 [==============================] - 0s 5ms/step - loss: 110.2016 - mae: 110.2016 - mse: 74635.3047 - val_loss: 597.2308 - val_mae: 597.2308 - val_mse: 1248474.0000\n",
            "Epoch 38/100\n",
            "18/18 [==============================] - 0s 4ms/step - loss: 112.2372 - mae: 112.2372 - mse: 75821.6953 - val_loss: 637.9798 - val_mae: 637.9798 - val_mse: 1366130.8750\n",
            "Epoch 39/100\n",
            " 1/18 [>.............................] - ETA: 0s - loss: 131.5377 - mae: 131.5377 - mse: 121641.0000INFO:tensorflow:Assets written to: /content/drive/MyDrive/BTC Predictor/model_experiments/model_1_dense/assets\n",
            "18/18 [==============================] - 1s 30ms/step - loss: 115.1289 - mae: 115.1289 - mse: 76339.6797 - val_loss: 587.4680 - val_mae: 587.4680 - val_mse: 1233512.3750\n",
            "Epoch 40/100\n",
            "18/18 [==============================] - 0s 4ms/step - loss: 110.0854 - mae: 110.0854 - mse: 73528.4766 - val_loss: 592.7117 - val_mae: 592.7117 - val_mse: 1251474.6250\n",
            "Epoch 41/100\n",
            "18/18 [==============================] - 0s 4ms/step - loss: 110.6344 - mae: 110.6344 - mse: 73528.7891 - val_loss: 593.8997 - val_mae: 593.8997 - val_mse: 1253678.5000\n",
            "Epoch 42/100\n",
            "18/18 [==============================] - 0s 4ms/step - loss: 113.5762 - mae: 113.5762 - mse: 77076.7031 - val_loss: 636.3674 - val_mae: 636.3674 - val_mse: 1317283.5000\n",
            "Epoch 43/100\n",
            "18/18 [==============================] - 0s 4ms/step - loss: 116.2285 - mae: 116.2285 - mse: 74712.2031 - val_loss: 662.9263 - val_mae: 662.9263 - val_mse: 1419201.7500\n",
            "Epoch 44/100\n",
            "18/18 [==============================] - 0s 4ms/step - loss: 120.0192 - mae: 120.0192 - mse: 80971.8750 - val_loss: 635.6360 - val_mae: 635.6360 - val_mse: 1345999.3750\n",
            "Epoch 45/100\n",
            "18/18 [==============================] - 0s 4ms/step - loss: 110.9675 - mae: 110.9675 - mse: 74941.2891 - val_loss: 601.9926 - val_mae: 601.9926 - val_mse: 1244816.7500\n",
            "Epoch 46/100\n",
            "18/18 [==============================] - 0s 5ms/step - loss: 111.6012 - mae: 111.6012 - mse: 74565.6016 - val_loss: 593.3531 - val_mae: 593.3531 - val_mse: 1248764.3750\n",
            "Epoch 47/100\n",
            "18/18 [==============================] - 0s 4ms/step - loss: 109.6161 - mae: 109.6161 - mse: 74190.7109 - val_loss: 637.0011 - val_mae: 637.0011 - val_mse: 1314970.2500\n",
            "Epoch 48/100\n",
            "18/18 [==============================] - 0s 4ms/step - loss: 109.1368 - mae: 109.1368 - mse: 72792.5547 - val_loss: 598.4197 - val_mae: 598.4197 - val_mse: 1234610.1250\n",
            "Epoch 49/100\n",
            " 1/18 [>.............................] - ETA: 0s - loss: 159.5531 - mae: 159.5531 - mse: 119669.8438INFO:tensorflow:Assets written to: /content/drive/MyDrive/BTC Predictor/model_experiments/model_1_dense/assets\n",
            "18/18 [==============================] - 0s 29ms/step - loss: 112.4355 - mae: 112.4355 - mse: 73980.3359 - val_loss: 579.7042 - val_mae: 579.7042 - val_mse: 1208301.8750\n",
            "Epoch 50/100\n",
            "18/18 [==============================] - 0s 5ms/step - loss: 110.2108 - mae: 110.2108 - mse: 72939.7109 - val_loss: 639.2327 - val_mae: 639.2327 - val_mse: 1347994.1250\n",
            "Epoch 51/100\n",
            "18/18 [==============================] - 0s 4ms/step - loss: 111.0958 - mae: 111.0958 - mse: 73281.9062 - val_loss: 597.3571 - val_mae: 597.3571 - val_mse: 1229791.1250\n",
            "Epoch 52/100\n",
            "18/18 [==============================] - 0s 4ms/step - loss: 110.7351 - mae: 110.7351 - mse: 74529.6328 - val_loss: 580.7227 - val_mae: 580.7227 - val_mse: 1215477.1250\n",
            "Epoch 53/100\n",
            "18/18 [==============================] - 0s 4ms/step - loss: 111.1785 - mae: 111.1785 - mse: 74149.4766 - val_loss: 648.3585 - val_mae: 648.3585 - val_mse: 1336951.1250\n",
            "Epoch 54/100\n",
            "18/18 [==============================] - 0s 4ms/step - loss: 114.0831 - mae: 114.0831 - mse: 74815.0781 - val_loss: 593.2006 - val_mae: 593.2006 - val_mse: 1220661.2500\n",
            "Epoch 55/100\n",
            "17/18 [===========================>..] - ETA: 0s - loss: 112.0307 - mae: 112.0307 - mse: 76173.8828 INFO:tensorflow:Assets written to: /content/drive/MyDrive/BTC Predictor/model_experiments/model_1_dense/assets\n",
            "18/18 [==============================] - 1s 31ms/step - loss: 110.4910 - mae: 110.4910 - mse: 74711.2500 - val_loss: 579.5067 - val_mae: 579.5067 - val_mse: 1211580.3750\n",
            "Epoch 56/100\n",
            "18/18 [==============================] - 0s 5ms/step - loss: 108.0488 - mae: 108.0488 - mse: 71844.1562 - val_loss: 807.3853 - val_mae: 807.3853 - val_mse: 1859293.0000\n",
            "Epoch 57/100\n",
            "18/18 [==============================] - 0s 4ms/step - loss: 125.0614 - mae: 125.0614 - mse: 84025.2812 - val_loss: 674.1658 - val_mae: 674.1658 - val_mse: 1437687.2500\n",
            "Epoch 58/100\n",
            "18/18 [==============================] - 0s 5ms/step - loss: 115.4340 - mae: 115.4340 - mse: 73710.7500 - val_loss: 582.2697 - val_mae: 582.2697 - val_mse: 1202679.6250\n",
            "Epoch 59/100\n",
            "18/18 [==============================] - 0s 5ms/step - loss: 110.0881 - mae: 110.0881 - mse: 72845.1172 - val_loss: 606.7640 - val_mae: 606.7640 - val_mse: 1267544.0000\n",
            "Epoch 60/100\n",
            "18/18 [==============================] - 0s 4ms/step - loss: 108.7156 - mae: 108.7156 - mse: 72675.7734 - val_loss: 602.3099 - val_mae: 602.3099 - val_mse: 1234689.8750\n",
            "Epoch 61/100\n",
            " 1/18 [>.............................] - ETA: 0s - loss: 133.4817 - mae: 133.4817 - mse: 95984.3438INFO:tensorflow:Assets written to: /content/drive/MyDrive/BTC Predictor/model_experiments/model_1_dense/assets\n",
            "18/18 [==============================] - 0s 28ms/step - loss: 108.1525 - mae: 108.1525 - mse: 72252.1250 - val_loss: 573.9990 - val_mae: 573.9990 - val_mse: 1189583.5000\n",
            "Epoch 62/100\n",
            "18/18 [==============================] - 0s 4ms/step - loss: 107.3726 - mae: 107.3726 - mse: 70822.7891 - val_loss: 581.7015 - val_mae: 581.7015 - val_mse: 1214006.5000\n",
            "Epoch 63/100\n",
            "18/18 [==============================] - 0s 5ms/step - loss: 110.7667 - mae: 110.7667 - mse: 73178.4453 - val_loss: 637.5243 - val_mae: 637.5243 - val_mse: 1311201.6250\n",
            "Epoch 64/100\n",
            "18/18 [==============================] - 0s 4ms/step - loss: 110.1539 - mae: 110.1539 - mse: 72588.2188 - val_loss: 586.6598 - val_mae: 586.6598 - val_mse: 1207116.3750\n",
            "Epoch 65/100\n",
            "17/18 [===========================>..] - ETA: 0s - loss: 109.1682 - mae: 109.1682 - mse: 72969.9609 INFO:tensorflow:Assets written to: /content/drive/MyDrive/BTC Predictor/model_experiments/model_1_dense/assets\n",
            "18/18 [==============================] - 1s 32ms/step - loss: 108.2325 - mae: 108.2325 - mse: 71962.0781 - val_loss: 573.5618 - val_mae: 573.5618 - val_mse: 1188986.2500\n",
            "Epoch 66/100\n",
            " 1/18 [>.............................] - ETA: 0s - loss: 112.6009 - mae: 112.6009 - mse: 72843.7344INFO:tensorflow:Assets written to: /content/drive/MyDrive/BTC Predictor/model_experiments/model_1_dense/assets\n",
            "18/18 [==============================] - 0s 28ms/step - loss: 108.6826 - mae: 108.6826 - mse: 71026.3516 - val_loss: 572.2206 - val_mae: 572.2206 - val_mse: 1187818.2500\n",
            "Epoch 67/100\n",
            "18/18 [==============================] - 0s 4ms/step - loss: 106.6371 - mae: 106.6371 - mse: 70166.2578 - val_loss: 646.6359 - val_mae: 646.6359 - val_mse: 1356393.0000\n",
            "Epoch 68/100\n",
            "18/18 [==============================] - 0s 5ms/step - loss: 114.1603 - mae: 114.1603 - mse: 71297.3203 - val_loss: 681.8572 - val_mae: 681.8572 - val_mse: 1455430.5000\n",
            "Epoch 69/100\n",
            "18/18 [==============================] - 0s 5ms/step - loss: 124.5514 - mae: 124.5514 - mse: 81238.9609 - val_loss: 655.9892 - val_mae: 655.9892 - val_mse: 1383324.7500\n",
            "Epoch 70/100\n",
            "18/18 [==============================] - 0s 4ms/step - loss: 125.0234 - mae: 125.0234 - mse: 83058.2109 - val_loss: 601.0039 - val_mae: 601.0039 - val_mse: 1256963.6250\n",
            "Epoch 71/100\n",
            "18/18 [==============================] - 0s 5ms/step - loss: 110.3652 - mae: 110.3652 - mse: 71691.4922 - val_loss: 595.3957 - val_mae: 595.3957 - val_mse: 1222771.6250\n",
            "Epoch 72/100\n",
            "18/18 [==============================] - 0s 4ms/step - loss: 107.9285 - mae: 107.9285 - mse: 71745.5391 - val_loss: 573.7084 - val_mae: 573.7084 - val_mse: 1192818.5000\n",
            "Epoch 73/100\n",
            "18/18 [==============================] - 0s 4ms/step - loss: 109.5085 - mae: 109.5085 - mse: 71691.1484 - val_loss: 580.4183 - val_mae: 580.4183 - val_mse: 1211317.6250\n",
            "Epoch 74/100\n",
            "18/18 [==============================] - 0s 4ms/step - loss: 108.7380 - mae: 108.7380 - mse: 72051.1094 - val_loss: 576.1216 - val_mae: 576.1216 - val_mse: 1199670.6250\n",
            "Epoch 75/100\n",
            "18/18 [==============================] - 0s 5ms/step - loss: 107.9404 - mae: 107.9404 - mse: 71043.1328 - val_loss: 591.1470 - val_mae: 591.1470 - val_mse: 1211107.3750\n",
            "Epoch 76/100\n",
            "18/18 [==============================] - 0s 5ms/step - loss: 109.4232 - mae: 109.4232 - mse: 72295.0234 - val_loss: 597.8611 - val_mae: 597.8611 - val_mse: 1243936.2500\n",
            "Epoch 77/100\n",
            " 1/18 [>.............................] - ETA: 0s - loss: 85.1158 - mae: 85.1158 - mse: 65630.7578INFO:tensorflow:Assets written to: /content/drive/MyDrive/BTC Predictor/model_experiments/model_1_dense/assets\n",
            "18/18 [==============================] - 0s 29ms/step - loss: 107.5879 - mae: 107.5879 - mse: 70333.8359 - val_loss: 571.9301 - val_mae: 571.9301 - val_mse: 1186830.0000\n",
            "Epoch 78/100\n",
            "18/18 [==============================] - 0s 4ms/step - loss: 108.1598 - mae: 108.1598 - mse: 70200.0781 - val_loss: 575.2387 - val_mae: 575.2387 - val_mse: 1195318.0000\n",
            "Epoch 79/100\n",
            "18/18 [==============================] - 0s 5ms/step - loss: 107.9175 - mae: 107.9175 - mse: 72451.5859 - val_loss: 617.3083 - val_mae: 617.3083 - val_mse: 1285512.5000\n",
            "Epoch 80/100\n",
            "18/18 [==============================] - 0s 4ms/step - loss: 108.9510 - mae: 108.9510 - mse: 72158.7812 - val_loss: 583.4841 - val_mae: 583.4841 - val_mse: 1194356.7500\n",
            "Epoch 81/100\n",
            " 1/18 [>.............................] - ETA: 0s - loss: 96.3487 - mae: 96.3487 - mse: 44505.5117INFO:tensorflow:Assets written to: /content/drive/MyDrive/BTC Predictor/model_experiments/model_1_dense/assets\n",
            "18/18 [==============================] - 1s 29ms/step - loss: 106.0505 - mae: 106.0505 - mse: 69690.9219 - val_loss: 570.0803 - val_mae: 570.0803 - val_mse: 1177237.8750\n",
            "Epoch 82/100\n",
            "18/18 [==============================] - 0s 4ms/step - loss: 115.6827 - mae: 115.6827 - mse: 76903.4922 - val_loss: 575.7388 - val_mae: 575.7388 - val_mse: 1194662.6250\n",
            "Epoch 83/100\n",
            "18/18 [==============================] - 0s 5ms/step - loss: 110.9379 - mae: 110.9379 - mse: 72968.2969 - val_loss: 659.6579 - val_mae: 659.6579 - val_mse: 1388829.8750\n",
            "Epoch 84/100\n",
            "18/18 [==============================] - 0s 4ms/step - loss: 111.4836 - mae: 111.4836 - mse: 73017.9375 - val_loss: 570.1957 - val_mae: 570.1957 - val_mse: 1177492.2500\n",
            "Epoch 85/100\n",
            "18/18 [==============================] - 0s 4ms/step - loss: 107.5949 - mae: 107.5949 - mse: 70728.2266 - val_loss: 601.5938 - val_mae: 601.5938 - val_mse: 1228450.6250\n",
            "Epoch 86/100\n",
            "18/18 [==============================] - 0s 5ms/step - loss: 108.9425 - mae: 108.9425 - mse: 70066.7500 - val_loss: 592.8101 - val_mae: 592.8101 - val_mse: 1209680.7500\n",
            "Epoch 87/100\n",
            "18/18 [==============================] - 0s 5ms/step - loss: 105.7717 - mae: 105.7717 - mse: 68382.3516 - val_loss: 603.6174 - val_mae: 603.6174 - val_mse: 1252409.5000\n",
            "Epoch 88/100\n",
            " 1/18 [>.............................] - ETA: 0s - loss: 135.4518 - mae: 135.4518 - mse: 130713.5312INFO:tensorflow:Assets written to: /content/drive/MyDrive/BTC Predictor/model_experiments/model_1_dense/assets\n",
            "18/18 [==============================] - 0s 28ms/step - loss: 107.9217 - mae: 107.9217 - mse: 71668.0469 - val_loss: 569.0499 - val_mae: 569.0499 - val_mse: 1174588.3750\n",
            "Epoch 89/100\n",
            " 1/18 [>.............................] - ETA: 0s - loss: 101.8746 - mae: 101.8746 - mse: 57186.1758INFO:tensorflow:Assets written to: /content/drive/MyDrive/BTC Predictor/model_experiments/model_1_dense/assets\n",
            "18/18 [==============================] - 1s 30ms/step - loss: 106.0344 - mae: 106.0344 - mse: 68979.1484 - val_loss: 568.9510 - val_mae: 568.9510 - val_mse: 1171743.5000\n",
            "Epoch 90/100\n",
            "18/18 [==============================] - 0s 4ms/step - loss: 105.4977 - mae: 105.4977 - mse: 67516.5000 - val_loss: 581.7678 - val_mae: 581.7678 - val_mse: 1190160.6250\n",
            "Epoch 91/100\n",
            "18/18 [==============================] - 0s 4ms/step - loss: 108.8468 - mae: 108.8468 - mse: 71112.3359 - val_loss: 573.6025 - val_mae: 573.6025 - val_mse: 1185216.2500\n",
            "Epoch 92/100\n",
            "18/18 [==============================] - 0s 4ms/step - loss: 110.8884 - mae: 110.8884 - mse: 73287.8125 - val_loss: 576.8243 - val_mae: 576.8243 - val_mse: 1181628.3750\n",
            "Epoch 93/100\n",
            "18/18 [==============================] - 0s 4ms/step - loss: 113.8781 - mae: 113.8781 - mse: 75236.4375 - val_loss: 608.3022 - val_mae: 608.3022 - val_mse: 1264206.1250\n",
            "Epoch 94/100\n",
            "18/18 [==============================] - 0s 5ms/step - loss: 110.5763 - mae: 110.5763 - mse: 72590.8672 - val_loss: 601.6042 - val_mae: 601.6042 - val_mse: 1229105.0000\n",
            "Epoch 95/100\n",
            "18/18 [==============================] - 0s 4ms/step - loss: 106.5906 - mae: 106.5906 - mse: 68612.3281 - val_loss: 570.3651 - val_mae: 570.3651 - val_mse: 1175759.3750\n",
            "Epoch 96/100\n",
            "18/18 [==============================] - 0s 5ms/step - loss: 116.9515 - mae: 116.9515 - mse: 75082.1172 - val_loss: 615.2584 - val_mae: 615.2584 - val_mse: 1277124.5000\n",
            "Epoch 97/100\n",
            "18/18 [==============================] - 0s 6ms/step - loss: 108.0739 - mae: 108.0739 - mse: 71321.4219 - val_loss: 580.3076 - val_mae: 580.3076 - val_mse: 1202622.2500\n",
            "Epoch 98/100\n",
            "18/18 [==============================] - 0s 4ms/step - loss: 108.7102 - mae: 108.7102 - mse: 70248.0703 - val_loss: 586.6510 - val_mae: 586.6510 - val_mse: 1200831.5000\n",
            "Epoch 99/100\n",
            "18/18 [==============================] - 0s 4ms/step - loss: 109.0488 - mae: 109.0488 - mse: 70913.1641 - val_loss: 570.0628 - val_mae: 570.0628 - val_mse: 1177064.5000\n",
            "Epoch 100/100\n",
            "18/18 [==============================] - 0s 4ms/step - loss: 106.1845 - mae: 106.1845 - mse: 68681.7266 - val_loss: 585.9758 - val_mae: 585.9758 - val_mse: 1197802.1250\n"
          ]
        },
        {
          "output_type": "execute_result",
          "data": {
            "text/plain": [
              "<keras.callbacks.History at 0x7fc71036b0d0>"
            ]
          },
          "metadata": {},
          "execution_count": 44
        }
      ]
    },
    {
      "cell_type": "code",
      "source": [
        "# Evaluate model on test data\n",
        "model_1.evaluate(test_windows, test_labels)"
      ],
      "metadata": {
        "colab": {
          "base_uri": "https://localhost:8080/"
        },
        "id": "7jJVJZe3utf1",
        "outputId": "4f5c3f5a-07aa-4c8b-f572-b9fbc350fe63"
      },
      "execution_count": 45,
      "outputs": [
        {
          "output_type": "stream",
          "name": "stdout",
          "text": [
            "18/18 [==============================] - 0s 2ms/step - loss: 585.9758 - mae: 585.9758 - mse: 1197802.1250\n"
          ]
        },
        {
          "output_type": "execute_result",
          "data": {
            "text/plain": [
              "[585.9757690429688, 585.9757690429688, 1197802.125]"
            ]
          },
          "metadata": {},
          "execution_count": 45
        }
      ]
    },
    {
      "cell_type": "code",
      "source": [
        "# Load in saved best performing model_1 and evaluate it on test data\n",
        "model_1 = tf.keras.models.load_model(\"/content/drive/MyDrive/BTC Predictor/model_experiments/model_1_dense/\")\n",
        "model_1.evaluate(test_windows, test_labels)"
      ],
      "metadata": {
        "colab": {
          "base_uri": "https://localhost:8080/"
        },
        "id": "k6KKsS-i9I8i",
        "outputId": "ca3eb694-eae7-4189-c9f7-a1e9edd7fb67"
      },
      "execution_count": 46,
      "outputs": [
        {
          "output_type": "stream",
          "name": "stdout",
          "text": [
            "18/18 [==============================] - 0s 2ms/step - loss: 568.9510 - mae: 568.9510 - mse: 1171743.6250\n"
          ]
        },
        {
          "output_type": "execute_result",
          "data": {
            "text/plain": [
              "[568.9510498046875, 568.9510498046875, 1171743.625]"
            ]
          },
          "metadata": {},
          "execution_count": 46
        }
      ]
    },
    {
      "cell_type": "markdown",
      "source": [
        "## Making forecasts with a model (on the test dataset)\n",
        "\n",
        "Writing a function to:\n",
        "\n",
        "1. Take in a train model\n",
        "2. Take in some input data (same kind of data the model was trained on)\n",
        "3. Passes the input data to the model's `predict()` method\n",
        "4. Returns the predictions"
      ],
      "metadata": {
        "id": "ycgebWJHDY7X"
      }
    },
    {
      "cell_type": "code",
      "source": [
        "def make_preds(model, input_data):\n",
        "  \"\"\"\n",
        "  Uses model to make predictions on input_data.\n",
        "  \"\"\"\n",
        "  forecast = model.predict(input_data)\n",
        "  return tf.squeeze(forecast) # return 1D array of predictions"
      ],
      "metadata": {
        "id": "Ubb20_y_DEHl"
      },
      "execution_count": 47,
      "outputs": []
    },
    {
      "cell_type": "code",
      "source": [
        "# Make predictions using model_1 on the test dataset and view results\n",
        "model_1_preds = make_preds(model_1, test_windows)\n",
        "len(model_1_preds), model_1_preds[:10]"
      ],
      "metadata": {
        "colab": {
          "base_uri": "https://localhost:8080/"
        },
        "id": "888KJbAADOPH",
        "outputId": "3b0b41f8-d510-4983-f9e8-cffa374b9c30"
      },
      "execution_count": 48,
      "outputs": [
        {
          "output_type": "execute_result",
          "data": {
            "text/plain": [
              "(556, <tf.Tensor: shape=(10,), dtype=float32, numpy=\n",
              " array([8861.71 , 8769.887, 9015.711, 8795.519, 8723.811, 8730.111,\n",
              "        8691.952, 8502.054, 8460.961, 8516.548], dtype=float32)>)"
            ]
          },
          "metadata": {},
          "execution_count": 48
        }
      ]
    },
    {
      "cell_type": "code",
      "source": [
        "test_labels[:10]"
      ],
      "metadata": {
        "colab": {
          "base_uri": "https://localhost:8080/"
        },
        "id": "DyiwUhNQFClI",
        "outputId": "9384b85c-9856-400b-8c75-5b20c84e196b"
      },
      "execution_count": 49,
      "outputs": [
        {
          "output_type": "execute_result",
          "data": {
            "text/plain": [
              "array([[8798.042055],\n",
              "       [9081.186878],\n",
              "       [8711.534339],\n",
              "       [8760.892718],\n",
              "       [8749.520591],\n",
              "       [8656.970922],\n",
              "       [8500.643558],\n",
              "       [8469.260899],\n",
              "       [8537.339652],\n",
              "       [8205.806366]])"
            ]
          },
          "metadata": {},
          "execution_count": 49
        }
      ]
    },
    {
      "cell_type": "code",
      "source": [
        "# Comparing predicted values of model_1 with the test_values\n",
        "\n",
        "#But first we have to get test_labels and model_1_preds in the same shape\n",
        "\n",
        "test_labels.shape, model_1_preds.shape # hence we'll use tf.squeeze for test_labels"
      ],
      "metadata": {
        "colab": {
          "base_uri": "https://localhost:8080/"
        },
        "id": "V_OhbgmQGQKm",
        "outputId": "95619d0a-6827-4174-abd7-c3f243da6c39"
      },
      "execution_count": 50,
      "outputs": [
        {
          "output_type": "execute_result",
          "data": {
            "text/plain": [
              "((556, 1), TensorShape([556]))"
            ]
          },
          "metadata": {},
          "execution_count": 50
        }
      ]
    },
    {
      "cell_type": "code",
      "source": [
        "model_1_results = evaluate_preds(y_true = tf.squeeze(test_labels), y_pred = model_1_preds)\n",
        "\n",
        "model_1_results"
      ],
      "metadata": {
        "colab": {
          "base_uri": "https://localhost:8080/"
        },
        "id": "yqIXUhcCFV4A",
        "outputId": "8535c13e-b5df-476c-914b-fbe05d437929"
      },
      "execution_count": 51,
      "outputs": [
        {
          "output_type": "execute_result",
          "data": {
            "text/plain": [
              "{'mae': 568.95105,\n",
              " 'mape': 2.5448983,\n",
              " 'mase': 0.9994894,\n",
              " 'mse': 1171743.8,\n",
              " 'rmse': 1082.4711}"
            ]
          },
          "metadata": {},
          "execution_count": 51
        }
      ]
    },
    {
      "cell_type": "code",
      "source": [
        "naive_results # As we can see naive model (baseline model) beats model_1 "
      ],
      "metadata": {
        "colab": {
          "base_uri": "https://localhost:8080/"
        },
        "id": "YGc06OIyFsB_",
        "outputId": "ba82c0f4-b98a-438e-83ce-a099086b2f00"
      },
      "execution_count": 52,
      "outputs": [
        {
          "output_type": "execute_result",
          "data": {
            "text/plain": [
              "{'mae': 567.9802,\n",
              " 'mape': 2.516525,\n",
              " 'mase': 0.99957,\n",
              " 'mse': 1147547.0,\n",
              " 'rmse': 1071.2362}"
            ]
          },
          "metadata": {},
          "execution_count": 52
        }
      ]
    },
    {
      "cell_type": "code",
      "source": [
        "# PLotting model_1 predictions\n",
        "offset = 450\n",
        "plt.figure(figsize=(10,7))\n",
        "\n",
        "plot_time_series(timesteps = X_test[-len(test_windows):], \n",
        "                 values = test_labels[:, 0],\n",
        "                 start = offset,\n",
        "                 label = \"Test Data\")\n",
        "\n",
        "plot_time_series(timesteps = X_test[-len(test_windows):],\n",
        "                 values = model_1_preds,\n",
        "                 start = offset,\n",
        "                 format = \"-\",\n",
        "                 label = \"model_1_preds\")"
      ],
      "metadata": {
        "colab": {
          "base_uri": "https://localhost:8080/",
          "height": 446
        },
        "id": "7H6gXun2Gut2",
        "outputId": "961bd422-78c7-4289-ac60-ab9dd5d04b3f"
      },
      "execution_count": 53,
      "outputs": [
        {
          "output_type": "display_data",
          "data": {
            "text/plain": [
              "<Figure size 720x504 with 1 Axes>"
            ],
            "image/png": "[encoded data removed]"
          },
          "metadata": {
            "needs_background": "light"
          }
        }
      ]
    },
    {
      "cell_type": "markdown",
      "source": [
        "## Model 2: Dense (Window = 30, horizon = 1)"
      ],
      "metadata": {
        "id": "eGdlrr9nI64b"
      }
    },
    {
      "cell_type": "code",
      "source": [
        "HORIZON = 1 # predict one day of Bitcoin Price\n",
        "WINDOW_SIZE = 30 # use 30 timesteps in past"
      ],
      "metadata": {
        "id": "34ANafqbId_3"
      },
      "execution_count": 54,
      "outputs": []
    },
    {
      "cell_type": "code",
      "source": [
        "# Make windowed data with appropriate horizon and window sizes\n",
        "full_windows, full_labels = make_windows(prices, window_size = WINDOW_SIZE, horizon = HORIZON)\n",
        "len(full_windows), len(full_labels)"
      ],
      "metadata": {
        "colab": {
          "base_uri": "https://localhost:8080/"
        },
        "id": "i4L_7m-2J9Jy",
        "outputId": "a77951d5-76d2-4132-f610-cc30d2ed1234"
      },
      "execution_count": 55,
      "outputs": [
        {
          "output_type": "stream",
          "name": "stdout",
          "text": [
            "Window step:\n",
            "  [[ 0  1  2  3  4  5  6  7  8  9 10 11 12 13 14 15 16 17 18 19 20 21 22 23\n",
            "  24 25 26 27 28 29 30]]\n",
            "Window indexes:\n",
            " (array([[ 0,  1,  2,  3,  4,  5,  6,  7,  8,  9, 10, 11, 12, 13, 14, 15,\n",
            "        16, 17, 18, 19, 20, 21, 22, 23, 24, 25, 26, 27, 28, 29, 30],\n",
            "       [ 1,  2,  3,  4,  5,  6,  7,  8,  9, 10, 11, 12, 13, 14, 15, 16,\n",
            "        17, 18, 19, 20, 21, 22, 23, 24, 25, 26, 27, 28, 29, 30, 31],\n",
            "       [ 2,  3,  4,  5,  6,  7,  8,  9, 10, 11, 12, 13, 14, 15, 16, 17,\n",
            "        18, 19, 20, 21, 22, 23, 24, 25, 26, 27, 28, 29, 30, 31, 32]]), array([[2754, 2755, 2756, 2757, 2758, 2759, 2760, 2761, 2762, 2763, 2764,\n",
            "        2765, 2766, 2767, 2768, 2769, 2770, 2771, 2772, 2773, 2774, 2775,\n",
            "        2776, 2777, 2778, 2779, 2780, 2781, 2782, 2783, 2784],\n",
            "       [2755, 2756, 2757, 2758, 2759, 2760, 2761, 2762, 2763, 2764, 2765,\n",
            "        2766, 2767, 2768, 2769, 2770, 2771, 2772, 2773, 2774, 2775, 2776,\n",
            "        2777, 2778, 2779, 2780, 2781, 2782, 2783, 2784, 2785],\n",
            "       [2756, 2757, 2758, 2759, 2760, 2761, 2762, 2763, 2764, 2765, 2766,\n",
            "        2767, 2768, 2769, 2770, 2771, 2772, 2773, 2774, 2775, 2776, 2777,\n",
            "        2778, 2779, 2780, 2781, 2782, 2783, 2784, 2785, 2786]]), (2757, 31))\n",
            "Windowed array:\n",
            " [[  123.65499   125.455     108.58483 ...   192.75666   197.4\n",
            "    196.02499]\n",
            " [  125.455     108.58483   118.67466 ...   197.4       196.02499\n",
            "    198.04883]\n",
            " [  108.58483   118.67466   121.33866 ...   196.02499   198.04883\n",
            "    198.93233]\n",
            " ...\n",
            " [63346.78904 61965.7826  60574.44473 ... 49764.13208 50032.69314\n",
            "  47885.62525]\n",
            " [61965.7826  60574.44473 56850.83017 ... 50032.69314 47885.62525\n",
            "  45604.61575]\n",
            " [60574.44473 56850.83017 56224.10159 ... 47885.62525 45604.61575\n",
            "  43144.47129]]\n"
          ]
        },
        {
          "output_type": "execute_result",
          "data": {
            "text/plain": [
              "(2757, 2757)"
            ]
          },
          "metadata": {},
          "execution_count": 55
        }
      ]
    },
    {
      "cell_type": "code",
      "source": [
        "# Make train and test windows\n",
        "train_windows, test_windows, train_labels, test_labels = make_train_test_splits(windows= full_windows, \n",
        "                                                                                labels = full_labels,\n",
        "                                                                                test_split = 0.2)\n",
        "\n",
        "len(train_windows), len(test_windows), len(train_labels), len(test_labels) "
      ],
      "metadata": {
        "colab": {
          "base_uri": "https://localhost:8080/"
        },
        "id": "FsQ4P-rzKHBk",
        "outputId": "cbb53c10-b7fc-4c28-8ccf-80dc188b28d8"
      },
      "execution_count": 56,
      "outputs": [
        {
          "output_type": "execute_result",
          "data": {
            "text/plain": [
              "(2205, 552, 2205, 552)"
            ]
          },
          "metadata": {},
          "execution_count": 56
        }
      ]
    },
    {
      "cell_type": "code",
      "source": [
        "from traitlets.traitlets import validate\n",
        "# Creating, compiling and fitting model\n",
        "\n",
        "tf.random.set_seed(42)\n",
        "\n",
        "# Create model\n",
        "model_2 = tf.keras.Sequential([\n",
        "    layers.Dense(128, activation = \"relu\"),\n",
        "    layers.Dense(HORIZON, activation = \"linear\") \n",
        "    ], name = \"model_2_dense\")\n",
        "\n",
        "# Compile model\n",
        "model_2.compile(loss = \"mae\",\n",
        "                optimizer = tf.keras.optimizers.Adam())\n",
        "# Fit model\n",
        "\n",
        "model_2.fit(train_windows, \n",
        "            train_labels,\n",
        "            epochs = 100,\n",
        "            batch_size = 128,\n",
        "            verbose = 0,\n",
        "            validation_data=(test_windows, test_labels),\n",
        "            callbacks = [create_model_checkpoint(model_name = model_2.name)])"
      ],
      "metadata": {
        "colab": {
          "base_uri": "https://localhost:8080/"
        },
        "id": "mqQsq5e5LF6Q",
        "outputId": "ba08edc0-b7dc-4849-df5a-db581291e69f"
      },
      "execution_count": 57,
      "outputs": [
        {
          "output_type": "stream",
          "name": "stdout",
          "text": [
            "INFO:tensorflow:Assets written to: /content/drive/MyDrive/BTC Predictor/model_experiments/model_2_dense/assets\n",
            "INFO:tensorflow:Assets written to: /content/drive/MyDrive/BTC Predictor/model_experiments/model_2_dense/assets\n",
            "INFO:tensorflow:Assets written to: /content/drive/MyDrive/BTC Predictor/model_experiments/model_2_dense/assets\n",
            "INFO:tensorflow:Assets written to: /content/drive/MyDrive/BTC Predictor/model_experiments/model_2_dense/assets\n",
            "INFO:tensorflow:Assets written to: /content/drive/MyDrive/BTC Predictor/model_experiments/model_2_dense/assets\n",
            "INFO:tensorflow:Assets written to: /content/drive/MyDrive/BTC Predictor/model_experiments/model_2_dense/assets\n",
            "INFO:tensorflow:Assets written to: /content/drive/MyDrive/BTC Predictor/model_experiments/model_2_dense/assets\n",
            "INFO:tensorflow:Assets written to: /content/drive/MyDrive/BTC Predictor/model_experiments/model_2_dense/assets\n",
            "INFO:tensorflow:Assets written to: /content/drive/MyDrive/BTC Predictor/model_experiments/model_2_dense/assets\n",
            "INFO:tensorflow:Assets written to: /content/drive/MyDrive/BTC Predictor/model_experiments/model_2_dense/assets\n",
            "INFO:tensorflow:Assets written to: /content/drive/MyDrive/BTC Predictor/model_experiments/model_2_dense/assets\n",
            "INFO:tensorflow:Assets written to: /content/drive/MyDrive/BTC Predictor/model_experiments/model_2_dense/assets\n",
            "INFO:tensorflow:Assets written to: /content/drive/MyDrive/BTC Predictor/model_experiments/model_2_dense/assets\n",
            "INFO:tensorflow:Assets written to: /content/drive/MyDrive/BTC Predictor/model_experiments/model_2_dense/assets\n",
            "INFO:tensorflow:Assets written to: /content/drive/MyDrive/BTC Predictor/model_experiments/model_2_dense/assets\n",
            "INFO:tensorflow:Assets written to: /content/drive/MyDrive/BTC Predictor/model_experiments/model_2_dense/assets\n",
            "INFO:tensorflow:Assets written to: /content/drive/MyDrive/BTC Predictor/model_experiments/model_2_dense/assets\n",
            "INFO:tensorflow:Assets written to: /content/drive/MyDrive/BTC Predictor/model_experiments/model_2_dense/assets\n",
            "INFO:tensorflow:Assets written to: /content/drive/MyDrive/BTC Predictor/model_experiments/model_2_dense/assets\n",
            "INFO:tensorflow:Assets written to: /content/drive/MyDrive/BTC Predictor/model_experiments/model_2_dense/assets\n",
            "INFO:tensorflow:Assets written to: /content/drive/MyDrive/BTC Predictor/model_experiments/model_2_dense/assets\n",
            "INFO:tensorflow:Assets written to: /content/drive/MyDrive/BTC Predictor/model_experiments/model_2_dense/assets\n",
            "INFO:tensorflow:Assets written to: /content/drive/MyDrive/BTC Predictor/model_experiments/model_2_dense/assets\n",
            "INFO:tensorflow:Assets written to: /content/drive/MyDrive/BTC Predictor/model_experiments/model_2_dense/assets\n",
            "INFO:tensorflow:Assets written to: /content/drive/MyDrive/BTC Predictor/model_experiments/model_2_dense/assets\n",
            "INFO:tensorflow:Assets written to: /content/drive/MyDrive/BTC Predictor/model_experiments/model_2_dense/assets\n",
            "INFO:tensorflow:Assets written to: /content/drive/MyDrive/BTC Predictor/model_experiments/model_2_dense/assets\n",
            "INFO:tensorflow:Assets written to: /content/drive/MyDrive/BTC Predictor/model_experiments/model_2_dense/assets\n",
            "INFO:tensorflow:Assets written to: /content/drive/MyDrive/BTC Predictor/model_experiments/model_2_dense/assets\n",
            "INFO:tensorflow:Assets written to: /content/drive/MyDrive/BTC Predictor/model_experiments/model_2_dense/assets\n"
          ]
        },
        {
          "output_type": "execute_result",
          "data": {
            "text/plain": [
              "<keras.callbacks.History at 0x7fc69e1eda10>"
            ]
          },
          "metadata": {},
          "execution_count": 57
        }
      ]
    },
    {
      "cell_type": "code",
      "source": [
        "# Evaluate model 2 on test data\n",
        "\n",
        "model_2.evaluate(test_windows, test_labels)"
      ],
      "metadata": {
        "colab": {
          "base_uri": "https://localhost:8080/"
        },
        "id": "QJ0ltkj-Lq2Y",
        "outputId": "cc486eb1-984f-440f-da39-8448da15f505"
      },
      "execution_count": 58,
      "outputs": [
        {
          "output_type": "stream",
          "name": "stdout",
          "text": [
            "18/18 [==============================] - 0s 2ms/step - loss: 659.3332\n"
          ]
        },
        {
          "output_type": "execute_result",
          "data": {
            "text/plain": [
              "659.3331909179688"
            ]
          },
          "metadata": {},
          "execution_count": 58
        }
      ]
    },
    {
      "cell_type": "code",
      "source": [
        "model_2 = tf.keras.models.load_model(\"/content/drive/MyDrive/BTC Predictor/model_experiments/model_2_dense/\")\n",
        "model_2.evaluate(test_windows, test_labels)"
      ],
      "metadata": {
        "colab": {
          "base_uri": "https://localhost:8080/"
        },
        "id": "LJ3PyVyiQbeV",
        "outputId": "2f47d216-d621-43d1-9787-8fef50bf27ef"
      },
      "execution_count": 59,
      "outputs": [
        {
          "output_type": "stream",
          "name": "stdout",
          "text": [
            "18/18 [==============================] - 0s 2ms/step - loss: 605.8741\n"
          ]
        },
        {
          "output_type": "execute_result",
          "data": {
            "text/plain": [
              "605.8740844726562"
            ]
          },
          "metadata": {},
          "execution_count": 59
        }
      ]
    },
    {
      "cell_type": "code",
      "source": [
        "# Get forecast predictions\n",
        "model_2_preds = make_preds(model_2, \n",
        "                           input_data = test_windows)"
      ],
      "metadata": {
        "id": "qgsQ_iQrQsQQ"
      },
      "execution_count": 60,
      "outputs": []
    },
    {
      "cell_type": "code",
      "source": [
        "# Evaluate results for model_2 predictions\n",
        "model_2_results = evaluate_preds(y_true = tf.squeeze(test_labels), \n",
        "                                 y_pred = model_2_preds)\n",
        "\n",
        "model_2_results"
      ],
      "metadata": {
        "colab": {
          "base_uri": "https://localhost:8080/"
        },
        "id": "3mkFoLrgQ9b_",
        "outputId": "afb13abe-9d14-46de-d124-ac0af1a0b11e"
      },
      "execution_count": 61,
      "outputs": [
        {
          "output_type": "execute_result",
          "data": {
            "text/plain": [
              "{'mae': 605.8741,\n",
              " 'mape': 2.726445,\n",
              " 'mase': 1.0590738,\n",
              " 'mse': 1273360.8,\n",
              " 'rmse': 1128.4329}"
            ]
          },
          "metadata": {},
          "execution_count": 61
        }
      ]
    },
    {
      "cell_type": "code",
      "source": [
        "model_1_results"
      ],
      "metadata": {
        "colab": {
          "base_uri": "https://localhost:8080/"
        },
        "id": "DtDIkhAqRcmC",
        "outputId": "e87f4042-7f32-4f42-f88d-1a42e320447f"
      },
      "execution_count": 62,
      "outputs": [
        {
          "output_type": "execute_result",
          "data": {
            "text/plain": [
              "{'mae': 568.95105,\n",
              " 'mape': 2.5448983,\n",
              " 'mase': 0.9994894,\n",
              " 'mse': 1171743.8,\n",
              " 'rmse': 1082.4711}"
            ]
          },
          "metadata": {},
          "execution_count": 62
        }
      ]
    },
    {
      "cell_type": "code",
      "source": [
        "# Plotting\n",
        "\n",
        "offset = 300\n",
        "plt.figure(figsize=(10,7))\n",
        "# Account for test_windows offset when plotting\n",
        "plot_time_series(timesteps = X_test[-len(test_windows):], \n",
        "                 values = test_labels[:, 0], \n",
        "                 start = offset, \n",
        "                 label = \"Test Data\")\n",
        "\n",
        "plot_time_series(timesteps = X_test[-len(test_windows):], \n",
        "                 values = model_2_preds,\n",
        "                 format = '-', \n",
        "                 start = offset,\n",
        "                 label = \"model_2_preds\")"
      ],
      "metadata": {
        "colab": {
          "base_uri": "https://localhost:8080/",
          "height": 442
        },
        "id": "PBPwF0c8RtGg",
        "outputId": "75083265-ad4b-4b58-f6aa-3d4775450513"
      },
      "execution_count": 63,
      "outputs": [
        {
          "output_type": "display_data",
          "data": {
            "text/plain": [
              "<Figure size 720x504 with 1 Axes>"
            ],
            "image/png": "[encoded data removed]"
          },
          "metadata": {
            "needs_background": "light"
          }
        }
      ]
    },
    {
      "cell_type": "markdown",
      "source": [
        "## Model 3: Dense ( window = 30, horizon = 7)"
      ],
      "metadata": {
        "id": "-jcVoVG2ZGaE"
      }
    },
    {
      "cell_type": "code",
      "source": [
        "HORIZON = 7\n",
        "WINDOW_SIZE = 30 "
      ],
      "metadata": {
        "id": "Q57AerNtSmed"
      },
      "execution_count": 64,
      "outputs": []
    },
    {
      "cell_type": "code",
      "source": [
        "prices[:5]"
      ],
      "metadata": {
        "colab": {
          "base_uri": "https://localhost:8080/"
        },
        "id": "7Lf_YDVZZl4K",
        "outputId": "90b3ab15-884b-479c-ade6-64faf9c86617"
      },
      "execution_count": 65,
      "outputs": [
        {
          "output_type": "execute_result",
          "data": {
            "text/plain": [
              "array([123.65499, 125.455  , 108.58483, 118.67466, 121.33866])"
            ]
          },
          "metadata": {},
          "execution_count": 65
        }
      ]
    },
    {
      "cell_type": "code",
      "source": [
        "full_windows, full_labels = make_windows(prices, window_size = WINDOW_SIZE, horizon = HORIZON)\n",
        "len(full_windows), len(full_labels)"
      ],
      "metadata": {
        "colab": {
          "base_uri": "https://localhost:8080/"
        },
        "id": "ObiDZpXSZRNm",
        "outputId": "c5bf8cfe-1280-4d6a-d18d-4e386ff86e19"
      },
      "execution_count": 66,
      "outputs": [
        {
          "output_type": "stream",
          "name": "stdout",
          "text": [
            "Window step:\n",
            "  [[ 0  1  2  3  4  5  6  7  8  9 10 11 12 13 14 15 16 17 18 19 20 21 22 23\n",
            "  24 25 26 27 28 29 30 31 32 33 34 35 36]]\n",
            "Window indexes:\n",
            " (array([[ 0,  1,  2,  3,  4,  5,  6,  7,  8,  9, 10, 11, 12, 13, 14, 15,\n",
            "        16, 17, 18, 19, 20, 21, 22, 23, 24, 25, 26, 27, 28, 29, 30, 31,\n",
            "        32, 33, 34, 35, 36],\n",
            "       [ 1,  2,  3,  4,  5,  6,  7,  8,  9, 10, 11, 12, 13, 14, 15, 16,\n",
            "        17, 18, 19, 20, 21, 22, 23, 24, 25, 26, 27, 28, 29, 30, 31, 32,\n",
            "        33, 34, 35, 36, 37],\n",
            "       [ 2,  3,  4,  5,  6,  7,  8,  9, 10, 11, 12, 13, 14, 15, 16, 17,\n",
            "        18, 19, 20, 21, 22, 23, 24, 25, 26, 27, 28, 29, 30, 31, 32, 33,\n",
            "        34, 35, 36, 37, 38]]), array([[2748, 2749, 2750, 2751, 2752, 2753, 2754, 2755, 2756, 2757, 2758,\n",
            "        2759, 2760, 2761, 2762, 2763, 2764, 2765, 2766, 2767, 2768, 2769,\n",
            "        2770, 2771, 2772, 2773, 2774, 2775, 2776, 2777, 2778, 2779, 2780,\n",
            "        2781, 2782, 2783, 2784],\n",
            "       [2749, 2750, 2751, 2752, 2753, 2754, 2755, 2756, 2757, 2758, 2759,\n",
            "        2760, 2761, 2762, 2763, 2764, 2765, 2766, 2767, 2768, 2769, 2770,\n",
            "        2771, 2772, 2773, 2774, 2775, 2776, 2777, 2778, 2779, 2780, 2781,\n",
            "        2782, 2783, 2784, 2785],\n",
            "       [2750, 2751, 2752, 2753, 2754, 2755, 2756, 2757, 2758, 2759, 2760,\n",
            "        2761, 2762, 2763, 2764, 2765, 2766, 2767, 2768, 2769, 2770, 2771,\n",
            "        2772, 2773, 2774, 2775, 2776, 2777, 2778, 2779, 2780, 2781, 2782,\n",
            "        2783, 2784, 2785, 2786]]), (2751, 37))\n",
            "Windowed array:\n",
            " [[  123.65499   125.455     108.58483 ...   210.3075    225.02\n",
            "    248.25333]\n",
            " [  125.455     108.58483   118.67466 ...   225.02      248.25333\n",
            "    262.32666]\n",
            " [  108.58483   118.67466   121.33866 ...   248.25333   262.32666\n",
            "    294.48699]\n",
            " ...\n",
            " [58171.90902 59295.95004 59822.90168 ... 49764.13208 50032.69314\n",
            "  47885.62525]\n",
            " [59295.95004 59822.90168 59853.19724 ... 50032.69314 47885.62525\n",
            "  45604.61575]\n",
            " [59822.90168 59853.19724 63223.88439 ... 47885.62525 45604.61575\n",
            "  43144.47129]]\n"
          ]
        },
        {
          "output_type": "execute_result",
          "data": {
            "text/plain": [
              "(2751, 2751)"
            ]
          },
          "metadata": {},
          "execution_count": 66
        }
      ]
    },
    {
      "cell_type": "code",
      "source": [
        "train_windows, test_windows, train_labels, test_labels = make_train_test_splits(windows = full_windows, labels = full_labels,\n",
        "                                                                                 test_split = 0.2) \n",
        "len(train_windows), len(test_windows), len(train_labels), len(test_labels)"
      ],
      "metadata": {
        "colab": {
          "base_uri": "https://localhost:8080/"
        },
        "id": "P5X8ABOaZn7h",
        "outputId": "1eca88c4-83b0-47ed-eb61-1e0ed6d2f97e"
      },
      "execution_count": 67,
      "outputs": [
        {
          "output_type": "execute_result",
          "data": {
            "text/plain": [
              "(2200, 551, 2200, 551)"
            ]
          },
          "metadata": {},
          "execution_count": 67
        }
      ]
    },
    {
      "cell_type": "code",
      "source": [
        "tf.random.set_seed(42)\n",
        "\n",
        "# Create model (same as model 1 except with different data input and output sizes)\n",
        "\n",
        "model_3 = tf.keras.Sequential([ \n",
        "    layers.Dense(128, activation = \"relu\"),\n",
        "    layers.Dense(HORIZON)], \n",
        "    name = \"model_3_dense\")\n",
        "\n",
        "# Compiling model\n",
        "\n",
        "model_3.compile(loss = \"mae\",\n",
        "                optimizer = tf.keras.optimizers.Adam())\n",
        "\n",
        "# Fitting model\n",
        "\n",
        "model_3.fit(x=train_windows, y=train_labels,\n",
        "            epochs=100,\n",
        "            batch_size = 128,\n",
        "            verbose = 0,\n",
        "            validation_data = (test_windows, test_labels),\n",
        "            callbacks = [create_model_checkpoint(model_name = model_3.name)])"
      ],
      "metadata": {
        "colab": {
          "base_uri": "https://localhost:8080/"
        },
        "id": "4atLh80AaiK1",
        "outputId": "f133046a-8ec7-49b7-d1e3-4c3bd869cc17"
      },
      "execution_count": 68,
      "outputs": [
        {
          "output_type": "stream",
          "name": "stdout",
          "text": [
            "INFO:tensorflow:Assets written to: /content/drive/MyDrive/BTC Predictor/model_experiments/model_3_dense/assets\n",
            "INFO:tensorflow:Assets written to: /content/drive/MyDrive/BTC Predictor/model_experiments/model_3_dense/assets\n",
            "INFO:tensorflow:Assets written to: /content/drive/MyDrive/BTC Predictor/model_experiments/model_3_dense/assets\n",
            "INFO:tensorflow:Assets written to: /content/drive/MyDrive/BTC Predictor/model_experiments/model_3_dense/assets\n",
            "INFO:tensorflow:Assets written to: /content/drive/MyDrive/BTC Predictor/model_experiments/model_3_dense/assets\n",
            "INFO:tensorflow:Assets written to: /content/drive/MyDrive/BTC Predictor/model_experiments/model_3_dense/assets\n",
            "INFO:tensorflow:Assets written to: /content/drive/MyDrive/BTC Predictor/model_experiments/model_3_dense/assets\n",
            "INFO:tensorflow:Assets written to: /content/drive/MyDrive/BTC Predictor/model_experiments/model_3_dense/assets\n",
            "INFO:tensorflow:Assets written to: /content/drive/MyDrive/BTC Predictor/model_experiments/model_3_dense/assets\n",
            "INFO:tensorflow:Assets written to: /content/drive/MyDrive/BTC Predictor/model_experiments/model_3_dense/assets\n",
            "INFO:tensorflow:Assets written to: /content/drive/MyDrive/BTC Predictor/model_experiments/model_3_dense/assets\n",
            "INFO:tensorflow:Assets written to: /content/drive/MyDrive/BTC Predictor/model_experiments/model_3_dense/assets\n",
            "INFO:tensorflow:Assets written to: /content/drive/MyDrive/BTC Predictor/model_experiments/model_3_dense/assets\n",
            "INFO:tensorflow:Assets written to: /content/drive/MyDrive/BTC Predictor/model_experiments/model_3_dense/assets\n",
            "INFO:tensorflow:Assets written to: /content/drive/MyDrive/BTC Predictor/model_experiments/model_3_dense/assets\n",
            "INFO:tensorflow:Assets written to: /content/drive/MyDrive/BTC Predictor/model_experiments/model_3_dense/assets\n",
            "INFO:tensorflow:Assets written to: /content/drive/MyDrive/BTC Predictor/model_experiments/model_3_dense/assets\n",
            "INFO:tensorflow:Assets written to: /content/drive/MyDrive/BTC Predictor/model_experiments/model_3_dense/assets\n",
            "INFO:tensorflow:Assets written to: /content/drive/MyDrive/BTC Predictor/model_experiments/model_3_dense/assets\n",
            "INFO:tensorflow:Assets written to: /content/drive/MyDrive/BTC Predictor/model_experiments/model_3_dense/assets\n",
            "INFO:tensorflow:Assets written to: /content/drive/MyDrive/BTC Predictor/model_experiments/model_3_dense/assets\n",
            "INFO:tensorflow:Assets written to: /content/drive/MyDrive/BTC Predictor/model_experiments/model_3_dense/assets\n"
          ]
        },
        {
          "output_type": "execute_result",
          "data": {
            "text/plain": [
              "<keras.callbacks.History at 0x7fc679f03dd0>"
            ]
          },
          "metadata": {},
          "execution_count": 68
        }
      ]
    },
    {
      "cell_type": "code",
      "source": [
        "# Evaluate the model on the test data\n",
        "\n",
        "model_3.evaluate(test_windows, test_labels)"
      ],
      "metadata": {
        "colab": {
          "base_uri": "https://localhost:8080/"
        },
        "id": "dBFFkr0y4NRL",
        "outputId": "726e68c0-5e03-41f8-ce52-2fdb796b3292"
      },
      "execution_count": 69,
      "outputs": [
        {
          "output_type": "stream",
          "name": "stdout",
          "text": [
            "18/18 [==============================] - 0s 2ms/step - loss: 1300.1525\n"
          ]
        },
        {
          "output_type": "execute_result",
          "data": {
            "text/plain": [
              "1300.1524658203125"
            ]
          },
          "metadata": {},
          "execution_count": 69
        }
      ]
    },
    {
      "cell_type": "code",
      "source": [
        "# Load the best version of model 3 and evaluate\n",
        "\n",
        "model_3 = tf.keras.models.load_model(\"/content/drive/MyDrive/BTC Predictor/model_experiments/model_3_dense/\")\n",
        "\n",
        "model_3.evaluate(test_windows, test_labels)"
      ],
      "metadata": {
        "colab": {
          "base_uri": "https://localhost:8080/"
        },
        "id": "x7lNJ7Ha6QEb",
        "outputId": "e339c040-ef39-4f61-ede9-17c5897c8f0f"
      },
      "execution_count": 70,
      "outputs": [
        {
          "output_type": "stream",
          "name": "stdout",
          "text": [
            "18/18 [==============================] - 0s 2ms/step - loss: 1237.5065\n"
          ]
        },
        {
          "output_type": "execute_result",
          "data": {
            "text/plain": [
              "1237.5064697265625"
            ]
          },
          "metadata": {},
          "execution_count": 70
        }
      ]
    },
    {
      "cell_type": "code",
      "source": [
        "# Making predictions with model 3\n",
        "\n",
        "model_3_preds = make_preds(model_3, \n",
        "                           input_data = test_windows)\n",
        "\n",
        "model_3_preds[:5]"
      ],
      "metadata": {
        "colab": {
          "base_uri": "https://localhost:8080/"
        },
        "id": "V4zz9Bll6y_8",
        "outputId": "14a04f0f-db14-4dda-d98d-3766fcd828f3"
      },
      "execution_count": 71,
      "outputs": [
        {
          "output_type": "execute_result",
          "data": {
            "text/plain": [
              "<tf.Tensor: shape=(5, 7), dtype=float32, numpy=\n",
              "array([[9004.694 , 9048.1   , 9425.09  , 9258.256 , 9495.797 , 9558.453 ,\n",
              "        9357.3545],\n",
              "       [8735.506 , 8840.303 , 9247.793 , 8885.601 , 9097.186 , 9174.327 ,\n",
              "        9156.818 ],\n",
              "       [8672.508 , 8782.387 , 9123.857 , 8770.371 , 9007.13  , 9003.869 ,\n",
              "        9042.725 ],\n",
              "       [8874.399 , 8784.74  , 9043.902 , 8943.052 , 9033.477 , 9176.489 ,\n",
              "        9039.677 ],\n",
              "       [8825.891 , 8777.44  , 8926.78  , 8870.179 , 9213.232 , 9268.156 ,\n",
              "        8942.487 ]], dtype=float32)>"
            ]
          },
          "metadata": {},
          "execution_count": 71
        }
      ]
    },
    {
      "cell_type": "code",
      "source": [
        "model_2_results"
      ],
      "metadata": {
        "colab": {
          "base_uri": "https://localhost:8080/"
        },
        "id": "_nVyHlXe8Xc0",
        "outputId": "5d7f163f-f74a-479d-e173-ac61747b60bf"
      },
      "execution_count": 72,
      "outputs": [
        {
          "output_type": "execute_result",
          "data": {
            "text/plain": [
              "{'mae': 605.8741,\n",
              " 'mape': 2.726445,\n",
              " 'mase': 1.0590738,\n",
              " 'mse': 1273360.8,\n",
              " 'rmse': 1128.4329}"
            ]
          },
          "metadata": {},
          "execution_count": 72
        }
      ]
    },
    {
      "cell_type": "code",
      "source": [
        "model_3_preds.shape, model_2_preds.shape, model_1_preds.shape"
      ],
      "metadata": {
        "colab": {
          "base_uri": "https://localhost:8080/"
        },
        "id": "gxOMdHKe8iyi",
        "outputId": "45d75fe2-8dcc-48c1-e6bd-c9abb77ccc1f"
      },
      "execution_count": 73,
      "outputs": [
        {
          "output_type": "execute_result",
          "data": {
            "text/plain": [
              "(TensorShape([551, 7]), TensorShape([552]), TensorShape([556]))"
            ]
          },
          "metadata": {},
          "execution_count": 73
        }
      ]
    },
    {
      "cell_type": "code",
      "source": [
        "# Evaluate model_3_results\n",
        "\n",
        "model_3_results = evaluate_preds( y_true = tf.squeeze(test_labels), \n",
        "                                 y_pred = model_3_preds)\n",
        "\n",
        "model_3_results"
      ],
      "metadata": {
        "colab": {
          "base_uri": "https://localhost:8080/"
        },
        "id": "jk6hgiwJ7BO6",
        "outputId": "f9b34db2-5bed-45b1-8ecc-6f60c3a627c9"
      },
      "execution_count": 74,
      "outputs": [
        {
          "output_type": "execute_result",
          "data": {
            "text/plain": [
              "{'mae': array([ 513.6056  ,  355.08328 ,  327.17075 ,  358.5106  ,  420.53305 ,\n",
              "         537.854   ,  545.66156 ,  485.9228  ,  584.49713 ,  687.3824  ,\n",
              "         836.2264  ,  755.1577  ,  731.4958  ,  775.3399  ,  567.95544 ,\n",
              "         266.80865 ,  188.80225 ,  188.10799 ,  253.095   ,  301.43256 ,\n",
              "         151.10721 ,  196.81473 ,  191.46178 ,  231.65031 ,  143.61125 ,\n",
              "         122.59089 ,  132.78879 ,  190.8118  ,  179.15994 ,  228.26018 ,\n",
              "         314.44022 ,  379.09244 ,  278.32526 ,  295.3471  ,  299.3852  ,\n",
              "         248.64983 ,  299.75662 ,  259.69434 ,  180.30531 ,  206.72922 ,\n",
              "         374.62863 ,  144.85086 ,  142.33635 ,  131.11613 ,   93.941124,\n",
              "          54.825542,   73.79541 ,  103.60128 ,  121.333916,  168.67278 ,\n",
              "         183.90945 ,  152.25307 ,  186.57191 ,  146.91267 ,  240.42912 ,\n",
              "         351.00662 ,  540.952   ,  549.1573  ,  521.2411  ,  526.8554  ,\n",
              "         453.36237 ,  257.98117 ,  277.29486 ,  301.8247  ,  455.718   ,\n",
              "         458.96017 ,  503.4438  ,  522.3119  ,  223.07631 ,  250.09529 ,\n",
              "         297.1437  ,  400.571   ,  495.7984  ,  364.33707 ,  283.36606 ,\n",
              "         325.59543 ,  238.21191 ,  318.9777  ,  460.77106 ,  651.0762  ,\n",
              "         835.88    ,  669.96454 ,  319.54507 ,  261.99442 ,  142.3923  ,\n",
              "         136.62863 ,  154.75223 ,  221.32631 ,  290.50418 ,  503.88406 ,\n",
              "         414.2602  ,  434.35742 ,  377.988   ,  251.78947 ,  204.2832  ,\n",
              "         388.227   ,  360.65793 ,  493.80902 ,  614.861   ,  754.70245 ,\n",
              "         533.7712  ,  378.98898 ,  280.49496 ,  339.48062 ,  413.12875 ,\n",
              "         452.87863 ,  550.53796 ,  634.5724  ,  935.5724  ,  931.60004 ,\n",
              "         881.2808  ,  426.40012 ,  179.45871 ,  121.66183 ,  160.43861 ,\n",
              "         372.07108 ,  341.8582  ,  476.52377 ,  618.32434 , 1038.8987  ,\n",
              "        1569.5028  , 2157.1199  , 1987.6074  , 2158.6108  , 2303.561   ,\n",
              "        2662.943   , 1405.5012  ,  728.30096 ,  351.70068 ,  322.032   ,\n",
              "         493.94748 ,  435.48416 ,  565.556   ,  350.11685 ,  289.01987 ,\n",
              "         251.21603 ,  409.05615 ,  342.2099  ,  320.83615 ,  330.88617 ,\n",
              "         357.84604 ,  335.94818 ,  206.10303 ,  544.38416 ,  700.00934 ,\n",
              "         468.91992 ,  404.49615 ,  172.80127 ,  308.33685 ,  210.47621 ,\n",
              "         318.9543  ,  486.1326  ,  428.8803  ,  533.9111  ,  433.78146 ,\n",
              "         396.89432 ,  138.40381 ,  189.96658 ,  170.39209 ,  181.54346 ,\n",
              "         282.88992 ,  264.38867 ,  250.6218  ,  240.33762 ,  276.95425 ,\n",
              "         326.02963 ,  489.6155  ,  686.2448  ,  526.9793  ,  603.01135 ,\n",
              "         825.3831  ,  871.0465  ,  990.0687  , 1090.0597  ,  560.2842  ,\n",
              "         310.52246 ,  371.39035 ,  348.45953 ,  355.73438 ,  429.56543 ,\n",
              "         581.2835  ,  550.52203 ,  635.4312  ,  913.404   ,  840.7183  ,\n",
              "         305.0357  ,  493.93332 ,  751.31793 ,  410.6346  ,  220.62444 ,\n",
              "         282.25446 ,  291.8528  ,  422.5039  ,  458.6543  ,  637.2352  ,\n",
              "         647.82336 ,  417.24496 ,  220.23703 ,  246.72209 ,  200.22922 ,\n",
              "         455.1494  ,  719.6059  ,  696.3024  ,  485.0996  ,  294.95297 ,\n",
              "         170.52371 ,  211.82478 ,  270.565   ,  189.89299 ,  171.21736 ,\n",
              "         366.44727 ,  231.96387 ,  318.78738 ,  273.79395 ,  358.55664 ,\n",
              "         412.22797 ,  512.3167  ,  185.43959 ,  196.38225 ,  200.006   ,\n",
              "         224.58678 ,  213.41978 ,  186.23912 ,  113.371376,  172.23228 ,\n",
              "         168.89857 ,  236.0957  ,  307.5971  ,  328.93903 ,  566.59625 ,\n",
              "         285.04395 ,  300.44965 ,  125.45299 ,  168.94322 ,  137.25851 ,\n",
              "         143.5039  ,  145.27776 ,  107.339424,   77.16225 ,  131.87082 ,\n",
              "         134.02023 ,  167.45773 ,  137.9216  ,  148.91336 ,  204.95508 ,\n",
              "         157.89746 ,  196.95256 ,  167.93918 ,  156.45605 ,  188.68094 ,\n",
              "         161.44127 ,   90.99735 ,  136.8411  ,  198.51701 ,  230.1381  ,\n",
              "         294.78348 ,  594.2425  ,  699.6479  ,  815.13574 ,  905.339   ,\n",
              "        1127.2997  , 1342.6945  , 1317.0691  ,  590.1681  ,  296.34515 ,\n",
              "         243.43625 ,  256.3983  ,  222.28459 ,  323.83832 ,   82.513115,\n",
              "         120.14384 ,  249.14914 ,  205.73592 ,  243.4548  ,  250.64803 ,\n",
              "         287.2761  ,  224.38142 ,  266.56027 ,  221.51047 ,  218.4965  ,\n",
              "         272.42285 ,  279.59625 ,  252.5883  ,  381.565   ,  417.97086 ,\n",
              "         624.5573  ,  368.03738 ,  327.25488 ,  263.43973 ,  349.95297 ,\n",
              "         398.62527 ,  297.07407 ,  147.04924 ,  164.5431  ,  313.36328 ,\n",
              "         477.7482  ,  675.0409  ,  897.2679  , 1094.7103  , 1460.1775  ,\n",
              "        1398.586   ,  952.72504 ,  645.959   ,  166.17899 ,  144.66895 ,\n",
              "         189.18289 ,  304.8132  ,  435.10602 ,  449.64383 ,  425.2437  ,\n",
              "         441.93597 ,  407.29465 ,  252.40388 ,  248.36984 ,  336.17105 ,\n",
              "         482.8107  ,  437.53098 ,  533.0868  ,  346.97934 ,  127.68666 ,\n",
              "         110.20843 ,  301.75113 ,  195.50545 ,  174.65164 ,  238.47084 ,\n",
              "         302.3718  ,  313.51758 ,  310.1296  ,  200.29842 ,  172.47307 ,\n",
              "         140.2302  ,  252.48549 ,  289.32437 ,  343.62094 ,  504.1179  ,\n",
              "         635.1342  ,  602.13043 ,  519.06055 ,  214.90276 ,  195.9117  ,\n",
              "         265.0371  ,  198.90123 ,  345.51285 ,  517.2228  ,  631.0296  ,\n",
              "         988.4247  , 1174.214   , 1196.2844  , 1253.9299  ,  526.0653  ,\n",
              "         210.31487 ,  215.27107 ,  169.86008 ,  283.78656 ,  269.76157 ,\n",
              "         228.6349  ,  186.64648 ,  410.54242 ,  601.2651  ,  618.1225  ,\n",
              "         768.7529  , 1158.5457  , 1232.8796  , 1254.4298  ,  423.0244  ,\n",
              "         390.0357  ,  367.23856 ,  209.55775 ,  530.22235 ,  821.38226 ,\n",
              "         812.3729  ,  741.1964  ,  953.4834  , 1258.9906  , 1844.932   ,\n",
              "        1605.2845  , 1112.7659  ,  594.18835 ,  549.7667  ,  632.5435  ,\n",
              "         829.2642  , 1103.2218  , 1130.1029  , 1033.3522  ,  878.5865  ,\n",
              "         595.4085  , 1115.6506  , 1371.1725  , 1385.2511  ,  387.5229  ,\n",
              "         303.7486  ,  495.125   ,  719.5804  ,  648.90265 ,  766.1632  ,\n",
              "         683.23157 ,  596.4121  ,  523.09265 ,  577.3407  , 1337.6213  ,\n",
              "        2454.5972  , 2759.2344  , 3135.8762  , 3407.3806  , 3602.6335  ,\n",
              "        2527.1577  , 1158.0999  ,  679.8432  ,  748.5586  , 1073.4863  ,\n",
              "        1217.7327  , 1459.5656  , 2502.731   , 3075.8247  , 3090.2878  ,\n",
              "        2564.7583  , 2660.5317  , 2928.934   , 3690.556   , 3525.1406  ,\n",
              "        4183.6694  , 5144.068   , 4384.655   , 4164.9604  , 4431.0938  ,\n",
              "        3335.1216  , 3017.6858  , 2589.5396  , 4103.63    , 5582.0933  ,\n",
              "        5108.46    , 1382.9637  ,  953.5419  , 1081.6825  , 2483.1975  ,\n",
              "        2992.0547  , 3127.0942  , 2972.274   , 3054.65    , 3283.713   ,\n",
              "        3617.3674  , 1170.2589  , 1074.1833  , 1059.317   , 1044.5404  ,\n",
              "        1060.6217  , 2115.719   , 3569.8875  , 3474.363   , 2448.0156  ,\n",
              "        2641.418   , 3188.6028  , 4899.915   , 5516.288   , 4635.486   ,\n",
              "        4677.034   , 5732.883   , 5866.738   , 8083.3403  , 5049.8286  ,\n",
              "        1476.2288  , 1873.3275  , 1219.0994  , 2324.073   , 2467.0095  ,\n",
              "        3005.0898  , 2805.0503  , 3688.254   , 2962.7136  , 3664.2388  ,\n",
              "        5618.684   , 6925.097   , 9751.095   , 8790.821   , 5057.626   ,\n",
              "        2971.6848  , 1715.495   , 1125.7706  , 2201.4253  , 3969.4978  ,\n",
              "        2988.5083  , 2911.9285  , 2796.8672  , 3937.8806  , 5449.5894  ,\n",
              "        6395.021   , 6148.243   , 5437.6997  , 4291.8267  , 2362.3967  ,\n",
              "        1657.3405  , 1426.6367  , 1647.7155  , 2730.398   , 1813.7115  ,\n",
              "        2061.1506  , 3095.7227  , 4312.8096  , 5500.727   , 5258.027   ,\n",
              "        5152.0283  , 1331.4062  , 1634.4023  , 2493.4324  , 3957.9526  ,\n",
              "        4499.2144  , 2215.846   , 2587.4119  , 1622.4397  ,  591.875   ,\n",
              "        1297.4727  , 1284.5977  ,  915.22766 ,  940.44977 , 1084.6584  ,\n",
              "         875.8979  , 1041.3549  , 2299.2473  , 3152.6003  , 3518.394   ,\n",
              "        2531.524   , 2682.5737  , 3094.2917  , 3829.3372  , 5550.616   ,\n",
              "        7159.3477  , 8820.524   , 8587.342   , 6777.815   , 5193.292   ,\n",
              "        4793.3384  , 2605.2556  , 1668.3605  , 2510.7183  , 4105.6826  ,\n",
              "        6278.394   , 4109.754   , 1711.1172  , 2261.9832  , 2384.7534  ,\n",
              "        1246.6641  , 1672.8483  , 1103.1345  , 1743.3678  , 1608.4564  ,\n",
              "        1933.904   , 2742.3433  , 3945.3645  , 5765.941   , 6955.8433  ,\n",
              "        8107.7095  ], dtype=float32),\n",
              " 'mape': array([ 5.860151  ,  4.087341  ,  3.775816  ,  4.187658  ,  4.9781423 ,\n",
              "         6.448365  ,  6.6144614 ,  6.061672  ,  7.5475917 ,  9.095927  ,\n",
              "        11.300206  , 10.396474  , 10.109089  , 10.697326  ,  7.8628473 ,\n",
              "         3.6872826 ,  2.585637  ,  2.505004  ,  3.350452  ,  4.013581  ,\n",
              "         2.0036225 ,  2.6397398 ,  2.6087885 ,  3.1609263 ,  1.9612128 ,\n",
              "         1.6679873 ,  1.7952291 ,  2.5901227 ,  2.4362576 ,  3.1327405 ,\n",
              "         4.3595424 ,  5.285637  ,  3.940355  ,  4.3142257 ,  4.3733144 ,\n",
              "         3.6376853 ,  4.3629785 ,  3.7757437 ,  2.6192946 ,  2.900764  ,\n",
              "         5.1501083 ,  2.0147362 ,  1.9706653 ,  1.8104146 ,  1.3007245 ,\n",
              "         0.7535146 ,  1.0192324 ,  1.4282739 ,  1.6741855 ,  2.3589702 ,\n",
              "         2.563099  ,  2.1327195 ,  2.5974853 ,  2.0173264 ,  3.1387615 ,\n",
              "         4.502132  ,  6.95963   ,  6.9602227 ,  6.5331383 ,  6.5757856 ,\n",
              "         5.610285  ,  3.0642037 ,  3.2474003 ,  3.484728  ,  5.2227206 ,\n",
              "         5.2294765 ,  5.727937  ,  5.927383  ,  2.5284474 ,  2.8664036 ,\n",
              "         3.4308906 ,  4.68742   ,  5.841512  ,  4.309815  ,  3.3552825 ,\n",
              "         3.8162112 ,  2.7363598 ,  3.4623704 ,  4.9716797 ,  7.0261016 ,\n",
              "         8.974979  ,  7.1678147 ,  3.4013336 ,  2.7761197 ,  1.5223246 ,\n",
              "         1.4535493 ,  1.6354663 ,  2.252781  ,  2.947562  ,  5.0738955 ,\n",
              "         4.103283  ,  4.2952995 ,  3.7052832 ,  2.4620771 ,  2.0132227 ,\n",
              "         3.84283   ,  3.6306522 ,  5.016276  ,  6.279475  ,  7.757472  ,\n",
              "         5.495675  ,  3.8907118 ,  2.854692  ,  3.531113  ,  4.464891  ,\n",
              "         5.01624   ,  6.1257133 ,  7.1294346 , 10.711447  , 10.664077  ,\n",
              "        10.087252  ,  4.8936324 ,  2.0717275 ,  1.3628366 ,  1.8011123 ,\n",
              "         4.219881  ,  4.055701  ,  5.7448916 ,  7.4928775 , 15.032983  ,\n",
              "        24.38847   , 35.428123  , 34.702423  , 39.8611    , 42.836586  ,\n",
              "        49.604614  , 26.081118  , 13.669951  ,  6.3608713 ,  5.4986434 ,\n",
              "         7.9925137 ,  6.857536  ,  8.820607  ,  5.311202  ,  4.527914  ,\n",
              "         3.8704064 ,  6.2283874 ,  5.2470293 ,  5.1045513 ,  5.3294277 ,\n",
              "         5.7789717 ,  5.358489  ,  3.2211251 ,  8.118447  , 10.231979  ,\n",
              "         6.726865  ,  5.757307  ,  2.404117  ,  4.2864566 ,  2.9776995 ,\n",
              "         4.4548492 ,  6.9262066 ,  6.1590796 ,  7.763827  ,  6.3082023 ,\n",
              "         5.7371473 ,  1.9719498 ,  2.7191217 ,  2.399884  ,  2.5685852 ,\n",
              "         3.9529998 ,  3.6584747 ,  3.4535587 ,  3.301876  ,  3.794225  ,\n",
              "         4.310312  ,  6.4319797 ,  8.567103  ,  6.293656  ,  7.023875  ,\n",
              "         9.469172  ,  9.915061  , 11.217032  , 12.280664  ,  6.209284  ,\n",
              "         3.2802799 ,  3.8508568 ,  3.6124706 ,  3.7172365 ,  4.6127863 ,\n",
              "         6.233847  ,  6.0376983 ,  7.135962  , 10.132261  ,  9.337389  ,\n",
              "         3.379456  ,  5.190334  ,  7.8229227 ,  4.264503  ,  2.3285017 ,\n",
              "         3.0320892 ,  3.1225486 ,  4.572195  ,  5.01346   ,  7.059326  ,\n",
              "         7.1808734 ,  4.628824  ,  2.4294448 ,  2.6893463 ,  2.1346915 ,\n",
              "         4.670391  ,  7.4296794 ,  7.17774   ,  4.927452  ,  2.9697587 ,\n",
              "         1.7036037 ,  2.102083  ,  2.790086  ,  1.9540966 ,  1.7562671 ,\n",
              "         3.8170424 ,  2.455728  ,  3.3356586 ,  2.8912692 ,  3.8006883 ,\n",
              "         4.368519  ,  5.4371586 ,  1.969062  ,  2.0868657 ,  2.132989  ,\n",
              "         2.4014482 ,  2.2829754 ,  1.9878371 ,  1.212721  ,  1.8306261 ,\n",
              "         1.815668  ,  2.5207548 ,  3.292389  ,  3.5837185 ,  6.187771  ,\n",
              "         3.1184072 ,  3.2884552 ,  1.3740312 ,  1.8472781 ,  1.5017242 ,\n",
              "         1.56714   ,  1.5889224 ,  1.1630667 ,  0.83712757,  1.4223003 ,\n",
              "         1.4407552 ,  1.8029895 ,  1.4796977 ,  1.599085  ,  2.2175858 ,\n",
              "         1.7130921 ,  2.1422663 ,  1.8232723 ,  1.7015604 ,  2.0563033 ,\n",
              "         1.7596658 ,  0.98229367,  1.4560665 ,  2.1070144 ,  2.4114134 ,\n",
              "         3.0499952 ,  5.77384   ,  6.6185617 ,  7.4951463 ,  8.227665  ,\n",
              "        10.186892  , 11.928123  , 11.676128  ,  5.199712  ,  2.592971  ,\n",
              "         2.1249874 ,  2.23352   ,  1.9233074 ,  2.8466196 ,  0.7076641 ,\n",
              "         1.0350558 ,  2.1322331 ,  1.7789838 ,  2.1161134 ,  2.1635559 ,\n",
              "         2.4792871 ,  1.9270623 ,  2.255131  ,  1.845723  ,  1.811268  ,\n",
              "         2.2626755 ,  2.3515134 ,  2.117338  ,  3.2111607 ,  3.5736072 ,\n",
              "         5.371579  ,  3.1869485 ,  2.8585389 ,  2.2958062 ,  3.0580995 ,\n",
              "         3.4806094 ,  2.5900195 ,  1.2625039 ,  1.405033  ,  2.7622333 ,\n",
              "         4.3049507 ,  6.2830634 ,  8.513557  , 10.517092  , 14.161083  ,\n",
              "        13.64061   ,  9.320249  ,  6.3080707 ,  1.6300529 ,  1.3983192 ,\n",
              "         1.819187  ,  2.8875935 ,  4.0688186 ,  4.173644  ,  3.9228578 ,\n",
              "         4.0472693 ,  3.7387352 ,  2.3069754 ,  2.306329  ,  3.194118  ,\n",
              "         4.589591  ,  4.1579466 ,  5.0558167 ,  3.300564  ,  1.2102793 ,\n",
              "         1.0371078 ,  2.8088493 ,  1.8151473 ,  1.6353133 ,  2.2353556 ,\n",
              "         2.8412106 ,  2.9520082 ,  2.918753  ,  1.8913203 ,  1.6178724 ,\n",
              "         1.2982846 ,  2.3039372 ,  2.6034815 ,  3.0176406 ,  4.4442587 ,\n",
              "         5.598941  ,  5.266945  ,  4.535595  ,  1.8671705 ,  1.7055051 ,\n",
              "         2.3196983 ,  1.7318262 ,  2.7897274 ,  4.062607  ,  4.8944464 ,\n",
              "         7.6816387 ,  9.1078005 ,  9.207178  ,  9.502263  ,  3.9754753 ,\n",
              "         1.5744725 ,  1.5996995 ,  1.242373  ,  2.077033  ,  1.9747171 ,\n",
              "         1.6764205 ,  1.3502657 ,  2.785834  ,  3.9915614 ,  4.0835915 ,\n",
              "         5.016293  ,  7.6388426 ,  8.078356  ,  8.109144  ,  2.6612601 ,\n",
              "         2.4994817 ,  2.296388  ,  1.3040293 ,  3.2585542 ,  4.9145126 ,\n",
              "         4.7377963 ,  4.2538853 ,  5.3531475 ,  6.980067  , 10.170471  ,\n",
              "         8.772198  ,  6.0037904 ,  3.184009  ,  3.0089974 ,  3.6370165 ,\n",
              "         4.774086  ,  6.289237  ,  6.4191914 ,  5.904084  ,  4.996318  ,\n",
              "         3.1905975 ,  5.85623   ,  7.181029  ,  7.2116575 ,  2.0219858 ,\n",
              "         1.5912374 ,  2.6243296 ,  3.8534112 ,  3.5140622 ,  4.1405344 ,\n",
              "         3.6843975 ,  3.215591  ,  2.8228238 ,  2.88985   ,  6.284895  ,\n",
              "        11.458011  , 12.342679  , 13.76467   , 14.824157  , 15.566195  ,\n",
              "        10.829554  ,  4.9278164 ,  2.8345594 ,  3.0226746 ,  4.3117876 ,\n",
              "         4.720057  ,  5.5167937 ,  9.303037  , 11.212705  , 11.037068  ,\n",
              "         8.631595  ,  8.57773   ,  9.389047  , 11.49777   , 10.463528  ,\n",
              "        11.683611  , 13.823773  , 11.273861  , 10.805959  , 11.400708  ,\n",
              "         8.496614  ,  7.8893795 ,  7.1694746 , 11.423845  , 15.540586  ,\n",
              "        14.24639   ,  3.8430889 ,  2.5450244 ,  2.926231  ,  7.2883105 ,\n",
              "         8.999361  ,  9.586315  ,  9.271843  ,  9.42326   , 10.242951  ,\n",
              "        11.39661   ,  3.655802  ,  3.3454576 ,  3.2290843 ,  3.1591043 ,\n",
              "         3.1852615 ,  6.141231  , 10.163145  ,  9.673941  ,  6.657334  ,\n",
              "         6.975822  ,  8.377457  , 12.244591  , 13.002367  , 10.547288  ,\n",
              "        10.269909  , 12.405405  , 12.598534  , 17.187767  , 10.616799  ,\n",
              "         3.0717638 ,  3.766271  ,  2.39153   ,  4.426362  ,  4.6217623 ,\n",
              "         5.4785867 ,  5.115232  ,  6.8264303 ,  5.6151514 ,  7.090962  ,\n",
              "        11.599259  , 14.5101595 , 20.67855   , 18.67078   , 10.813845  ,\n",
              "         6.3959217 ,  3.68131   ,  2.3239684 ,  4.459366  ,  8.030946  ,\n",
              "         5.953289  ,  5.6428604 ,  5.137942  ,  7.162542  ,  9.831411  ,\n",
              "        11.2098    , 10.556696  ,  9.350716  ,  7.3507614 ,  3.9944015 ,\n",
              "         2.82334   ,  2.3929412 ,  2.8540518 ,  4.729089  ,  3.2363744 ,\n",
              "         3.6810775 ,  5.66858   ,  8.005048  , 10.247124  ,  9.747851  ,\n",
              "         9.54604   ,  2.477174  ,  2.9854128 ,  4.34938   ,  6.8806424 ,\n",
              "         7.7586837 ,  3.8011284 ,  4.4251747 ,  2.761091  ,  1.0093703 ,\n",
              "         2.242207  ,  2.2289226 ,  1.5868819 ,  1.6239101 ,  1.8814805 ,\n",
              "         1.5162615 ,  1.7166462 ,  3.7594323 ,  5.0977936 ,  5.66472   ,\n",
              "         4.075433  ,  4.348675  ,  5.1419644 ,  6.618981  ,  9.824003  ,\n",
              "        12.98138   , 16.388012  , 16.260683  , 13.2497835 , 10.180601  ,\n",
              "         9.383696  ,  5.121853  ,  3.2893925 ,  4.634882  ,  7.40683   ,\n",
              "        11.284329  ,  7.2873406 ,  3.019626  ,  4.0061307 ,  4.1726418 ,\n",
              "         2.2337658 ,  3.0054157 ,  1.9702908 ,  3.1211088 ,  2.7774823 ,\n",
              "         3.492497  ,  5.1419334 ,  7.6572046 , 11.470653  , 14.311554  ,\n",
              "        17.280174  ], dtype=float32),\n",
              " 'mase': 2.2020733,\n",
              " 'mse': array([3.15562562e+05, 1.69165047e+05, 1.44132125e+05, 1.76003203e+05,\n",
              "        2.63520375e+05, 3.91517562e+05, 3.99526219e+05, 3.44422156e+05,\n",
              "        4.93892469e+05, 6.88786938e+05, 9.18702875e+05, 8.00988875e+05,\n",
              "        6.35508688e+05, 6.45535812e+05, 3.57740594e+05, 1.03007414e+05,\n",
              "        5.33133203e+04, 4.65832188e+04, 1.10349016e+05, 1.11646961e+05,\n",
              "        4.35359453e+04, 5.45390977e+04, 4.55849648e+04, 7.64883672e+04,\n",
              "        4.03074453e+04, 2.71076816e+04, 1.90270059e+04, 4.55626055e+04,\n",
              "        4.25344805e+04, 6.63250547e+04, 1.16741703e+05, 1.69440500e+05,\n",
              "        1.10487078e+05, 1.59708281e+05, 1.61630891e+05, 1.23861797e+05,\n",
              "        1.50757391e+05, 1.31196844e+05, 5.50280977e+04, 6.28156445e+04,\n",
              "        1.77474219e+05, 2.68842363e+04, 2.53034434e+04, 2.58045059e+04,\n",
              "        1.34594580e+04, 3.88201562e+03, 9.22788672e+03, 1.22403281e+04,\n",
              "        2.20870137e+04, 3.60827500e+04, 4.87961602e+04, 3.74652578e+04,\n",
              "        4.10563438e+04, 4.17418945e+04, 1.10490461e+05, 2.00761469e+05,\n",
              "        3.48149906e+05, 3.58061312e+05, 3.28374031e+05, 2.96505938e+05,\n",
              "        2.33353781e+05, 1.54046719e+05, 1.43171672e+05, 1.62586703e+05,\n",
              "        2.96452750e+05, 2.66880812e+05, 2.94188594e+05, 3.10067562e+05,\n",
              "        6.27178242e+04, 8.63872109e+04, 9.69540391e+04, 2.01815250e+05,\n",
              "        2.97054594e+05, 2.00675078e+05, 1.27305359e+05, 1.32510266e+05,\n",
              "        8.46021953e+04, 1.74816891e+05, 2.95114281e+05, 4.75889719e+05,\n",
              "        7.21893438e+05, 4.62710188e+05, 1.33154703e+05, 8.13637656e+04,\n",
              "        3.43107852e+04, 3.45205547e+04, 5.36855352e+04, 7.42412266e+04,\n",
              "        1.09339273e+05, 2.79682500e+05, 2.19119391e+05, 1.99934375e+05,\n",
              "        1.65902594e+05, 8.16736484e+04, 4.82389180e+04, 1.65301344e+05,\n",
              "        1.81698328e+05, 3.30644938e+05, 4.63626844e+05, 6.75045625e+05,\n",
              "        3.34911812e+05, 1.69344000e+05, 1.03219461e+05, 1.48348000e+05,\n",
              "        2.98685469e+05, 3.71952281e+05, 4.43305750e+05, 5.27904938e+05,\n",
              "        1.12945225e+06, 1.00652912e+06, 8.03247688e+05, 2.21277750e+05,\n",
              "        6.64889453e+04, 2.66178418e+04, 3.29691094e+04, 1.68663719e+05,\n",
              "        1.76257750e+05, 2.99364688e+05, 4.31794688e+05, 1.91346975e+06,\n",
              "        3.90354150e+06, 6.29502550e+06, 5.49042450e+06, 6.25677100e+06,\n",
              "        6.28618550e+06, 7.23876850e+06, 2.08143425e+06, 6.66785812e+05,\n",
              "        1.44640391e+05, 1.83413781e+05, 3.41026000e+05, 3.02068438e+05,\n",
              "        3.71339406e+05, 2.02418391e+05, 1.36150922e+05, 8.24756641e+04,\n",
              "        1.96007016e+05, 1.61595500e+05, 1.71401156e+05, 2.00606859e+05,\n",
              "        2.37199281e+05, 1.58720219e+05, 6.36029766e+04, 3.38904938e+05,\n",
              "        5.23524188e+05, 2.86211969e+05, 1.92325922e+05, 3.73764375e+04,\n",
              "        1.31962375e+05, 9.33164844e+04, 1.18443625e+05, 3.00599344e+05,\n",
              "        2.28997641e+05, 3.57954781e+05, 2.36219172e+05, 1.71530031e+05,\n",
              "        2.68483613e+04, 4.79165352e+04, 4.00421953e+04, 5.41032422e+04,\n",
              "        1.07641438e+05, 9.80018828e+04, 7.08349922e+04, 6.55987812e+04,\n",
              "        8.53739609e+04, 1.33836688e+05, 2.72516031e+05, 6.54133000e+05,\n",
              "        4.97211812e+05, 6.11189312e+05, 9.92908312e+05, 9.56691312e+05,\n",
              "        1.09541312e+06, 1.19283188e+06, 3.75002188e+05, 2.22053828e+05,\n",
              "        2.60620156e+05, 1.88108875e+05, 1.87927750e+05, 2.49059219e+05,\n",
              "        3.79191938e+05, 4.07706812e+05, 6.24782625e+05, 9.62080500e+05,\n",
              "        7.95344312e+05, 1.40557766e+05, 2.65226344e+05, 6.26269938e+05,\n",
              "        2.05804641e+05, 6.53085820e+04, 1.33562875e+05, 1.14691586e+05,\n",
              "        2.26913922e+05, 2.61227344e+05, 5.08516812e+05, 4.90744344e+05,\n",
              "        2.38722219e+05, 6.85554844e+04, 7.30579844e+04, 5.36114375e+04,\n",
              "        3.28222750e+05, 6.26447562e+05, 5.17733938e+05, 3.32536906e+05,\n",
              "        1.72656625e+05, 8.28139297e+04, 1.43392859e+05, 8.83170859e+04,\n",
              "        5.15845234e+04, 4.20796602e+04, 1.78049500e+05, 1.17352047e+05,\n",
              "        1.16870359e+05, 1.02416914e+05, 1.67489453e+05, 2.05509344e+05,\n",
              "        2.73222562e+05, 4.73887266e+04, 4.60582461e+04, 5.33724297e+04,\n",
              "        7.87067500e+04, 7.06484219e+04, 5.23133984e+04, 2.50282949e+04,\n",
              "        4.52028984e+04, 4.14731211e+04, 7.00108125e+04, 1.24132516e+05,\n",
              "        1.34167734e+05, 3.38401844e+05, 9.75608906e+04, 1.10023234e+05,\n",
              "        1.99198105e+04, 3.32736992e+04, 2.43713613e+04, 2.76616055e+04,\n",
              "        2.70385918e+04, 1.58114443e+04, 1.16168496e+04, 2.74852637e+04,\n",
              "        2.95268613e+04, 3.95873516e+04, 2.81845449e+04, 3.19157754e+04,\n",
              "        5.60373164e+04, 3.98339648e+04, 5.02201758e+04, 3.19762402e+04,\n",
              "        2.96142949e+04, 4.48334258e+04, 4.32264375e+04, 1.52424111e+04,\n",
              "        2.86075918e+04, 4.23484023e+04, 7.25031172e+04, 1.21924250e+05,\n",
              "        6.41490500e+05, 8.50461375e+05, 1.11135250e+06, 1.22003288e+06,\n",
              "        1.54110100e+06, 2.03451888e+06, 1.76440675e+06, 4.22098719e+05,\n",
              "        1.30513617e+05, 7.30579375e+04, 8.56106875e+04, 7.42399219e+04,\n",
              "        1.49466484e+05, 1.25624111e+04, 2.13100684e+04, 9.81801094e+04,\n",
              "        7.28017891e+04, 1.26064570e+05, 1.01337180e+05, 1.24553477e+05,\n",
              "        7.13406719e+04, 8.41951797e+04, 6.25290625e+04, 8.18796172e+04,\n",
              "        1.27303258e+05, 8.94660078e+04, 1.04100891e+05, 1.66147531e+05,\n",
              "        2.32076047e+05, 4.41966531e+05, 1.75839109e+05, 1.76445078e+05,\n",
              "        9.12171094e+04, 1.67975547e+05, 1.87876500e+05, 1.07636641e+05,\n",
              "        3.26579023e+04, 5.35408945e+04, 1.38144219e+05, 3.28639000e+05,\n",
              "        6.38893000e+05, 1.08279062e+06, 1.55802688e+06, 2.42137000e+06,\n",
              "        2.08980188e+06, 9.83022000e+05, 4.27435062e+05, 5.84014375e+04,\n",
              "        4.02858125e+04, 5.27582695e+04, 1.33694031e+05, 2.41685969e+05,\n",
              "        2.54569906e+05, 2.18475656e+05, 2.39844203e+05, 1.72919391e+05,\n",
              "        9.46134297e+04, 8.14815547e+04, 1.83792781e+05, 3.41631688e+05,\n",
              "        2.67091656e+05, 3.54821562e+05, 1.69607172e+05, 2.63052148e+04,\n",
              "        2.11336660e+04, 1.11685516e+05, 6.08848320e+04, 4.64013945e+04,\n",
              "        6.97663359e+04, 1.16935750e+05, 1.44631531e+05, 1.14627359e+05,\n",
              "        7.92805547e+04, 5.69165547e+04, 3.03999824e+04, 9.47754453e+04,\n",
              "        1.19674555e+05, 2.15399078e+05, 3.15528062e+05, 4.17612281e+05,\n",
              "        3.91753469e+05, 2.83128781e+05, 8.15815625e+04, 5.00838711e+04,\n",
              "        1.01595758e+05, 6.17700664e+04, 3.16725938e+05, 5.76747812e+05,\n",
              "        7.41102938e+05, 1.33218062e+06, 1.56516288e+06, 1.55553262e+06,\n",
              "        1.68517800e+06, 3.21848812e+05, 6.30699648e+04, 7.78368047e+04,\n",
              "        5.12543789e+04, 1.14444672e+05, 1.13520664e+05, 7.03018281e+04,\n",
              "        4.71100312e+04, 4.52434969e+05, 7.79104812e+05, 7.32536688e+05,\n",
              "        1.03909069e+06, 1.56208825e+06, 1.63956662e+06, 1.72790162e+06,\n",
              "        4.00524938e+05, 2.34607969e+05, 1.76724578e+05, 6.78014375e+04,\n",
              "        3.90380906e+05, 9.80138500e+05, 1.03536912e+06, 8.44671688e+05,\n",
              "        1.38894238e+06, 1.98340575e+06, 3.62835000e+06, 2.66920550e+06,\n",
              "        1.42116625e+06, 4.54600656e+05, 3.65966188e+05, 9.46591875e+05,\n",
              "        1.45184338e+06, 1.85899962e+06, 1.89930900e+06, 1.82373088e+06,\n",
              "        1.21286275e+06, 4.94639656e+05, 1.49650112e+06, 2.03091888e+06,\n",
              "        2.25657600e+06, 2.11181391e+05, 1.21395414e+05, 3.04311312e+05,\n",
              "        7.11903125e+05, 6.20310625e+05, 8.05388000e+05, 6.26904125e+05,\n",
              "        5.66389625e+05, 4.27519062e+05, 7.83490438e+05, 3.63024725e+06,\n",
              "        8.18037700e+06, 1.07676110e+07, 1.26563590e+07, 1.33500370e+07,\n",
              "        1.33957210e+07, 6.52510400e+06, 1.60696225e+06, 8.56755125e+05,\n",
              "        1.15616888e+06, 1.69268262e+06, 2.17123725e+06, 3.34217825e+06,\n",
              "        7.84993050e+06, 1.08378820e+07, 1.05727040e+07, 1.01602590e+07,\n",
              "        1.14205950e+07, 1.16179760e+07, 1.73510000e+07, 1.79301540e+07,\n",
              "        2.70626400e+07, 3.72665360e+07, 2.97687480e+07, 2.14580120e+07,\n",
              "        2.44065800e+07, 1.56006630e+07, 1.03771430e+07, 9.93532300e+06,\n",
              "        2.18889420e+07, 3.45002520e+07, 2.72495560e+07, 2.51544575e+06,\n",
              "        2.11410050e+06, 1.65101438e+06, 8.78065100e+06, 1.42263850e+07,\n",
              "        1.50277490e+07, 1.42628800e+07, 1.11521150e+07, 1.31385830e+07,\n",
              "        1.44270310e+07, 2.10808025e+06, 2.37276825e+06, 2.06520375e+06,\n",
              "        1.51271862e+06, 1.63592488e+06, 6.01036300e+06, 1.48181600e+07,\n",
              "        1.51462650e+07, 8.88826800e+06, 1.03656160e+07, 1.24236500e+07,\n",
              "        3.12300380e+07, 4.44121720e+07, 3.35616920e+07, 3.37025520e+07,\n",
              "        4.33024880e+07, 4.04648120e+07, 6.68120760e+07, 2.68143000e+07,\n",
              "        3.37227625e+06, 6.18198100e+06, 3.33603075e+06, 9.76003500e+06,\n",
              "        9.50540900e+06, 1.48300480e+07, 1.08089090e+07, 1.52812330e+07,\n",
              "        1.21298720e+07, 1.47111110e+07, 4.46197040e+07, 6.19226600e+07,\n",
              "        1.05739152e+08, 8.06071200e+07, 3.00356780e+07, 1.30779050e+07,\n",
              "        4.55989850e+06, 1.67929975e+06, 6.99429200e+06, 1.63486880e+07,\n",
              "        1.21498720e+07, 1.21798100e+07, 1.68979380e+07, 2.39387620e+07,\n",
              "        3.73065320e+07, 5.09610680e+07, 4.59522160e+07, 3.20003220e+07,\n",
              "        2.06371660e+07, 8.14506450e+06, 4.14795200e+06, 4.23500700e+06,\n",
              "        3.09785350e+06, 8.37916900e+06, 7.36109850e+06, 7.06096000e+06,\n",
              "        1.57310800e+07, 2.78767000e+07, 4.07340160e+07, 3.28521320e+07,\n",
              "        2.89016620e+07, 3.40229975e+06, 3.84223750e+06, 8.10805100e+06,\n",
              "        1.74778640e+07, 2.13824540e+07, 5.77503650e+06, 7.30699550e+06,\n",
              "        3.70580475e+06, 6.14523812e+05, 1.92766775e+06, 2.29575050e+06,\n",
              "        1.09031838e+06, 1.19422512e+06, 2.01535212e+06, 1.38584200e+06,\n",
              "        2.60915475e+06, 7.48125100e+06, 1.25728590e+07, 1.49188430e+07,\n",
              "        7.64713050e+06, 9.50859600e+06, 1.16537280e+07, 2.15389020e+07,\n",
              "        4.32745680e+07, 6.52255360e+07, 9.30124960e+07, 8.49971200e+07,\n",
              "        5.87007160e+07, 3.43533080e+07, 2.82686400e+07, 9.30443000e+06,\n",
              "        4.66935400e+06, 8.00185850e+06, 2.05975080e+07, 4.07234520e+07,\n",
              "        1.93118560e+07, 4.04351800e+06, 5.92505450e+06, 7.37347950e+06,\n",
              "        2.68488600e+06, 5.27761950e+06, 1.84824825e+06, 4.87236000e+06,\n",
              "        4.87888300e+06, 5.77537050e+06, 1.21702160e+07, 2.70199620e+07,\n",
              "        4.94704520e+07, 6.90301360e+07, 8.50554960e+07], dtype=float32),\n",
              " 'rmse': array([  561.7495 ,   411.29678,   379.64737,   419.52734,   513.34235,\n",
              "          625.7136 ,   632.0809 ,   586.8749 ,   702.77484,   829.9319 ,\n",
              "          958.48987,   894.9798 ,   797.188  ,   803.45245,   598.1142 ,\n",
              "          320.9477 ,   230.89677,   215.83145,   332.18823,   334.13614,\n",
              "          208.65268,   233.53607,   213.50635,   276.5653 ,   200.76714,\n",
              "          164.6441 ,   137.93842,   213.454  ,   206.23889,   257.5365 ,\n",
              "          341.67484,   411.6315 ,   332.39597,   399.6352 ,   402.03345,\n",
              "          351.94003,   388.2749 ,   362.21103,   234.58067,   250.6305 ,\n",
              "          421.2769 ,   163.96413,   159.07056,   160.6378 ,   116.0149 ,\n",
              "           62.30582,    96.06189,   110.63602,   148.617  ,   189.9546 ,\n",
              "          220.89853,   193.55943,   202.62364,   204.30833,   332.40106,\n",
              "          448.06412,   590.0423 ,   598.3822 ,   573.03925,   544.52356,\n",
              "          483.06705,   392.48785,   378.3803 ,   403.22043,   544.47473,\n",
              "          516.60504,   542.39154,   556.8371 ,   250.43527,   293.917  ,\n",
              "          311.37442,   449.23853,   545.02716,   447.9677 ,   356.79877,\n",
              "          364.0196 ,   290.86456,   418.11108,   543.2442 ,   689.8476 ,\n",
              "          849.6431 ,   680.228  ,   364.9037 ,   285.24335,   185.2317 ,\n",
              "          185.79707,   231.70139,   272.47244,   330.6649 ,   528.85016,\n",
              "          468.1019 ,   447.1402 ,   407.3114 ,   285.786  ,   219.63359,\n",
              "          406.5727 ,   426.26086,   575.01733,   680.9015 ,   821.6116 ,\n",
              "          578.71564,   411.51428,   321.27786,   385.1597 ,   546.52124,\n",
              "          609.8789 ,   665.8121 ,   726.5707 ,  1062.757  ,  1003.2593 ,\n",
              "          896.24084,   470.40167,   257.8545 ,   163.14975,   181.57397,\n",
              "          410.6869 ,   419.83063,   547.1423 ,   657.11084,  1383.2822 ,\n",
              "         1975.7382 ,  2508.9888 ,  2343.1655 ,  2501.3538 ,  2507.2266 ,\n",
              "         2690.4958 ,  1442.7177 ,   816.5695 ,   380.31616,   428.26834,\n",
              "          583.9743 ,   549.60754,   609.3762 ,   449.9093 ,   368.98633,\n",
              "          287.18576,   442.7268 ,   401.98944,   414.00623,   447.89157,\n",
              "          487.0311 ,   398.39706,   252.1963 ,   582.1554 ,   723.54974,\n",
              "          534.98785,   438.5498 ,   193.32986,   363.26624,   305.47745,\n",
              "          344.1564 ,   548.2694 ,   478.537  ,   598.2932 ,   486.02383,\n",
              "          414.16183,   163.85469,   218.89845,   200.10545,   232.60104,\n",
              "          328.08755,   313.05252,   266.14844,   256.1226 ,   292.18823,\n",
              "          365.83694,   522.03064,   808.7849 ,   705.13245,   781.78595,\n",
              "          996.4478 ,   978.10596,  1046.6199 ,  1092.1685 ,   612.3742 ,\n",
              "          471.22586,   510.5097 ,   433.7152 ,   433.50635,   499.05832,\n",
              "          615.7856 ,   638.5192 ,   790.4319 ,   980.857  ,   891.82074,\n",
              "          374.91034,   515.0013 ,   791.3722 ,   453.65695,   255.55544,\n",
              "          365.46252,   338.66144,   476.35483,   511.10403,   713.10364,\n",
              "          700.5315 ,   488.59207,   261.83102,   270.2924 ,   231.54144,\n",
              "          572.9073 ,   791.4844 ,   719.5373 ,   576.6601 ,   415.51968,\n",
              "          287.7741 ,   378.6725 ,   297.1819 ,   227.12227,   205.13327,\n",
              "          421.95914,   342.56683,   341.86307,   320.02643,   409.25476,\n",
              "          453.3314 ,   522.707  ,   217.68951,   214.61185,   231.02473,\n",
              "          280.54724,   265.7977 ,   228.72122,   158.20334,   212.60973,\n",
              "          203.6495 ,   264.59555,   352.32443,   366.28912,   581.72314,\n",
              "          312.34738,   331.6975 ,   141.13756,   182.4108 ,   156.1133 ,\n",
              "          166.31778,   164.43416,   125.74356,   107.78149,   165.7868 ,\n",
              "          171.83382,   198.9657 ,   167.88252,   178.64987,   236.72202,\n",
              "          199.58447,   224.09859,   178.81902,   172.08804,   211.73904,\n",
              "          207.90968,   123.46016,   169.13779,   205.78728,   269.26404,\n",
              "          349.1765 ,   800.93097,   922.20465,  1054.207  ,  1104.551  ,\n",
              "         1241.4109 ,  1426.3656 ,  1328.3097 ,   649.6912 ,   361.2667 ,\n",
              "          270.29233,   292.59305,   272.47003,   386.60898,   112.08216,\n",
              "          145.97968,   313.33704,   269.81805,   355.05573,   318.33502,\n",
              "          352.92136,   267.09674,   290.16406,   250.05812,   286.14615,\n",
              "          356.7958 ,   299.10867,   322.6467 ,   407.61197,   481.7427 ,\n",
              "          664.8056 ,   419.33173,   420.05365,   302.0217 ,   409.8482 ,\n",
              "          433.44724,   328.08023,   180.71498,   231.38905,   371.67758,\n",
              "          573.27045,   799.3078 ,  1040.5723 ,  1248.2095 ,  1556.0752 ,\n",
              "         1445.6147 ,   991.4747 ,   653.78516,   241.6639 ,   200.71326,\n",
              "          229.69168,   365.64194,   491.61566,   504.5492 ,   467.4138 ,\n",
              "          489.73892,   415.83575,   307.59296,   285.44974,   428.7106 ,\n",
              "          584.4927 ,   516.8091 ,   595.669  ,   411.83392,   162.18883,\n",
              "          145.37422,   334.19382,   246.74852,   215.40982,   264.13318,\n",
              "          341.95868,   380.30453,   338.56662,   281.56802,   238.5719 ,\n",
              "          174.35591,   307.8562 ,   345.9401 ,   464.11105,   561.7188 ,\n",
              "          646.2293 ,   625.9021 ,   532.09845,   285.62488,   223.79427,\n",
              "          318.74088,   248.53584,   562.78406,   759.43915,   860.87335,\n",
              "         1154.2013 ,  1251.0647 ,  1247.21   ,  1298.144  ,   567.3172 ,\n",
              "          251.13734,   278.99246,   226.3943 ,   338.29672,   336.92828,\n",
              "          265.14493,   217.04845,   672.6329 ,   882.6691 ,   855.88354,\n",
              "         1019.358  ,  1249.8352 ,  1280.4556 ,  1314.4967 ,   632.87036,\n",
              "          484.36346,   420.38623,   260.3871 ,   624.8047 ,   990.0194 ,\n",
              "         1017.5309 ,   919.0602 ,  1178.5339 ,  1408.3344 ,  1904.8229 ,\n",
              "         1633.7703 ,  1192.1268 ,   674.2408 ,   604.95135,   972.9295 ,\n",
              "         1204.9246 ,  1363.4513 ,  1378.1542 ,  1350.4558 ,  1101.3004 ,\n",
              "          703.3062 ,  1223.3156 ,  1425.1031 ,  1502.1904 ,   459.54477,\n",
              "          348.41843,   551.64417,   843.7435 ,   787.598  ,   897.4341 ,\n",
              "          791.77277,   752.5886 ,   653.8494 ,   885.14996,  1905.3208 ,\n",
              "         2860.1357 ,  3281.4038 ,  3557.5776 ,  3653.7703 ,  3660.0164 ,\n",
              "         2554.4282 ,  1267.6602 ,   925.61066,  1075.2529 ,  1301.0314 ,\n",
              "         1473.5118 ,  1828.1625 ,  2801.7727 ,  3292.0938 ,  3251.5696 ,\n",
              "         3187.516  ,  3379.437  ,  3408.5151 ,  4165.453  ,  4234.401  ,\n",
              "         5202.1763 ,  6104.6323 ,  5456.074  ,  4632.2793 ,  4940.3013 ,\n",
              "         3949.7673 ,  3221.3572 ,  3152.0347 ,  4678.562  ,  5873.6914 ,\n",
              "         5220.111  ,  1586.0157 ,  1453.9946 ,  1284.9181 ,  2963.2163 ,\n",
              "         3771.788  ,  3876.564  ,  3776.6228 ,  3339.4783 ,  3624.7183 ,\n",
              "         3798.2932 ,  1451.9229 ,  1540.3793 ,  1437.0817 ,  1229.9263 ,\n",
              "         1279.0327 ,  2451.6042 ,  3849.4363 ,  3891.8203 ,  2981.3198 ,\n",
              "         3219.5676 ,  3524.72   ,  5588.3843 ,  6664.2456 ,  5793.245  ,\n",
              "         5805.3896 ,  6580.4624 ,  6361.196  ,  8173.865  ,  5178.2524 ,\n",
              "         1836.3759 ,  2486.359  ,  1826.4805 ,  3124.1055 ,  3083.0842 ,\n",
              "         3850.98   ,  3287.6904 ,  3909.1218 ,  3482.7966 ,  3835.5066 ,\n",
              "         6679.798  ,  7869.095  , 10282.954  ,  8978.146  ,  5480.4814 ,\n",
              "         3616.3386 ,  2135.3918 ,  1295.8779 ,  2644.6724 ,  4043.351  ,\n",
              "         3485.6667 ,  3489.9585 ,  4110.71   ,  4892.725  ,  6107.907  ,\n",
              "         7138.702  ,  6778.8066 ,  5656.883  ,  4542.8145 ,  2853.9558 ,\n",
              "         2036.6521 ,  2057.9133 ,  1760.072  ,  2894.6794 ,  2713.1345 ,\n",
              "         2657.2466 ,  3966.2424 ,  5279.839  ,  6382.3203 ,  5731.6777 ,\n",
              "         5376.0264 ,  1844.5323 ,  1960.1626 ,  2847.4639 ,  4180.6533 ,\n",
              "         4624.1167 ,  2403.1304 ,  2703.1455 ,  1925.0466 ,   783.91565,\n",
              "         1388.4048 ,  1515.1733 ,  1044.1831 ,  1092.806  ,  1419.631  ,\n",
              "         1177.2179 ,  1615.2878 ,  2735.1875 ,  3545.8228 ,  3862.492  ,\n",
              "         2765.3445 ,  3083.601  ,  3413.7559 ,  4641.002  ,  6578.341  ,\n",
              "         8076.233  ,  9644.299  ,  9219.388  ,  7661.639  ,  5861.1694 ,\n",
              "         5316.826  ,  3050.3164 ,  2160.8687 ,  2828.7556 ,  4538.4478 ,\n",
              "         6381.4927 ,  4394.5254 ,  2010.85   ,  2434.1433 ,  2715.415  ,\n",
              "         1638.5621 ,  2297.307  ,  1359.5029 ,  2207.3423 ,  2208.8193 ,\n",
              "         2403.2    ,  3488.5837 ,  5198.0728 ,  7033.5234 ,  8308.4375 ,\n",
              "         9222.554  ], dtype=float32)}"
            ]
          },
          "metadata": {},
          "execution_count": 74
        }
      ]
    },
    {
      "cell_type": "markdown",
      "source": [
        "## Make our evaluation function `evaluate_preds` work for larger horizons"
      ],
      "metadata": {
        "id": "FnWYRvF7TqQH"
      }
    },
    {
      "cell_type": "code",
      "source": [
        "model_3_results[\"mae\"].ndim"
      ],
      "metadata": {
        "colab": {
          "base_uri": "https://localhost:8080/"
        },
        "id": "obuLGgoeUOsN",
        "outputId": "6baf1962-1f92-4aae-fa18-d3c9c58982da"
      },
      "execution_count": 75,
      "outputs": [
        {
          "output_type": "execute_result",
          "data": {
            "text/plain": [
              "1"
            ]
          },
          "metadata": {},
          "execution_count": 75
        }
      ]
    },
    {
      "cell_type": "code",
      "source": [
        "model_2_results[\"mae\"].ndim"
      ],
      "metadata": {
        "colab": {
          "base_uri": "https://localhost:8080/"
        },
        "id": "1n5vZk-vUXRr",
        "outputId": "db1ef92e-83d7-4f94-a733-3cc1bc31e1f5"
      },
      "execution_count": 76,
      "outputs": [
        {
          "output_type": "execute_result",
          "data": {
            "text/plain": [
              "0"
            ]
          },
          "metadata": {},
          "execution_count": 76
        }
      ]
    },
    {
      "cell_type": "code",
      "source": [
        "def evaluate_preds(y_true, y_pred):\n",
        "  # Make sure float32 (for metric calculations), if not in float32 tensorflow sometimes gives errors\n",
        "  y_true = tf.cast(y_true, dtype=tf.float32)\n",
        "  y_pred = tf.cast(y_pred, dtype=tf.float32)\n",
        "\n",
        "  # Calculate various metrics\n",
        "  mae = tf.keras.metrics.mean_absolute_error(y_true, y_pred)\n",
        "  mse = tf.keras.metrics.mean_squared_error(y_true, y_pred) # puts and emphasis on outliers (all errors get squared)\n",
        "  rmse = tf.sqrt(mse)\n",
        "  mape = tf.keras.metrics.mean_absolute_percentage_error(y_true, y_pred)\n",
        "  mase = mean_absolute_scaled_error(y_true, y_pred)\n",
        "\n",
        "  # These are the modifications needed:\n",
        "  # Account for different sized metrics (for longer horizons, we want to reduce metrics to a single value)\n",
        "  if mae.ndim > 0:\n",
        "    mae = tf.reduce_mean(mae)\n",
        "    mse = tf.reduce_mean(mse)\n",
        "    rmse = tf.reduce_mean(rmse)\n",
        "    mape = tf.reduce_mean(mape)\n",
        "    mase = tf.reduce_mean(mase)\n",
        "  \n",
        "  return {\"mae\": mae.numpy(),\n",
        "          \"mse\": mse.numpy(),\n",
        "          \"rmse\": rmse.numpy(),\n",
        "          \"mape\": mape.numpy(),\n",
        "          \"mase\": mase.numpy()}"
      ],
      "metadata": {
        "id": "_F5twnBb7QCM"
      },
      "execution_count": 77,
      "outputs": []
    },
    {
      "cell_type": "code",
      "source": [
        "model_3_results = evaluate_preds(y_true = tf.squeeze(test_labels), \n",
        "                                 y_pred = model_3_preds)\n",
        "\n",
        "model_3_results"
      ],
      "metadata": {
        "colab": {
          "base_uri": "https://localhost:8080/"
        },
        "id": "mTYh4-0jbUAV",
        "outputId": "767aeb94-a32c-49d9-9aab-945c04e425cb"
      },
      "execution_count": 78,
      "outputs": [
        {
          "output_type": "execute_result",
          "data": {
            "text/plain": [
              "{'mae': 1237.5065,\n",
              " 'mape': 5.558879,\n",
              " 'mase': 2.2020733,\n",
              " 'mse': 5405199.0,\n",
              " 'rmse': 1425.7478}"
            ]
          },
          "metadata": {},
          "execution_count": 78
        }
      ]
    },
    {
      "cell_type": "code",
      "source": [
        "model_3_preds[:5]"
      ],
      "metadata": {
        "colab": {
          "base_uri": "https://localhost:8080/"
        },
        "id": "pu2UUc1wc-zv",
        "outputId": "7989fb36-0fc7-47d2-bafe-2b14e73d085e"
      },
      "execution_count": 79,
      "outputs": [
        {
          "output_type": "execute_result",
          "data": {
            "text/plain": [
              "<tf.Tensor: shape=(5, 7), dtype=float32, numpy=\n",
              "array([[9004.694 , 9048.1   , 9425.09  , 9258.256 , 9495.797 , 9558.453 ,\n",
              "        9357.3545],\n",
              "       [8735.506 , 8840.303 , 9247.793 , 8885.601 , 9097.186 , 9174.327 ,\n",
              "        9156.818 ],\n",
              "       [8672.508 , 8782.387 , 9123.857 , 8770.371 , 9007.13  , 9003.869 ,\n",
              "        9042.725 ],\n",
              "       [8874.399 , 8784.74  , 9043.902 , 8943.052 , 9033.477 , 9176.489 ,\n",
              "        9039.677 ],\n",
              "       [8825.891 , 8777.44  , 8926.78  , 8870.179 , 9213.232 , 9268.156 ,\n",
              "        8942.487 ]], dtype=float32)>"
            ]
          },
          "metadata": {},
          "execution_count": 79
        }
      ]
    },
    {
      "cell_type": "code",
      "source": [
        "offset = 300\n",
        "plt.figure(figsize=(10,7))\n",
        "plot_time_series(timesteps = X_test[-len(test_windows):], \n",
        "                 values = test_labels[:, 0], \n",
        "                 start = offset,\n",
        "                 format = '-', \n",
        "                 label= \"Test Data\")\n",
        "                 \n",
        "plot_time_series(timesteps = X_test[-len(test_windows):], \n",
        "                 values = model_3_preds, \n",
        "                 start = offset, \n",
        "                 format = '.',\n",
        "                 label= \"model_3_preds\")"
      ],
      "metadata": {
        "colab": {
          "base_uri": "https://localhost:8080/",
          "height": 442
        },
        "id": "j2wBW4UPbesT",
        "outputId": "429980a1-d875-4c09-f2f7-dfee6444c495"
      },
      "execution_count": 80,
      "outputs": [
        {
          "output_type": "display_data",
          "data": {
            "text/plain": [
              "<Figure size 720x504 with 1 Axes>"
            ],
            "image/png": "[encoded data removed]"
          },
          "metadata": {
            "needs_background": "light"
          }
        }
      ]
    },
    {
      "cell_type": "markdown",
      "source": [
        "Below we'll lose some values, as we are using `tf.reduce_mean` to visualise the above plot in a better way, as our model's real predictions are across 7 days"
      ],
      "metadata": {
        "id": "qdg2G5OueCU2"
      }
    },
    {
      "cell_type": "code",
      "source": [
        "offset = 300\n",
        "plt.figure(figsize=(10,7))\n",
        "plot_time_series(timesteps = X_test[-len(test_windows):], \n",
        "                 values = test_labels[:, 0], \n",
        "                 start = offset,\n",
        "                 format = '.', \n",
        "                 label= \"Test Data\")\n",
        "                 \n",
        "plot_time_series(timesteps = X_test[-len(test_windows):], \n",
        "                 values = tf.reduce_mean(model_3_preds, axis=1), \n",
        "                 start = offset, \n",
        "                 format = '-',\n",
        "                 label= \"model_3_preds\")"
      ],
      "metadata": {
        "colab": {
          "base_uri": "https://localhost:8080/",
          "height": 442
        },
        "id": "hOIN6YKmcuse",
        "outputId": "04a613ee-a3f9-4c3a-8c83-e6a32d7cb592"
      },
      "execution_count": 81,
      "outputs": [
        {
          "output_type": "display_data",
          "data": {
            "text/plain": [
              "<Figure size 720x504 with 1 Axes>"
            ],
            "image/png": "[encoded data removed]"
          },
          "metadata": {
            "needs_background": "light"
          }
        }
      ]
    },
    {
      "cell_type": "markdown",
      "source": [
        "Seeing which model has performed the best so far"
      ],
      "metadata": {
        "id": "Ns9JF_-BelSx"
      }
    },
    {
      "cell_type": "code",
      "source": [
        "pd.DataFrame({'naive': naive_results[\"mae\"],\n",
        "              'horizon_1_window_7': model_1_results[\"mae\"],\n",
        "              'horizon_1_window_30': model_2_results[\"mae\"],\n",
        "              'horizon_7_window_30': model_3_results[\"mae\"]}, index =[\"mae\"]).plot(figsize=(10,7), kind = \"bar\") "
      ],
      "metadata": {
        "colab": {
          "base_uri": "https://localhost:8080/",
          "height": 458
        },
        "id": "Yn20G6f0dmFo",
        "outputId": "1ad46a1c-73ea-4c9c-d7d2-74c47fb23cec"
      },
      "execution_count": 82,
      "outputs": [
        {
          "output_type": "execute_result",
          "data": {
            "text/plain": [
              "<matplotlib.axes._subplots.AxesSubplot at 0x7fc686aefa10>"
            ]
          },
          "metadata": {},
          "execution_count": 82
        },
        {
          "output_type": "display_data",
          "data": {
            "text/plain": [
              "<Figure size 720x504 with 1 Axes>"
            ],
            "image/png": "[encoded data removed]"
          },
          "metadata": {
            "needs_background": "light"
          }
        }
      ]
    },
    {
      "cell_type": "markdown",
      "source": [
        "Here, we can see our baseline model (naive model) performs the best, and as we try to predict more into the future the error increases."
      ],
      "metadata": {
        "id": "Snfh1ZlVfzw9"
      }
    },
    {
      "cell_type": "markdown",
      "source": [
        "If a time series has autocorrelation it means the value at t+1 (the next timestep) is typically close to the value at t (the current timestep). In other words, today's value is probably pretty close to yesterday's value. Of course, this isn't always the case but when it is, a naïve model will often get fairly good results."
      ],
      "metadata": {
        "id": "dZz8sRZiht2x"
      }
    },
    {
      "cell_type": "markdown",
      "source": [
        "## Recreating dataset for our LSTM model\n",
        "\n",
        "For the next models we'll use HORIZON = 1 and WINDOW_SIZE = 7"
      ],
      "metadata": {
        "id": "2ISkk9JgGDOe"
      }
    },
    {
      "cell_type": "code",
      "source": [
        "HORIZON = 1 # predict next day of Bitcoin prices\n",
        "WINDOW_SIZE = 7 # use previous week worth of data"
      ],
      "metadata": {
        "id": "wIEcoLGzjy5g"
      },
      "execution_count": 83,
      "outputs": []
    },
    {
      "cell_type": "code",
      "source": [
        "# Create windowed data\n",
        "\n",
        "full_windows, full_labels = make_windows(prices, window_size = WINDOW_SIZE, horizon=HORIZON)\n",
        "\n",
        "len(full_windows), len(full_labels)"
      ],
      "metadata": {
        "colab": {
          "base_uri": "https://localhost:8080/"
        },
        "id": "AVEljtR0jyx6",
        "outputId": "e934757a-b927-44fe-cada-53236e2032a8"
      },
      "execution_count": 84,
      "outputs": [
        {
          "output_type": "stream",
          "name": "stdout",
          "text": [
            "Window step:\n",
            "  [[0 1 2 3 4 5 6 7]]\n",
            "Window indexes:\n",
            " (array([[0, 1, 2, 3, 4, 5, 6, 7],\n",
            "       [1, 2, 3, 4, 5, 6, 7, 8],\n",
            "       [2, 3, 4, 5, 6, 7, 8, 9]]), array([[2777, 2778, 2779, 2780, 2781, 2782, 2783, 2784],\n",
            "       [2778, 2779, 2780, 2781, 2782, 2783, 2784, 2785],\n",
            "       [2779, 2780, 2781, 2782, 2783, 2784, 2785, 2786]]), (2780, 8))\n",
            "Windowed array:\n",
            " [[  123.65499   125.455     108.58483 ...   120.65533   121.795\n",
            "    123.033  ]\n",
            " [  125.455     108.58483   118.67466 ...   121.795     123.033\n",
            "    124.049  ]\n",
            " [  108.58483   118.67466   121.33866 ...   123.033     124.049\n",
            "    125.96116]\n",
            " ...\n",
            " [58788.20968 58102.19143 55715.54665 ... 49764.13208 50032.69314\n",
            "  47885.62525]\n",
            " [58102.19143 55715.54665 56573.55547 ... 50032.69314 47885.62525\n",
            "  45604.61575]\n",
            " [55715.54665 56573.55547 52147.82119 ... 47885.62525 45604.61575\n",
            "  43144.47129]]\n"
          ]
        },
        {
          "output_type": "execute_result",
          "data": {
            "text/plain": [
              "(2780, 2780)"
            ]
          },
          "metadata": {},
          "execution_count": 84
        }
      ]
    },
    {
      "cell_type": "code",
      "source": [
        "# Create train/test splits\n",
        "\n",
        "train_windows, test_windows, train_labels, test_labels = make_train_test_splits(windows = full_windows, labels = full_labels)\n",
        "\n",
        "len(train_windows), len(test_windows), len(train_labels), len(test_labels)"
      ],
      "metadata": {
        "colab": {
          "base_uri": "https://localhost:8080/"
        },
        "id": "mfPzjwkTjye6",
        "outputId": "7dd8b254-4ce2-482e-d3fc-984ce144e1fd"
      },
      "execution_count": 85,
      "outputs": [
        {
          "output_type": "execute_result",
          "data": {
            "text/plain": [
              "(2224, 556, 2224, 556)"
            ]
          },
          "metadata": {},
          "execution_count": 85
        }
      ]
    },
    {
      "cell_type": "markdown",
      "source": [
        "We need and an input shape of: `(batch_size, timesteps, input_dim)`\n",
        "\n",
        "But our data is not in that shape"
      ],
      "metadata": {
        "id": "OYY7hAEIl-ae"
      }
    },
    {
      "cell_type": "code",
      "source": [
        "# Check data input shape\n",
        "\n",
        "train_windows[0].shape # returns (WINDOW_SIZE, )"
      ],
      "metadata": {
        "colab": {
          "base_uri": "https://localhost:8080/"
        },
        "id": "Mlw8NZ-omPhF",
        "outputId": "03d1f3a3-a62b-42f8-d9ed-70177957e24b"
      },
      "execution_count": 86,
      "outputs": [
        {
          "output_type": "execute_result",
          "data": {
            "text/plain": [
              "(7,)"
            ]
          },
          "metadata": {},
          "execution_count": 86
        }
      ]
    },
    {
      "cell_type": "code",
      "source": [
        "x = tf.constant(train_windows[0]) # Turning our 0th index of train_windows into a tensor\n",
        "x"
      ],
      "metadata": {
        "colab": {
          "base_uri": "https://localhost:8080/"
        },
        "id": "ZIIJ7IXvmPWR",
        "outputId": "f6de05e2-7f85-4798-b928-d928fd22dfd5"
      },
      "execution_count": 87,
      "outputs": [
        {
          "output_type": "execute_result",
          "data": {
            "text/plain": [
              "<tf.Tensor: shape=(7,), dtype=float64, numpy=\n",
              "array([123.65499, 125.455  , 108.58483, 118.67466, 121.33866, 120.65533,\n",
              "       121.795  ])>"
            ]
          },
          "metadata": {},
          "execution_count": 87
        }
      ]
    },
    {
      "cell_type": "code",
      "source": [
        "expand_dims_layer = layers.Lambda(lambda x: tf.expand_dims(x, axis=1)) # add an extra dimension for `input_dim`"
      ],
      "metadata": {
        "id": "fbW7gGramfw4"
      },
      "execution_count": 88,
      "outputs": []
    },
    {
      "cell_type": "code",
      "source": [
        "# Testing out lambda layer \n",
        "\n",
        "print(f\"Original shape: {x.shape}\") # (WINDOW_SIZE)\n",
        "print(f\"Expanded shape: {expand_dims_layer(x).shape}\")\n",
        "print(f\"Original values with expanded shape:\\n {expand_dims_layer(x)}\")"
      ],
      "metadata": {
        "colab": {
          "base_uri": "https://localhost:8080/"
        },
        "id": "pLr1uvPcmfjJ",
        "outputId": "7e714ad8-120f-4d3b-d3ed-6801ec37312b"
      },
      "execution_count": 89,
      "outputs": [
        {
          "output_type": "stream",
          "name": "stdout",
          "text": [
            "Original shape: (7,)\n",
            "Expanded shape: (7, 1)\n",
            "Original values with expanded shape:\n",
            " [[123.65499]\n",
            " [125.455  ]\n",
            " [108.58483]\n",
            " [118.67466]\n",
            " [121.33866]\n",
            " [120.65533]\n",
            " [121.795  ]]\n"
          ]
        }
      ]
    },
    {
      "cell_type": "markdown",
      "source": [
        "## Model 4: RNN (LSTM)\n",
        "\n",
        "Building RNN model for our time series data"
      ],
      "metadata": {
        "id": "pvLj8q2tiXPR"
      }
    },
    {
      "cell_type": "code",
      "source": [
        "tf.random.set_seed(42)\n",
        "\n",
        "# Building LSTM model with functional API instead of Sequential API as it is a bit more flexible\n",
        "\n",
        "inputs = layers.Input(shape=(WINDOW_SIZE)) # input layer\n",
        "x = layers.Lambda(lambda x: tf.expand_dims(x, axis=1))(inputs) # reshaping the inputs\n",
        "x = layers.LSTM(128, activation =\"relu\")(x) # passing the reshaped inputs through an LSTM\n",
        "output = layers.Dense(HORIZON, activation = \"linear\")(x) # and passing through the output\n",
        "\n",
        "model_4 = tf.keras.Model(inputs = inputs, outputs = output, name = \"model_4_LSTM\")\n",
        "\n",
        "# Compile model\n",
        "\n",
        "model_4.compile(loss=\"mae\",\n",
        "                optimizer = tf.keras.optimizers.Adam())\n",
        "\n",
        "# Fit model\n",
        "\n",
        "model_4.fit(train_windows, \n",
        "            train_labels,\n",
        "            epochs = 100,\n",
        "            verbose = 1,\n",
        "            batch_size = 128,\n",
        "            validation_data = (test_windows, test_labels),\n",
        "            callbacks = [create_model_checkpoint(model_name = model_4.name)]\n",
        "            )\n",
        "\n"
      ],
      "metadata": {
        "colab": {
          "base_uri": "https://localhost:8080/"
        },
        "id": "Zp_UU1-Ufg8a",
        "outputId": "1b662395-15b3-4777-de9f-3c8eb82694b4"
      },
      "execution_count": 90,
      "outputs": [
        {
          "output_type": "stream",
          "name": "stdout",
          "text": [
            "WARNING:tensorflow:Layer lstm will not use cuDNN kernels since it doesn't meet the criteria. It will use a generic GPU kernel as fallback when running on GPU.\n",
            "Epoch 1/100\n",
            "12/18 [===================>..........] - ETA: 0s - loss: 2534.5144 INFO:tensorflow:Assets written to: /content/drive/MyDrive/BTC Predictor/model_experiments/model_4_LSTM/assets\n"
          ]
        },
        {
          "output_type": "stream",
          "name": "stderr",
          "text": [
            "WARNING:absl:<keras.layers.recurrent.LSTMCell object at 0x7fc686be0710> has the same name 'LSTMCell' as a built-in Keras object. Consider renaming <class 'keras.layers.recurrent.LSTMCell'> to avoid naming conflicts when loading with `tf.keras.models.load_model`. If renaming is not possible, pass the object in the `custom_objects` parameter of the load function.\n"
          ]
        },
        {
          "output_type": "stream",
          "name": "stdout",
          "text": [
            "\b\b\b\b\b\b\b\b\b\b\b\b\b\b\b\b\b\b\b\b\b\b\b\b\b\b\b\b\b\b\b\b\b\b\b\b\b\b\b\b\b\b\b\b\b\b\b\b\b\b\b\b\b\b\b\b\b\b\b\b\b\b\b\b\b\b\r18/18 [==============================] - 3s 125ms/step - loss: 2323.6082 - val_loss: 9222.6523\n",
            "Epoch 2/100\n",
            "18/18 [==============================] - ETA: 0s - loss: 695.4739 INFO:tensorflow:Assets written to: /content/drive/MyDrive/BTC Predictor/model_experiments/model_4_LSTM/assets\n"
          ]
        },
        {
          "output_type": "stream",
          "name": "stderr",
          "text": [
            "INFO:tensorflow:Assets written to: /content/drive/MyDrive/BTC Predictor/model_experiments/model_4_LSTM/assets\n",
            "WARNING:absl:<keras.layers.recurrent.LSTMCell object at 0x7fc686be0710> has the same name 'LSTMCell' as a built-in Keras object. Consider renaming <class 'keras.layers.recurrent.LSTMCell'> to avoid naming conflicts when loading with `tf.keras.models.load_model`. If renaming is not possible, pass the object in the `custom_objects` parameter of the load function.\n"
          ]
        },
        {
          "output_type": "stream",
          "name": "stdout",
          "text": [
            "\b\b\b\b\b\b\b\b\b\b\b\b\b\b\b\b\b\b\b\b\b\b\b\b\b\b\b\b\b\b\b\b\b\b\b\b\b\b\b\b\b\b\b\b\b\b\b\b\b\b\b\b\b\b\b\b\b\b\b\b\b\b\b\b\b\r18/18 [==============================] - 2s 105ms/step - loss: 695.4739 - val_loss: 1486.0555\n",
            "Epoch 3/100\n",
            "12/18 [===================>..........] - ETA: 0s - loss: 266.4913INFO:tensorflow:Assets written to: /content/drive/MyDrive/BTC Predictor/model_experiments/model_4_LSTM/assets\n"
          ]
        },
        {
          "output_type": "stream",
          "name": "stderr",
          "text": [
            "INFO:tensorflow:Assets written to: /content/drive/MyDrive/BTC Predictor/model_experiments/model_4_LSTM/assets\n",
            "WARNING:absl:<keras.layers.recurrent.LSTMCell object at 0x7fc686be0710> has the same name 'LSTMCell' as a built-in Keras object. Consider renaming <class 'keras.layers.recurrent.LSTMCell'> to avoid naming conflicts when loading with `tf.keras.models.load_model`. If renaming is not possible, pass the object in the `custom_objects` parameter of the load function.\n"
          ]
        },
        {
          "output_type": "stream",
          "name": "stdout",
          "text": [
            "\b\b\b\b\b\b\b\b\b\b\b\b\b\b\b\b\b\b\b\b\b\b\b\b\b\b\b\b\b\b\b\b\b\b\b\b\b\b\b\b\b\b\b\b\b\b\b\b\b\b\b\b\b\b\b\b\b\b\b\b\b\b\b\b\b\r18/18 [==============================] - 2s 103ms/step - loss: 237.3967 - val_loss: 1298.9084\n",
            "Epoch 4/100\n",
            "12/18 [===================>..........] - ETA: 0s - loss: 192.6114INFO:tensorflow:Assets written to: /content/drive/MyDrive/BTC Predictor/model_experiments/model_4_LSTM/assets\n"
          ]
        },
        {
          "output_type": "stream",
          "name": "stderr",
          "text": [
            "INFO:tensorflow:Assets written to: /content/drive/MyDrive/BTC Predictor/model_experiments/model_4_LSTM/assets\n",
            "WARNING:absl:<keras.layers.recurrent.LSTMCell object at 0x7fc686be0710> has the same name 'LSTMCell' as a built-in Keras object. Consider renaming <class 'keras.layers.recurrent.LSTMCell'> to avoid naming conflicts when loading with `tf.keras.models.load_model`. If renaming is not possible, pass the object in the `custom_objects` parameter of the load function.\n"
          ]
        },
        {
          "output_type": "stream",
          "name": "stdout",
          "text": [
            "\b\b\b\b\b\b\b\b\b\b\b\b\b\b\b\b\b\b\b\b\b\b\b\b\b\b\b\b\b\b\b\b\b\b\b\b\b\b\b\b\b\b\b\b\b\b\b\b\b\b\b\b\b\b\b\b\b\b\b\b\b\b\b\b\b\r18/18 [==============================] - 2s 102ms/step - loss: 181.9180 - val_loss: 966.6431\n",
            "Epoch 5/100\n",
            "18/18 [==============================] - 0s 7ms/step - loss: 173.4022 - val_loss: 970.9295\n",
            "Epoch 6/100\n",
            "12/18 [===================>..........] - ETA: 0s - loss: 170.0374INFO:tensorflow:Assets written to: /content/drive/MyDrive/BTC Predictor/model_experiments/model_4_LSTM/assets\n"
          ]
        },
        {
          "output_type": "stream",
          "name": "stderr",
          "text": [
            "INFO:tensorflow:Assets written to: /content/drive/MyDrive/BTC Predictor/model_experiments/model_4_LSTM/assets\n",
            "WARNING:absl:<keras.layers.recurrent.LSTMCell object at 0x7fc686be0710> has the same name 'LSTMCell' as a built-in Keras object. Consider renaming <class 'keras.layers.recurrent.LSTMCell'> to avoid naming conflicts when loading with `tf.keras.models.load_model`. If renaming is not possible, pass the object in the `custom_objects` parameter of the load function.\n"
          ]
        },
        {
          "output_type": "stream",
          "name": "stdout",
          "text": [
            "\b\b\b\b\b\b\b\b\b\b\b\b\b\b\b\b\b\b\b\b\b\b\b\b\b\b\b\b\b\b\b\b\b\b\b\b\b\b\b\b\b\b\b\b\b\b\b\b\b\b\b\b\b\b\b\b\b\b\b\b\b\b\b\b\b\r18/18 [==============================] - 3s 160ms/step - loss: 173.5414 - val_loss: 941.4746\n",
            "Epoch 7/100\n",
            "12/18 [===================>..........] - ETA: 0s - loss: 177.6533INFO:tensorflow:Assets written to: /content/drive/MyDrive/BTC Predictor/model_experiments/model_4_LSTM/assets\n"
          ]
        },
        {
          "output_type": "stream",
          "name": "stderr",
          "text": [
            "INFO:tensorflow:Assets written to: /content/drive/MyDrive/BTC Predictor/model_experiments/model_4_LSTM/assets\n",
            "WARNING:absl:<keras.layers.recurrent.LSTMCell object at 0x7fc686be0710> has the same name 'LSTMCell' as a built-in Keras object. Consider renaming <class 'keras.layers.recurrent.LSTMCell'> to avoid naming conflicts when loading with `tf.keras.models.load_model`. If renaming is not possible, pass the object in the `custom_objects` parameter of the load function.\n"
          ]
        },
        {
          "output_type": "stream",
          "name": "stdout",
          "text": [
            "\b\b\b\b\b\b\b\b\b\b\b\b\b\b\b\b\b\b\b\b\b\b\b\b\b\b\b\b\b\b\b\b\b\b\b\b\b\b\b\b\b\b\b\b\b\b\b\b\b\b\b\b\b\b\b\b\b\b\b\b\b\b\b\b\b\r18/18 [==============================] - 2s 143ms/step - loss: 170.3566 - val_loss: 898.5215\n",
            "Epoch 8/100\n",
            "18/18 [==============================] - 0s 7ms/step - loss: 157.6712 - val_loss: 914.8642\n",
            "Epoch 9/100\n",
            "18/18 [==============================] - 0s 6ms/step - loss: 166.5143 - val_loss: 1079.0776\n",
            "Epoch 10/100\n",
            "12/18 [===================>..........] - ETA: 0s - loss: 163.3890INFO:tensorflow:Assets written to: /content/drive/MyDrive/BTC Predictor/model_experiments/model_4_LSTM/assets\n"
          ]
        },
        {
          "output_type": "stream",
          "name": "stderr",
          "text": [
            "INFO:tensorflow:Assets written to: /content/drive/MyDrive/BTC Predictor/model_experiments/model_4_LSTM/assets\n",
            "WARNING:absl:<keras.layers.recurrent.LSTMCell object at 0x7fc686be0710> has the same name 'LSTMCell' as a built-in Keras object. Consider renaming <class 'keras.layers.recurrent.LSTMCell'> to avoid naming conflicts when loading with `tf.keras.models.load_model`. If renaming is not possible, pass the object in the `custom_objects` parameter of the load function.\n"
          ]
        },
        {
          "output_type": "stream",
          "name": "stdout",
          "text": [
            "\b\b\b\b\b\b\b\b\b\b\b\b\b\b\b\b\b\b\b\b\b\b\b\b\b\b\b\b\b\b\b\b\b\b\b\b\b\b\b\b\b\b\b\b\b\b\b\b\b\b\b\b\b\b\b\b\b\b\b\b\b\b\b\b\b\r18/18 [==============================] - 2s 101ms/step - loss: 162.3369 - val_loss: 877.1690\n",
            "Epoch 11/100\n",
            "18/18 [==============================] - 0s 6ms/step - loss: 163.0841 - val_loss: 924.1126\n",
            "Epoch 12/100\n",
            "18/18 [==============================] - 0s 7ms/step - loss: 168.5598 - val_loss: 941.6025\n",
            "Epoch 13/100\n",
            "18/18 [==============================] - 0s 6ms/step - loss: 166.4726 - val_loss: 934.8436\n",
            "Epoch 14/100\n",
            "18/18 [==============================] - 0s 7ms/step - loss: 163.9537 - val_loss: 920.2160\n",
            "Epoch 15/100\n",
            "11/18 [=================>............] - ETA: 0s - loss: 151.0251INFO:tensorflow:Assets written to: /content/drive/MyDrive/BTC Predictor/model_experiments/model_4_LSTM/assets\n"
          ]
        },
        {
          "output_type": "stream",
          "name": "stderr",
          "text": [
            "INFO:tensorflow:Assets written to: /content/drive/MyDrive/BTC Predictor/model_experiments/model_4_LSTM/assets\n",
            "WARNING:absl:<keras.layers.recurrent.LSTMCell object at 0x7fc686be0710> has the same name 'LSTMCell' as a built-in Keras object. Consider renaming <class 'keras.layers.recurrent.LSTMCell'> to avoid naming conflicts when loading with `tf.keras.models.load_model`. If renaming is not possible, pass the object in the `custom_objects` parameter of the load function.\n"
          ]
        },
        {
          "output_type": "stream",
          "name": "stdout",
          "text": [
            "\b\b\b\b\b\b\b\b\b\b\b\b\b\b\b\b\b\b\b\b\b\b\b\b\b\b\b\b\b\b\b\b\b\b\b\b\b\b\b\b\b\b\b\b\b\b\b\b\b\b\b\b\b\b\b\b\b\b\b\b\b\b\b\b\b\r18/18 [==============================] - 2s 124ms/step - loss: 152.9470 - val_loss: 856.2653\n",
            "Epoch 16/100\n",
            "18/18 [==============================] - 0s 6ms/step - loss: 147.4420 - val_loss: 898.9914\n",
            "Epoch 17/100\n",
            "18/18 [==============================] - 0s 7ms/step - loss: 151.0533 - val_loss: 943.1418\n",
            "Epoch 18/100\n",
            "18/18 [==============================] - 0s 7ms/step - loss: 157.8232 - val_loss: 924.0046\n",
            "Epoch 19/100\n",
            "18/18 [==============================] - 0s 8ms/step - loss: 155.9198 - val_loss: 911.4753\n",
            "Epoch 20/100\n",
            "18/18 [==============================] - 0s 7ms/step - loss: 155.6456 - val_loss: 862.6680\n",
            "Epoch 21/100\n",
            "18/18 [==============================] - 0s 7ms/step - loss: 153.1514 - val_loss: 862.5831\n",
            "Epoch 22/100\n",
            "18/18 [==============================] - 0s 8ms/step - loss: 151.4883 - val_loss: 863.8172\n",
            "Epoch 23/100\n",
            "18/18 [==============================] - 0s 7ms/step - loss: 150.7770 - val_loss: 886.8356\n",
            "Epoch 24/100\n",
            "18/18 [==============================] - 0s 7ms/step - loss: 148.6539 - val_loss: 861.3271\n",
            "Epoch 25/100\n",
            "12/18 [===================>..........] - ETA: 0s - loss: 153.1163INFO:tensorflow:Assets written to: /content/drive/MyDrive/BTC Predictor/model_experiments/model_4_LSTM/assets\n"
          ]
        },
        {
          "output_type": "stream",
          "name": "stderr",
          "text": [
            "INFO:tensorflow:Assets written to: /content/drive/MyDrive/BTC Predictor/model_experiments/model_4_LSTM/assets\n",
            "WARNING:absl:<keras.layers.recurrent.LSTMCell object at 0x7fc686be0710> has the same name 'LSTMCell' as a built-in Keras object. Consider renaming <class 'keras.layers.recurrent.LSTMCell'> to avoid naming conflicts when loading with `tf.keras.models.load_model`. If renaming is not possible, pass the object in the `custom_objects` parameter of the load function.\n"
          ]
        },
        {
          "output_type": "stream",
          "name": "stdout",
          "text": [
            "\b\b\b\b\b\b\b\b\b\b\b\b\b\b\b\b\b\b\b\b\b\b\b\b\b\b\b\b\b\b\b\b\b\b\b\b\b\b\b\b\b\b\b\b\b\b\b\b\b\b\b\b\b\b\b\b\b\b\b\b\b\b\b\b\b\r18/18 [==============================] - 2s 104ms/step - loss: 146.8467 - val_loss: 845.2782\n",
            "Epoch 26/100\n",
            "11/18 [=================>............] - ETA: 0s - loss: 145.1898INFO:tensorflow:Assets written to: /content/drive/MyDrive/BTC Predictor/model_experiments/model_4_LSTM/assets\n"
          ]
        },
        {
          "output_type": "stream",
          "name": "stderr",
          "text": [
            "INFO:tensorflow:Assets written to: /content/drive/MyDrive/BTC Predictor/model_experiments/model_4_LSTM/assets\n",
            "WARNING:absl:<keras.layers.recurrent.LSTMCell object at 0x7fc686be0710> has the same name 'LSTMCell' as a built-in Keras object. Consider renaming <class 'keras.layers.recurrent.LSTMCell'> to avoid naming conflicts when loading with `tf.keras.models.load_model`. If renaming is not possible, pass the object in the `custom_objects` parameter of the load function.\n"
          ]
        },
        {
          "output_type": "stream",
          "name": "stdout",
          "text": [
            "\b\b\b\b\b\b\b\b\b\b\b\b\b\b\b\b\b\b\b\b\b\b\b\b\b\b\b\b\b\b\b\b\b\b\b\b\b\b\b\b\b\b\b\b\b\b\b\b\b\b\b\b\b\b\b\b\b\b\b\b\b\b\b\b\b\r18/18 [==============================] - 2s 105ms/step - loss: 145.9843 - val_loss: 818.6807\n",
            "Epoch 27/100\n",
            "12/18 [===================>..........] - ETA: 0s - loss: 150.8635INFO:tensorflow:Assets written to: /content/drive/MyDrive/BTC Predictor/model_experiments/model_4_LSTM/assets\n"
          ]
        },
        {
          "output_type": "stream",
          "name": "stderr",
          "text": [
            "INFO:tensorflow:Assets written to: /content/drive/MyDrive/BTC Predictor/model_experiments/model_4_LSTM/assets\n",
            "WARNING:absl:<keras.layers.recurrent.LSTMCell object at 0x7fc686be0710> has the same name 'LSTMCell' as a built-in Keras object. Consider renaming <class 'keras.layers.recurrent.LSTMCell'> to avoid naming conflicts when loading with `tf.keras.models.load_model`. If renaming is not possible, pass the object in the `custom_objects` parameter of the load function.\n"
          ]
        },
        {
          "output_type": "stream",
          "name": "stdout",
          "text": [
            "\b\b\b\b\b\b\b\b\b\b\b\b\b\b\b\b\b\b\b\b\b\b\b\b\b\b\b\b\b\b\b\b\b\b\b\b\b\b\b\b\b\b\b\b\b\b\b\b\b\b\b\b\b\b\b\b\b\b\b\b\b\b\b\b\b\r18/18 [==============================] - 2s 102ms/step - loss: 144.4289 - val_loss: 804.3279\n",
            "Epoch 28/100\n",
            "12/18 [===================>..........] - ETA: 0s - loss: 142.2844INFO:tensorflow:Assets written to: /content/drive/MyDrive/BTC Predictor/model_experiments/model_4_LSTM/assets\n"
          ]
        },
        {
          "output_type": "stream",
          "name": "stderr",
          "text": [
            "INFO:tensorflow:Assets written to: /content/drive/MyDrive/BTC Predictor/model_experiments/model_4_LSTM/assets\n",
            "WARNING:absl:<keras.layers.recurrent.LSTMCell object at 0x7fc686be0710> has the same name 'LSTMCell' as a built-in Keras object. Consider renaming <class 'keras.layers.recurrent.LSTMCell'> to avoid naming conflicts when loading with `tf.keras.models.load_model`. If renaming is not possible, pass the object in the `custom_objects` parameter of the load function.\n"
          ]
        },
        {
          "output_type": "stream",
          "name": "stdout",
          "text": [
            "\b\b\b\b\b\b\b\b\b\b\b\b\b\b\b\b\b\b\b\b\b\b\b\b\b\b\b\b\b\b\b\b\b\b\b\b\b\b\b\b\b\b\b\b\b\b\b\b\b\b\b\b\b\b\b\b\b\b\b\b\b\b\b\b\b\r18/18 [==============================] - 2s 123ms/step - loss: 142.4610 - val_loss: 789.0859\n",
            "Epoch 29/100\n",
            "18/18 [==============================] - 0s 6ms/step - loss: 141.8739 - val_loss: 806.6758\n",
            "Epoch 30/100\n",
            "18/18 [==============================] - 0s 6ms/step - loss: 142.0521 - val_loss: 794.8836\n",
            "Epoch 31/100\n",
            "12/18 [===================>..........] - ETA: 0s - loss: 140.2585INFO:tensorflow:Assets written to: /content/drive/MyDrive/BTC Predictor/model_experiments/model_4_LSTM/assets\n"
          ]
        },
        {
          "output_type": "stream",
          "name": "stderr",
          "text": [
            "INFO:tensorflow:Assets written to: /content/drive/MyDrive/BTC Predictor/model_experiments/model_4_LSTM/assets\n",
            "WARNING:absl:<keras.layers.recurrent.LSTMCell object at 0x7fc686be0710> has the same name 'LSTMCell' as a built-in Keras object. Consider renaming <class 'keras.layers.recurrent.LSTMCell'> to avoid naming conflicts when loading with `tf.keras.models.load_model`. If renaming is not possible, pass the object in the `custom_objects` parameter of the load function.\n"
          ]
        },
        {
          "output_type": "stream",
          "name": "stdout",
          "text": [
            "\b\b\b\b\b\b\b\b\b\b\b\b\b\b\b\b\b\b\b\b\b\b\b\b\b\b\b\b\b\b\b\b\b\b\b\b\b\b\b\b\b\b\b\b\b\b\b\b\b\b\b\b\b\b\b\b\b\b\b\b\b\b\b\b\b\r18/18 [==============================] - 2s 106ms/step - loss: 138.4690 - val_loss: 773.2812\n",
            "Epoch 32/100\n",
            "12/18 [===================>..........] - ETA: 0s - loss: 139.7511INFO:tensorflow:Assets written to: /content/drive/MyDrive/BTC Predictor/model_experiments/model_4_LSTM/assets\n"
          ]
        },
        {
          "output_type": "stream",
          "name": "stderr",
          "text": [
            "INFO:tensorflow:Assets written to: /content/drive/MyDrive/BTC Predictor/model_experiments/model_4_LSTM/assets\n",
            "WARNING:absl:<keras.layers.recurrent.LSTMCell object at 0x7fc686be0710> has the same name 'LSTMCell' as a built-in Keras object. Consider renaming <class 'keras.layers.recurrent.LSTMCell'> to avoid naming conflicts when loading with `tf.keras.models.load_model`. If renaming is not possible, pass the object in the `custom_objects` parameter of the load function.\n"
          ]
        },
        {
          "output_type": "stream",
          "name": "stdout",
          "text": [
            "\b\b\b\b\b\b\b\b\b\b\b\b\b\b\b\b\b\b\b\b\b\b\b\b\b\b\b\b\b\b\b\b\b\b\b\b\b\b\b\b\b\b\b\b\b\b\b\b\b\b\b\b\b\b\b\b\b\b\b\b\b\b\b\b\b\r18/18 [==============================] - 2s 104ms/step - loss: 137.1986 - val_loss: 772.2625\n",
            "Epoch 33/100\n",
            "18/18 [==============================] - 0s 7ms/step - loss: 135.9342 - val_loss: 786.4805\n",
            "Epoch 34/100\n",
            "11/18 [=================>............] - ETA: 0s - loss: 142.0283INFO:tensorflow:Assets written to: /content/drive/MyDrive/BTC Predictor/model_experiments/model_4_LSTM/assets\n"
          ]
        },
        {
          "output_type": "stream",
          "name": "stderr",
          "text": [
            "INFO:tensorflow:Assets written to: /content/drive/MyDrive/BTC Predictor/model_experiments/model_4_LSTM/assets\n",
            "WARNING:absl:<keras.layers.recurrent.LSTMCell object at 0x7fc686be0710> has the same name 'LSTMCell' as a built-in Keras object. Consider renaming <class 'keras.layers.recurrent.LSTMCell'> to avoid naming conflicts when loading with `tf.keras.models.load_model`. If renaming is not possible, pass the object in the `custom_objects` parameter of the load function.\n"
          ]
        },
        {
          "output_type": "stream",
          "name": "stdout",
          "text": [
            "\b\b\b\b\b\b\b\b\b\b\b\b\b\b\b\b\b\b\b\b\b\b\b\b\b\b\b\b\b\b\b\b\b\b\b\b\b\b\b\b\b\b\b\b\b\b\b\b\b\b\b\b\b\b\b\b\b\b\b\b\b\b\b\b\b\r18/18 [==============================] - 2s 121ms/step - loss: 136.1931 - val_loss: 744.4506\n",
            "Epoch 35/100\n",
            "18/18 [==============================] - 0s 6ms/step - loss: 133.4513 - val_loss: 756.2970\n",
            "Epoch 36/100\n",
            "12/18 [===================>..........] - ETA: 0s - loss: 132.2655INFO:tensorflow:Assets written to: /content/drive/MyDrive/BTC Predictor/model_experiments/model_4_LSTM/assets\n"
          ]
        },
        {
          "output_type": "stream",
          "name": "stderr",
          "text": [
            "INFO:tensorflow:Assets written to: /content/drive/MyDrive/BTC Predictor/model_experiments/model_4_LSTM/assets\n",
            "WARNING:absl:<keras.layers.recurrent.LSTMCell object at 0x7fc686be0710> has the same name 'LSTMCell' as a built-in Keras object. Consider renaming <class 'keras.layers.recurrent.LSTMCell'> to avoid naming conflicts when loading with `tf.keras.models.load_model`. If renaming is not possible, pass the object in the `custom_objects` parameter of the load function.\n"
          ]
        },
        {
          "output_type": "stream",
          "name": "stdout",
          "text": [
            "\b\b\b\b\b\b\b\b\b\b\b\b\b\b\b\b\b\b\b\b\b\b\b\b\b\b\b\b\b\b\b\b\b\b\b\b\b\b\b\b\b\b\b\b\b\b\b\b\b\b\b\b\b\b\b\b\b\b\b\b\b\b\b\b\b\r18/18 [==============================] - 2s 101ms/step - loss: 134.0992 - val_loss: 735.1729\n",
            "Epoch 37/100\n",
            "18/18 [==============================] - 0s 7ms/step - loss: 130.6932 - val_loss: 745.9099\n",
            "Epoch 38/100\n",
            "12/18 [===================>..........] - ETA: 0s - loss: 133.6792INFO:tensorflow:Assets written to: /content/drive/MyDrive/BTC Predictor/model_experiments/model_4_LSTM/assets\n"
          ]
        },
        {
          "output_type": "stream",
          "name": "stderr",
          "text": [
            "INFO:tensorflow:Assets written to: /content/drive/MyDrive/BTC Predictor/model_experiments/model_4_LSTM/assets\n",
            "WARNING:absl:<keras.layers.recurrent.LSTMCell object at 0x7fc686be0710> has the same name 'LSTMCell' as a built-in Keras object. Consider renaming <class 'keras.layers.recurrent.LSTMCell'> to avoid naming conflicts when loading with `tf.keras.models.load_model`. If renaming is not possible, pass the object in the `custom_objects` parameter of the load function.\n"
          ]
        },
        {
          "output_type": "stream",
          "name": "stdout",
          "text": [
            "\b\b\b\b\b\b\b\b\b\b\b\b\b\b\b\b\b\b\b\b\b\b\b\b\b\b\b\b\b\b\b\b\b\b\b\b\b\b\b\b\b\b\b\b\b\b\b\b\b\b\b\b\b\b\b\b\b\b\b\b\b\b\b\b\b\r18/18 [==============================] - 2s 104ms/step - loss: 129.2891 - val_loss: 717.2498\n",
            "Epoch 39/100\n",
            "18/18 [==============================] - 0s 7ms/step - loss: 129.6088 - val_loss: 719.0665\n",
            "Epoch 40/100\n",
            "18/18 [==============================] - 0s 6ms/step - loss: 129.6111 - val_loss: 732.0632\n",
            "Epoch 41/100\n",
            "12/18 [===================>..........] - ETA: 0s - loss: 130.4034INFO:tensorflow:Assets written to: /content/drive/MyDrive/BTC Predictor/model_experiments/model_4_LSTM/assets\n"
          ]
        },
        {
          "output_type": "stream",
          "name": "stderr",
          "text": [
            "INFO:tensorflow:Assets written to: /content/drive/MyDrive/BTC Predictor/model_experiments/model_4_LSTM/assets\n",
            "WARNING:absl:<keras.layers.recurrent.LSTMCell object at 0x7fc686be0710> has the same name 'LSTMCell' as a built-in Keras object. Consider renaming <class 'keras.layers.recurrent.LSTMCell'> to avoid naming conflicts when loading with `tf.keras.models.load_model`. If renaming is not possible, pass the object in the `custom_objects` parameter of the load function.\n"
          ]
        },
        {
          "output_type": "stream",
          "name": "stdout",
          "text": [
            "\b\b\b\b\b\b\b\b\b\b\b\b\b\b\b\b\b\b\b\b\b\b\b\b\b\b\b\b\b\b\b\b\b\b\b\b\b\b\b\b\b\b\b\b\b\b\b\b\b\b\b\b\b\b\b\b\b\b\b\b\b\b\b\b\b\r18/18 [==============================] - 2s 105ms/step - loss: 127.1393 - val_loss: 702.9354\n",
            "Epoch 42/100\n",
            "14/18 [======================>.......] - ETA: 0s - loss: 123.8576INFO:tensorflow:Assets written to: /content/drive/MyDrive/BTC Predictor/model_experiments/model_4_LSTM/assets\n"
          ]
        },
        {
          "output_type": "stream",
          "name": "stderr",
          "text": [
            "INFO:tensorflow:Assets written to: /content/drive/MyDrive/BTC Predictor/model_experiments/model_4_LSTM/assets\n",
            "WARNING:absl:<keras.layers.recurrent.LSTMCell object at 0x7fc686be0710> has the same name 'LSTMCell' as a built-in Keras object. Consider renaming <class 'keras.layers.recurrent.LSTMCell'> to avoid naming conflicts when loading with `tf.keras.models.load_model`. If renaming is not possible, pass the object in the `custom_objects` parameter of the load function.\n"
          ]
        },
        {
          "output_type": "stream",
          "name": "stdout",
          "text": [
            "\b\b\b\b\b\b\b\b\b\b\b\b\b\b\b\b\b\b\b\b\b\b\b\b\b\b\b\b\b\b\b\b\b\b\b\b\b\b\b\b\b\b\b\b\b\b\b\b\b\b\b\b\b\b\b\b\b\b\b\b\b\b\b\b\b\r18/18 [==============================] - 3s 178ms/step - loss: 125.6113 - val_loss: 700.8702\n",
            "Epoch 43/100\n",
            "18/18 [==============================] - 0s 6ms/step - loss: 125.9959 - val_loss: 704.3682\n",
            "Epoch 44/100\n",
            "11/18 [=================>............] - ETA: 0s - loss: 120.2179INFO:tensorflow:Assets written to: /content/drive/MyDrive/BTC Predictor/model_experiments/model_4_LSTM/assets\n"
          ]
        },
        {
          "output_type": "stream",
          "name": "stderr",
          "text": [
            "INFO:tensorflow:Assets written to: /content/drive/MyDrive/BTC Predictor/model_experiments/model_4_LSTM/assets\n",
            "WARNING:absl:<keras.layers.recurrent.LSTMCell object at 0x7fc686be0710> has the same name 'LSTMCell' as a built-in Keras object. Consider renaming <class 'keras.layers.recurrent.LSTMCell'> to avoid naming conflicts when loading with `tf.keras.models.load_model`. If renaming is not possible, pass the object in the `custom_objects` parameter of the load function.\n"
          ]
        },
        {
          "output_type": "stream",
          "name": "stdout",
          "text": [
            "\b\b\b\b\b\b\b\b\b\b\b\b\b\b\b\b\b\b\b\b\b\b\b\b\b\b\b\b\b\b\b\b\b\b\b\b\b\b\b\b\b\b\b\b\b\b\b\b\b\b\b\b\b\b\b\b\b\b\b\b\b\b\b\b\b\r18/18 [==============================] - 2s 105ms/step - loss: 125.2241 - val_loss: 698.7766\n",
            "Epoch 45/100\n",
            "12/18 [===================>..........] - ETA: 0s - loss: 118.6115INFO:tensorflow:Assets written to: /content/drive/MyDrive/BTC Predictor/model_experiments/model_4_LSTM/assets\n"
          ]
        },
        {
          "output_type": "stream",
          "name": "stderr",
          "text": [
            "INFO:tensorflow:Assets written to: /content/drive/MyDrive/BTC Predictor/model_experiments/model_4_LSTM/assets\n",
            "WARNING:absl:<keras.layers.recurrent.LSTMCell object at 0x7fc686be0710> has the same name 'LSTMCell' as a built-in Keras object. Consider renaming <class 'keras.layers.recurrent.LSTMCell'> to avoid naming conflicts when loading with `tf.keras.models.load_model`. If renaming is not possible, pass the object in the `custom_objects` parameter of the load function.\n"
          ]
        },
        {
          "output_type": "stream",
          "name": "stdout",
          "text": [
            "\b\b\b\b\b\b\b\b\b\b\b\b\b\b\b\b\b\b\b\b\b\b\b\b\b\b\b\b\b\b\b\b\b\b\b\b\b\b\b\b\b\b\b\b\b\b\b\b\b\b\b\b\b\b\b\b\b\b\b\b\b\b\b\b\b\r18/18 [==============================] - 2s 103ms/step - loss: 122.5007 - val_loss: 683.0590\n",
            "Epoch 46/100\n",
            "11/18 [=================>............] - ETA: 0s - loss: 130.6197INFO:tensorflow:Assets written to: /content/drive/MyDrive/BTC Predictor/model_experiments/model_4_LSTM/assets\n"
          ]
        },
        {
          "output_type": "stream",
          "name": "stderr",
          "text": [
            "INFO:tensorflow:Assets written to: /content/drive/MyDrive/BTC Predictor/model_experiments/model_4_LSTM/assets\n",
            "WARNING:absl:<keras.layers.recurrent.LSTMCell object at 0x7fc686be0710> has the same name 'LSTMCell' as a built-in Keras object. Consider renaming <class 'keras.layers.recurrent.LSTMCell'> to avoid naming conflicts when loading with `tf.keras.models.load_model`. If renaming is not possible, pass the object in the `custom_objects` parameter of the load function.\n"
          ]
        },
        {
          "output_type": "stream",
          "name": "stdout",
          "text": [
            "\b\b\b\b\b\b\b\b\b\b\b\b\b\b\b\b\b\b\b\b\b\b\b\b\b\b\b\b\b\b\b\b\b\b\b\b\b\b\b\b\b\b\b\b\b\b\b\b\b\b\b\b\b\b\b\b\b\b\b\b\b\b\b\b\b\r18/18 [==============================] - 2s 104ms/step - loss: 124.4726 - val_loss: 679.1873\n",
            "Epoch 47/100\n",
            "18/18 [==============================] - 0s 7ms/step - loss: 122.1862 - val_loss: 705.4241\n",
            "Epoch 48/100\n",
            "11/18 [=================>............] - ETA: 0s - loss: 120.7927INFO:tensorflow:Assets written to: /content/drive/MyDrive/BTC Predictor/model_experiments/model_4_LSTM/assets\n"
          ]
        },
        {
          "output_type": "stream",
          "name": "stderr",
          "text": [
            "INFO:tensorflow:Assets written to: /content/drive/MyDrive/BTC Predictor/model_experiments/model_4_LSTM/assets\n",
            "WARNING:absl:<keras.layers.recurrent.LSTMCell object at 0x7fc686be0710> has the same name 'LSTMCell' as a built-in Keras object. Consider renaming <class 'keras.layers.recurrent.LSTMCell'> to avoid naming conflicts when loading with `tf.keras.models.load_model`. If renaming is not possible, pass the object in the `custom_objects` parameter of the load function.\n"
          ]
        },
        {
          "output_type": "stream",
          "name": "stdout",
          "text": [
            "\b\b\b\b\b\b\b\b\b\b\b\b\b\b\b\b\b\b\b\b\b\b\b\b\b\b\b\b\b\b\b\b\b\b\b\b\b\b\b\b\b\b\b\b\b\b\b\b\b\b\b\b\b\b\b\b\b\b\b\b\b\b\b\b\b\r18/18 [==============================] - 2s 122ms/step - loss: 122.0458 - val_loss: 677.0784\n",
            "Epoch 49/100\n",
            "12/18 [===================>..........] - ETA: 0s - loss: 126.2884INFO:tensorflow:Assets written to: /content/drive/MyDrive/BTC Predictor/model_experiments/model_4_LSTM/assets\n"
          ]
        },
        {
          "output_type": "stream",
          "name": "stderr",
          "text": [
            "INFO:tensorflow:Assets written to: /content/drive/MyDrive/BTC Predictor/model_experiments/model_4_LSTM/assets\n",
            "WARNING:absl:<keras.layers.recurrent.LSTMCell object at 0x7fc686be0710> has the same name 'LSTMCell' as a built-in Keras object. Consider renaming <class 'keras.layers.recurrent.LSTMCell'> to avoid naming conflicts when loading with `tf.keras.models.load_model`. If renaming is not possible, pass the object in the `custom_objects` parameter of the load function.\n"
          ]
        },
        {
          "output_type": "stream",
          "name": "stdout",
          "text": [
            "\b\b\b\b\b\b\b\b\b\b\b\b\b\b\b\b\b\b\b\b\b\b\b\b\b\b\b\b\b\b\b\b\b\b\b\b\b\b\b\b\b\b\b\b\b\b\b\b\b\b\b\b\b\b\b\b\b\b\b\b\b\b\b\b\b\r18/18 [==============================] - 2s 105ms/step - loss: 121.1548 - val_loss: 674.6848\n",
            "Epoch 50/100\n",
            "18/18 [==============================] - 0s 6ms/step - loss: 122.8890 - val_loss: 691.4816\n",
            "Epoch 51/100\n",
            "18/18 [==============================] - 0s 6ms/step - loss: 122.2994 - val_loss: 737.3929\n",
            "Epoch 52/100\n",
            "12/18 [===================>..........] - ETA: 0s - loss: 129.3352INFO:tensorflow:Assets written to: /content/drive/MyDrive/BTC Predictor/model_experiments/model_4_LSTM/assets\n"
          ]
        },
        {
          "output_type": "stream",
          "name": "stderr",
          "text": [
            "INFO:tensorflow:Assets written to: /content/drive/MyDrive/BTC Predictor/model_experiments/model_4_LSTM/assets\n",
            "WARNING:absl:<keras.layers.recurrent.LSTMCell object at 0x7fc686be0710> has the same name 'LSTMCell' as a built-in Keras object. Consider renaming <class 'keras.layers.recurrent.LSTMCell'> to avoid naming conflicts when loading with `tf.keras.models.load_model`. If renaming is not possible, pass the object in the `custom_objects` parameter of the load function.\n"
          ]
        },
        {
          "output_type": "stream",
          "name": "stdout",
          "text": [
            "\b\b\b\b\b\b\b\b\b\b\b\b\b\b\b\b\b\b\b\b\b\b\b\b\b\b\b\b\b\b\b\b\b\b\b\b\b\b\b\b\b\b\b\b\b\b\b\b\b\b\b\b\b\b\b\b\b\b\b\b\b\b\b\b\b\r18/18 [==============================] - 2s 104ms/step - loss: 121.2944 - val_loss: 657.2365\n",
            "Epoch 53/100\n",
            "12/18 [===================>..........] - ETA: 0s - loss: 116.8399INFO:tensorflow:Assets written to: /content/drive/MyDrive/BTC Predictor/model_experiments/model_4_LSTM/assets\n"
          ]
        },
        {
          "output_type": "stream",
          "name": "stderr",
          "text": [
            "INFO:tensorflow:Assets written to: /content/drive/MyDrive/BTC Predictor/model_experiments/model_4_LSTM/assets\n",
            "WARNING:absl:<keras.layers.recurrent.LSTMCell object at 0x7fc686be0710> has the same name 'LSTMCell' as a built-in Keras object. Consider renaming <class 'keras.layers.recurrent.LSTMCell'> to avoid naming conflicts when loading with `tf.keras.models.load_model`. If renaming is not possible, pass the object in the `custom_objects` parameter of the load function.\n"
          ]
        },
        {
          "output_type": "stream",
          "name": "stdout",
          "text": [
            "\b\b\b\b\b\b\b\b\b\b\b\b\b\b\b\b\b\b\b\b\b\b\b\b\b\b\b\b\b\b\b\b\b\b\b\b\b\b\b\b\b\b\b\b\b\b\b\b\b\b\b\b\b\b\b\b\b\b\b\b\b\b\b\b\b\r18/18 [==============================] - 2s 121ms/step - loss: 119.7668 - val_loss: 652.7970\n",
            "Epoch 54/100\n",
            "18/18 [==============================] - 0s 7ms/step - loss: 120.1222 - val_loss: 654.4439\n",
            "Epoch 55/100\n",
            "12/18 [===================>..........] - ETA: 0s - loss: 125.5305INFO:tensorflow:Assets written to: /content/drive/MyDrive/BTC Predictor/model_experiments/model_4_LSTM/assets\n"
          ]
        },
        {
          "output_type": "stream",
          "name": "stderr",
          "text": [
            "INFO:tensorflow:Assets written to: /content/drive/MyDrive/BTC Predictor/model_experiments/model_4_LSTM/assets\n",
            "WARNING:absl:<keras.layers.recurrent.LSTMCell object at 0x7fc686be0710> has the same name 'LSTMCell' as a built-in Keras object. Consider renaming <class 'keras.layers.recurrent.LSTMCell'> to avoid naming conflicts when loading with `tf.keras.models.load_model`. If renaming is not possible, pass the object in the `custom_objects` parameter of the load function.\n"
          ]
        },
        {
          "output_type": "stream",
          "name": "stdout",
          "text": [
            "\b\b\b\b\b\b\b\b\b\b\b\b\b\b\b\b\b\b\b\b\b\b\b\b\b\b\b\b\b\b\b\b\b\b\b\b\b\b\b\b\b\b\b\b\b\b\b\b\b\b\b\b\b\b\b\b\b\b\b\b\b\b\b\b\b\r18/18 [==============================] - 2s 103ms/step - loss: 119.2566 - val_loss: 647.2831\n",
            "Epoch 56/100\n",
            "12/18 [===================>..........] - ETA: 0s - loss: 121.4963INFO:tensorflow:Assets written to: /content/drive/MyDrive/BTC Predictor/model_experiments/model_4_LSTM/assets\n"
          ]
        },
        {
          "output_type": "stream",
          "name": "stderr",
          "text": [
            "INFO:tensorflow:Assets written to: /content/drive/MyDrive/BTC Predictor/model_experiments/model_4_LSTM/assets\n",
            "WARNING:absl:<keras.layers.recurrent.LSTMCell object at 0x7fc686be0710> has the same name 'LSTMCell' as a built-in Keras object. Consider renaming <class 'keras.layers.recurrent.LSTMCell'> to avoid naming conflicts when loading with `tf.keras.models.load_model`. If renaming is not possible, pass the object in the `custom_objects` parameter of the load function.\n"
          ]
        },
        {
          "output_type": "stream",
          "name": "stdout",
          "text": [
            "\b\b\b\b\b\b\b\b\b\b\b\b\b\b\b\b\b\b\b\b\b\b\b\b\b\b\b\b\b\b\b\b\b\b\b\b\b\b\b\b\b\b\b\b\b\b\b\b\b\b\b\b\b\b\b\b\b\b\b\b\b\b\b\b\b\r18/18 [==============================] - 2s 102ms/step - loss: 120.0544 - val_loss: 643.7808\n",
            "Epoch 57/100\n",
            "18/18 [==============================] - 0s 7ms/step - loss: 123.1243 - val_loss: 671.1797\n",
            "Epoch 58/100\n",
            "11/18 [=================>............] - ETA: 0s - loss: 120.3613INFO:tensorflow:Assets written to: /content/drive/MyDrive/BTC Predictor/model_experiments/model_4_LSTM/assets\n"
          ]
        },
        {
          "output_type": "stream",
          "name": "stderr",
          "text": [
            "INFO:tensorflow:Assets written to: /content/drive/MyDrive/BTC Predictor/model_experiments/model_4_LSTM/assets\n",
            "WARNING:absl:<keras.layers.recurrent.LSTMCell object at 0x7fc686be0710> has the same name 'LSTMCell' as a built-in Keras object. Consider renaming <class 'keras.layers.recurrent.LSTMCell'> to avoid naming conflicts when loading with `tf.keras.models.load_model`. If renaming is not possible, pass the object in the `custom_objects` parameter of the load function.\n"
          ]
        },
        {
          "output_type": "stream",
          "name": "stdout",
          "text": [
            "\b\b\b\b\b\b\b\b\b\b\b\b\b\b\b\b\b\b\b\b\b\b\b\b\b\b\b\b\b\b\b\b\b\b\b\b\b\b\b\b\b\b\b\b\b\b\b\b\b\b\b\b\b\b\b\b\b\b\b\b\b\b\b\b\b\r18/18 [==============================] - 2s 101ms/step - loss: 118.4059 - val_loss: 640.2656\n",
            "Epoch 59/100\n",
            "18/18 [==============================] - 0s 7ms/step - loss: 117.7119 - val_loss: 645.3837\n",
            "Epoch 60/100\n",
            "12/18 [===================>..........] - ETA: 0s - loss: 117.1983INFO:tensorflow:Assets written to: /content/drive/MyDrive/BTC Predictor/model_experiments/model_4_LSTM/assets\n"
          ]
        },
        {
          "output_type": "stream",
          "name": "stderr",
          "text": [
            "INFO:tensorflow:Assets written to: /content/drive/MyDrive/BTC Predictor/model_experiments/model_4_LSTM/assets\n",
            "WARNING:absl:<keras.layers.recurrent.LSTMCell object at 0x7fc686be0710> has the same name 'LSTMCell' as a built-in Keras object. Consider renaming <class 'keras.layers.recurrent.LSTMCell'> to avoid naming conflicts when loading with `tf.keras.models.load_model`. If renaming is not possible, pass the object in the `custom_objects` parameter of the load function.\n"
          ]
        },
        {
          "output_type": "stream",
          "name": "stdout",
          "text": [
            "\b\b\b\b\b\b\b\b\b\b\b\b\b\b\b\b\b\b\b\b\b\b\b\b\b\b\b\b\b\b\b\b\b\b\b\b\b\b\b\b\b\b\b\b\b\b\b\b\b\b\b\b\b\b\b\b\b\b\b\b\b\b\b\b\b\r18/18 [==============================] - 2s 122ms/step - loss: 118.5346 - val_loss: 638.7429\n",
            "Epoch 61/100\n",
            "18/18 [==============================] - 0s 7ms/step - loss: 118.3129 - val_loss: 689.4144\n",
            "Epoch 62/100\n",
            "18/18 [==============================] - 0s 6ms/step - loss: 121.4350 - val_loss: 748.5565\n",
            "Epoch 63/100\n",
            "18/18 [==============================] - 0s 6ms/step - loss: 123.1006 - val_loss: 651.8298\n",
            "Epoch 64/100\n",
            "18/18 [==============================] - 0s 6ms/step - loss: 115.9679 - val_loss: 672.9166\n",
            "Epoch 65/100\n",
            "11/18 [=================>............] - ETA: 0s - loss: 120.7008INFO:tensorflow:Assets written to: /content/drive/MyDrive/BTC Predictor/model_experiments/model_4_LSTM/assets\n"
          ]
        },
        {
          "output_type": "stream",
          "name": "stderr",
          "text": [
            "INFO:tensorflow:Assets written to: /content/drive/MyDrive/BTC Predictor/model_experiments/model_4_LSTM/assets\n",
            "WARNING:absl:<keras.layers.recurrent.LSTMCell object at 0x7fc686be0710> has the same name 'LSTMCell' as a built-in Keras object. Consider renaming <class 'keras.layers.recurrent.LSTMCell'> to avoid naming conflicts when loading with `tf.keras.models.load_model`. If renaming is not possible, pass the object in the `custom_objects` parameter of the load function.\n"
          ]
        },
        {
          "output_type": "stream",
          "name": "stdout",
          "text": [
            "\b\b\b\b\b\b\b\b\b\b\b\b\b\b\b\b\b\b\b\b\b\b\b\b\b\b\b\b\b\b\b\b\b\b\b\b\b\b\b\b\b\b\b\b\b\b\b\b\b\b\b\b\b\b\b\b\b\b\b\b\b\b\b\b\b\r18/18 [==============================] - 2s 104ms/step - loss: 118.8341 - val_loss: 631.7538\n",
            "Epoch 66/100\n",
            "18/18 [==============================] - 0s 6ms/step - loss: 116.2212 - val_loss: 634.5445\n",
            "Epoch 67/100\n",
            "12/18 [===================>..........] - ETA: 0s - loss: 113.0850INFO:tensorflow:Assets written to: /content/drive/MyDrive/BTC Predictor/model_experiments/model_4_LSTM/assets\n"
          ]
        },
        {
          "output_type": "stream",
          "name": "stderr",
          "text": [
            "INFO:tensorflow:Assets written to: /content/drive/MyDrive/BTC Predictor/model_experiments/model_4_LSTM/assets\n",
            "WARNING:absl:<keras.layers.recurrent.LSTMCell object at 0x7fc686be0710> has the same name 'LSTMCell' as a built-in Keras object. Consider renaming <class 'keras.layers.recurrent.LSTMCell'> to avoid naming conflicts when loading with `tf.keras.models.load_model`. If renaming is not possible, pass the object in the `custom_objects` parameter of the load function.\n"
          ]
        },
        {
          "output_type": "stream",
          "name": "stdout",
          "text": [
            "\b\b\b\b\b\b\b\b\b\b\b\b\b\b\b\b\b\b\b\b\b\b\b\b\b\b\b\b\b\b\b\b\b\b\b\b\b\b\b\b\b\b\b\b\b\b\b\b\b\b\b\b\b\b\b\b\b\b\b\b\b\b\b\b\b\r18/18 [==============================] - 2s 102ms/step - loss: 116.1580 - val_loss: 623.8932\n",
            "Epoch 68/100\n",
            "18/18 [==============================] - 0s 6ms/step - loss: 115.5543 - val_loss: 635.4929\n",
            "Epoch 69/100\n",
            "18/18 [==============================] - 0s 6ms/step - loss: 120.5866 - val_loss: 626.3387\n",
            "Epoch 70/100\n",
            "12/18 [===================>..........] - ETA: 0s - loss: 111.8156INFO:tensorflow:Assets written to: /content/drive/MyDrive/BTC Predictor/model_experiments/model_4_LSTM/assets\n"
          ]
        },
        {
          "output_type": "stream",
          "name": "stderr",
          "text": [
            "INFO:tensorflow:Assets written to: /content/drive/MyDrive/BTC Predictor/model_experiments/model_4_LSTM/assets\n",
            "WARNING:absl:<keras.layers.recurrent.LSTMCell object at 0x7fc686be0710> has the same name 'LSTMCell' as a built-in Keras object. Consider renaming <class 'keras.layers.recurrent.LSTMCell'> to avoid naming conflicts when loading with `tf.keras.models.load_model`. If renaming is not possible, pass the object in the `custom_objects` parameter of the load function.\n"
          ]
        },
        {
          "output_type": "stream",
          "name": "stdout",
          "text": [
            "\b\b\b\b\b\b\b\b\b\b\b\b\b\b\b\b\b\b\b\b\b\b\b\b\b\b\b\b\b\b\b\b\b\b\b\b\b\b\b\b\b\b\b\b\b\b\b\b\b\b\b\b\b\b\b\b\b\b\b\b\b\b\b\b\b\r18/18 [==============================] - 2s 104ms/step - loss: 114.9188 - val_loss: 619.3181\n",
            "Epoch 71/100\n",
            "18/18 [==============================] - 0s 6ms/step - loss: 114.8998 - val_loss: 650.9373\n",
            "Epoch 72/100\n",
            "18/18 [==============================] - 0s 7ms/step - loss: 118.2033 - val_loss: 630.5287\n",
            "Epoch 73/100\n",
            "18/18 [==============================] - 0s 7ms/step - loss: 115.3612 - val_loss: 623.0369\n",
            "Epoch 74/100\n",
            "18/18 [==============================] - 0s 7ms/step - loss: 115.0345 - val_loss: 623.0776\n",
            "Epoch 75/100\n",
            "18/18 [==============================] - 0s 6ms/step - loss: 115.2057 - val_loss: 640.5281\n",
            "Epoch 76/100\n",
            "11/18 [=================>............] - ETA: 0s - loss: 114.5117INFO:tensorflow:Assets written to: /content/drive/MyDrive/BTC Predictor/model_experiments/model_4_LSTM/assets\n"
          ]
        },
        {
          "output_type": "stream",
          "name": "stderr",
          "text": [
            "INFO:tensorflow:Assets written to: /content/drive/MyDrive/BTC Predictor/model_experiments/model_4_LSTM/assets\n",
            "WARNING:absl:<keras.layers.recurrent.LSTMCell object at 0x7fc686be0710> has the same name 'LSTMCell' as a built-in Keras object. Consider renaming <class 'keras.layers.recurrent.LSTMCell'> to avoid naming conflicts when loading with `tf.keras.models.load_model`. If renaming is not possible, pass the object in the `custom_objects` parameter of the load function.\n"
          ]
        },
        {
          "output_type": "stream",
          "name": "stdout",
          "text": [
            "\b\b\b\b\b\b\b\b\b\b\b\b\b\b\b\b\b\b\b\b\b\b\b\b\b\b\b\b\b\b\b\b\b\b\b\b\b\b\b\b\b\b\b\b\b\b\b\b\b\b\b\b\b\b\b\b\b\b\b\b\b\b\b\b\b\r18/18 [==============================] - 2s 126ms/step - loss: 114.1402 - val_loss: 614.4062\n",
            "Epoch 77/100\n",
            "18/18 [==============================] - 0s 7ms/step - loss: 115.5973 - val_loss: 689.8776\n",
            "Epoch 78/100\n",
            "18/18 [==============================] - 0s 7ms/step - loss: 117.2611 - val_loss: 645.2790\n",
            "Epoch 79/100\n",
            "12/18 [===================>..........] - ETA: 0s - loss: 112.1790INFO:tensorflow:Assets written to: /content/drive/MyDrive/BTC Predictor/model_experiments/model_4_LSTM/assets\n"
          ]
        },
        {
          "output_type": "stream",
          "name": "stderr",
          "text": [
            "INFO:tensorflow:Assets written to: /content/drive/MyDrive/BTC Predictor/model_experiments/model_4_LSTM/assets\n",
            "WARNING:absl:<keras.layers.recurrent.LSTMCell object at 0x7fc686be0710> has the same name 'LSTMCell' as a built-in Keras object. Consider renaming <class 'keras.layers.recurrent.LSTMCell'> to avoid naming conflicts when loading with `tf.keras.models.load_model`. If renaming is not possible, pass the object in the `custom_objects` parameter of the load function.\n"
          ]
        },
        {
          "output_type": "stream",
          "name": "stdout",
          "text": [
            "\b\b\b\b\b\b\b\b\b\b\b\b\b\b\b\b\b\b\b\b\b\b\b\b\b\b\b\b\b\b\b\b\b\b\b\b\b\b\b\b\b\b\b\b\b\b\b\b\b\b\b\b\b\b\b\b\b\b\b\b\b\b\b\b\b\r18/18 [==============================] - 2s 103ms/step - loss: 114.1995 - val_loss: 608.7158\n",
            "Epoch 80/100\n",
            "18/18 [==============================] - 0s 7ms/step - loss: 112.7125 - val_loss: 614.9222\n",
            "Epoch 81/100\n",
            "18/18 [==============================] - 0s 7ms/step - loss: 113.3684 - val_loss: 634.8466\n",
            "Epoch 82/100\n",
            "12/18 [===================>..........] - ETA: 0s - loss: 120.5586INFO:tensorflow:Assets written to: /content/drive/MyDrive/BTC Predictor/model_experiments/model_4_LSTM/assets\n"
          ]
        },
        {
          "output_type": "stream",
          "name": "stderr",
          "text": [
            "INFO:tensorflow:Assets written to: /content/drive/MyDrive/BTC Predictor/model_experiments/model_4_LSTM/assets\n",
            "WARNING:absl:<keras.layers.recurrent.LSTMCell object at 0x7fc686be0710> has the same name 'LSTMCell' as a built-in Keras object. Consider renaming <class 'keras.layers.recurrent.LSTMCell'> to avoid naming conflicts when loading with `tf.keras.models.load_model`. If renaming is not possible, pass the object in the `custom_objects` parameter of the load function.\n"
          ]
        },
        {
          "output_type": "stream",
          "name": "stdout",
          "text": [
            "\b\b\b\b\b\b\b\b\b\b\b\b\b\b\b\b\b\b\b\b\b\b\b\b\b\b\b\b\b\b\b\b\b\b\b\b\b\b\b\b\b\b\b\b\b\b\b\b\b\b\b\b\b\b\b\b\b\b\b\b\b\b\b\b\b\r18/18 [==============================] - 2s 103ms/step - loss: 115.9701 - val_loss: 607.8510\n",
            "Epoch 83/100\n",
            "18/18 [==============================] - 0s 7ms/step - loss: 113.3599 - val_loss: 628.8181\n",
            "Epoch 84/100\n",
            "18/18 [==============================] - 0s 6ms/step - loss: 114.4113 - val_loss: 628.5579\n",
            "Epoch 85/100\n",
            "18/18 [==============================] - 0s 6ms/step - loss: 114.8363 - val_loss: 634.7715\n",
            "Epoch 86/100\n",
            "18/18 [==============================] - 0s 7ms/step - loss: 115.5462 - val_loss: 613.5223\n",
            "Epoch 87/100\n",
            "12/18 [===================>..........] - ETA: 0s - loss: 115.3621INFO:tensorflow:Assets written to: /content/drive/MyDrive/BTC Predictor/model_experiments/model_4_LSTM/assets\n"
          ]
        },
        {
          "output_type": "stream",
          "name": "stderr",
          "text": [
            "INFO:tensorflow:Assets written to: /content/drive/MyDrive/BTC Predictor/model_experiments/model_4_LSTM/assets\n",
            "WARNING:absl:<keras.layers.recurrent.LSTMCell object at 0x7fc686be0710> has the same name 'LSTMCell' as a built-in Keras object. Consider renaming <class 'keras.layers.recurrent.LSTMCell'> to avoid naming conflicts when loading with `tf.keras.models.load_model`. If renaming is not possible, pass the object in the `custom_objects` parameter of the load function.\n"
          ]
        },
        {
          "output_type": "stream",
          "name": "stdout",
          "text": [
            "\b\b\b\b\b\b\b\b\b\b\b\b\b\b\b\b\b\b\b\b\b\b\b\b\b\b\b\b\b\b\b\b\b\b\b\b\b\b\b\b\b\b\b\b\b\b\b\b\b\b\b\b\b\b\b\b\b\b\b\b\b\b\b\b\b\r18/18 [==============================] - 2s 120ms/step - loss: 112.5059 - val_loss: 604.7603\n",
            "Epoch 88/100\n",
            "11/18 [=================>............] - ETA: 0s - loss: 114.8154INFO:tensorflow:Assets written to: /content/drive/MyDrive/BTC Predictor/model_experiments/model_4_LSTM/assets\n"
          ]
        },
        {
          "output_type": "stream",
          "name": "stderr",
          "text": [
            "INFO:tensorflow:Assets written to: /content/drive/MyDrive/BTC Predictor/model_experiments/model_4_LSTM/assets\n",
            "WARNING:absl:<keras.layers.recurrent.LSTMCell object at 0x7fc686be0710> has the same name 'LSTMCell' as a built-in Keras object. Consider renaming <class 'keras.layers.recurrent.LSTMCell'> to avoid naming conflicts when loading with `tf.keras.models.load_model`. If renaming is not possible, pass the object in the `custom_objects` parameter of the load function.\n"
          ]
        },
        {
          "output_type": "stream",
          "name": "stdout",
          "text": [
            "\b\b\b\b\b\b\b\b\b\b\b\b\b\b\b\b\b\b\b\b\b\b\b\b\b\b\b\b\b\b\b\b\b\b\b\b\b\b\b\b\b\b\b\b\b\b\b\b\b\b\b\b\b\b\b\b\b\b\b\b\b\b\b\b\b\r18/18 [==============================] - 2s 103ms/step - loss: 111.7706 - val_loss: 601.5748\n",
            "Epoch 89/100\n",
            "18/18 [==============================] - 0s 6ms/step - loss: 111.8470 - val_loss: 624.0131\n",
            "Epoch 90/100\n",
            "18/18 [==============================] - 0s 7ms/step - loss: 115.6354 - val_loss: 662.9452\n",
            "Epoch 91/100\n",
            "18/18 [==============================] - 0s 7ms/step - loss: 116.1836 - val_loss: 636.0310\n",
            "Epoch 92/100\n",
            "18/18 [==============================] - 0s 7ms/step - loss: 113.1700 - val_loss: 606.0366\n",
            "Epoch 93/100\n",
            "11/18 [=================>............] - ETA: 0s - loss: 113.7486INFO:tensorflow:Assets written to: /content/drive/MyDrive/BTC Predictor/model_experiments/model_4_LSTM/assets\n"
          ]
        },
        {
          "output_type": "stream",
          "name": "stderr",
          "text": [
            "INFO:tensorflow:Assets written to: /content/drive/MyDrive/BTC Predictor/model_experiments/model_4_LSTM/assets\n",
            "WARNING:absl:<keras.layers.recurrent.LSTMCell object at 0x7fc686be0710> has the same name 'LSTMCell' as a built-in Keras object. Consider renaming <class 'keras.layers.recurrent.LSTMCell'> to avoid naming conflicts when loading with `tf.keras.models.load_model`. If renaming is not possible, pass the object in the `custom_objects` parameter of the load function.\n"
          ]
        },
        {
          "output_type": "stream",
          "name": "stdout",
          "text": [
            "\b\b\b\b\b\b\b\b\b\b\b\b\b\b\b\b\b\b\b\b\b\b\b\b\b\b\b\b\b\b\b\b\b\b\b\b\b\b\b\b\b\b\b\b\b\b\b\b\b\b\b\b\b\b\b\b\b\b\b\b\b\b\b\b\b\r18/18 [==============================] - 2s 102ms/step - loss: 112.4748 - val_loss: 599.8319\n",
            "Epoch 94/100\n",
            "18/18 [==============================] - 0s 7ms/step - loss: 111.2637 - val_loss: 601.3256\n",
            "Epoch 95/100\n",
            "10/18 [===============>..............] - ETA: 0s - loss: 108.2715INFO:tensorflow:Assets written to: /content/drive/MyDrive/BTC Predictor/model_experiments/model_4_LSTM/assets\n"
          ]
        },
        {
          "output_type": "stream",
          "name": "stderr",
          "text": [
            "INFO:tensorflow:Assets written to: /content/drive/MyDrive/BTC Predictor/model_experiments/model_4_LSTM/assets\n",
            "WARNING:absl:<keras.layers.recurrent.LSTMCell object at 0x7fc686be0710> has the same name 'LSTMCell' as a built-in Keras object. Consider renaming <class 'keras.layers.recurrent.LSTMCell'> to avoid naming conflicts when loading with `tf.keras.models.load_model`. If renaming is not possible, pass the object in the `custom_objects` parameter of the load function.\n"
          ]
        },
        {
          "output_type": "stream",
          "name": "stdout",
          "text": [
            "\b\b\b\b\b\b\b\b\b\b\b\b\b\b\b\b\b\b\b\b\b\b\b\b\b\b\b\b\b\b\b\b\b\b\b\b\b\b\b\b\b\b\b\b\b\b\b\b\b\b\b\b\b\b\b\b\b\b\b\b\b\b\b\b\b\r18/18 [==============================] - 2s 102ms/step - loss: 111.0185 - val_loss: 597.1485\n",
            "Epoch 96/100\n",
            "18/18 [==============================] - 0s 8ms/step - loss: 112.3787 - val_loss: 601.1596\n",
            "Epoch 97/100\n",
            "18/18 [==============================] - 0s 6ms/step - loss: 111.4700 - val_loss: 626.1573\n",
            "Epoch 98/100\n",
            "18/18 [==============================] - 0s 6ms/step - loss: 111.7326 - val_loss: 601.0142\n",
            "Epoch 99/100\n",
            "12/18 [===================>..........] - ETA: 0s - loss: 109.4926INFO:tensorflow:Assets written to: /content/drive/MyDrive/BTC Predictor/model_experiments/model_4_LSTM/assets\n"
          ]
        },
        {
          "output_type": "stream",
          "name": "stderr",
          "text": [
            "INFO:tensorflow:Assets written to: /content/drive/MyDrive/BTC Predictor/model_experiments/model_4_LSTM/assets\n",
            "WARNING:absl:<keras.layers.recurrent.LSTMCell object at 0x7fc686be0710> has the same name 'LSTMCell' as a built-in Keras object. Consider renaming <class 'keras.layers.recurrent.LSTMCell'> to avoid naming conflicts when loading with `tf.keras.models.load_model`. If renaming is not possible, pass the object in the `custom_objects` parameter of the load function.\n"
          ]
        },
        {
          "output_type": "stream",
          "name": "stdout",
          "text": [
            "\b\b\b\b\b\b\b\b\b\b\b\b\b\b\b\b\b\b\b\b\b\b\b\b\b\b\b\b\b\b\b\b\b\b\b\b\b\b\b\b\b\b\b\b\b\b\b\b\b\b\b\b\b\b\b\b\b\b\b\b\b\b\b\b\b\r18/18 [==============================] - 2s 126ms/step - loss: 110.7480 - val_loss: 594.6030\n",
            "Epoch 100/100\n",
            "18/18 [==============================] - 0s 7ms/step - loss: 111.9943 - val_loss: 595.9847\n"
          ]
        },
        {
          "output_type": "execute_result",
          "data": {
            "text/plain": [
              "<keras.callbacks.History at 0x7fc6867c0290>"
            ]
          },
          "metadata": {},
          "execution_count": 90
        }
      ]
    },
    {
      "cell_type": "code",
      "source": [
        "# Load in best version of model_4 and evaluate on test data\n",
        "model_4 = tf.keras.models.load_model(\"/content/drive/MyDrive/BTC Predictor/model_experiments/model_4_LSTM/\")\n",
        "model_4.evaluate(test_windows, test_labels)"
      ],
      "metadata": {
        "colab": {
          "base_uri": "https://localhost:8080/"
        },
        "id": "J2SIb3Poqkqn",
        "outputId": "e4e15109-b4cd-46f2-f8da-3291622421b2"
      },
      "execution_count": 91,
      "outputs": [
        {
          "output_type": "stream",
          "name": "stdout",
          "text": [
            "WARNING:tensorflow:Layer lstm will not use cuDNN kernels since it doesn't meet the criteria. It will use a generic GPU kernel as fallback when running on GPU.\n"
          ]
        },
        {
          "output_type": "stream",
          "name": "stderr",
          "text": [
            "WARNING:tensorflow:Layer lstm will not use cuDNN kernels since it doesn't meet the criteria. It will use a generic GPU kernel as fallback when running on GPU.\n"
          ]
        },
        {
          "output_type": "stream",
          "name": "stdout",
          "text": [
            "18/18 [==============================] - 0s 2ms/step - loss: 594.6030\n"
          ]
        },
        {
          "output_type": "execute_result",
          "data": {
            "text/plain": [
              "594.6029663085938"
            ]
          },
          "metadata": {},
          "execution_count": 91
        }
      ]
    },
    {
      "cell_type": "code",
      "source": [
        "# Make prediction with LSTM model \n",
        "model_4_preds = make_preds(model_4, test_windows)\n",
        "model_4_preds[:5]"
      ],
      "metadata": {
        "colab": {
          "base_uri": "https://localhost:8080/"
        },
        "id": "mIWkDWJGz6vt",
        "outputId": "bbc4e852-aefe-4e06-8845-fa600e37d0e3"
      },
      "execution_count": 92,
      "outputs": [
        {
          "output_type": "execute_result",
          "data": {
            "text/plain": [
              "<tf.Tensor: shape=(5,), dtype=float32, numpy=array([8978.46 , 8810.951, 8997.779, 8836.308, 8731.047], dtype=float32)>"
            ]
          },
          "metadata": {},
          "execution_count": 92
        }
      ]
    },
    {
      "cell_type": "code",
      "source": [
        "# Evaluate model 4 predictions\n",
        "\n",
        "model_4_results = evaluate_preds(y_true = tf.squeeze(test_labels), \n",
        "                               y_pred = model_4_preds)\n",
        "\n",
        "model_4_results"
      ],
      "metadata": {
        "colab": {
          "base_uri": "https://localhost:8080/"
        },
        "id": "hJ2pvIZB0MJd",
        "outputId": "201468a6-f79d-433b-83b7-9a20212ebd4b"
      },
      "execution_count": 93,
      "outputs": [
        {
          "output_type": "execute_result",
          "data": {
            "text/plain": [
              "{'mae': 594.60297,\n",
              " 'mape': 2.6717565,\n",
              " 'mase': 1.0445527,\n",
              " 'mse': 1267231.9,\n",
              " 'rmse': 1125.7139}"
            ]
          },
          "metadata": {},
          "execution_count": 93
        }
      ]
    },
    {
      "cell_type": "code",
      "source": [
        "model_1_results"
      ],
      "metadata": {
        "colab": {
          "base_uri": "https://localhost:8080/"
        },
        "id": "GkuiVuy70fD2",
        "outputId": "f2a1813b-7f43-409c-f2aa-89c7496ebbca"
      },
      "execution_count": 94,
      "outputs": [
        {
          "output_type": "execute_result",
          "data": {
            "text/plain": [
              "{'mae': 568.95105,\n",
              " 'mape': 2.5448983,\n",
              " 'mase': 0.9994894,\n",
              " 'mse': 1171743.8,\n",
              " 'rmse': 1082.4711}"
            ]
          },
          "metadata": {},
          "execution_count": 94
        }
      ]
    },
    {
      "cell_type": "markdown",
      "source": [
        "## Preparing Data for Model 5 (Ensemble) using `tf.data` API\n",
        "\n",
        "Use: \n",
        "\n",
        "To make our data performant, i.e. to make our input data load as fast as possible"
      ],
      "metadata": {
        "id": "jh5hBqRi3D3k"
      }
    },
    {
      "cell_type": "code",
      "source": [
        "HORIZON = 1\n",
        "WINDOW_SIZE = 7"
      ],
      "metadata": {
        "id": "Lz5LKF8r28CH"
      },
      "execution_count": 95,
      "outputs": []
    },
    {
      "cell_type": "code",
      "source": [
        "# Create data inputs\n",
        "\n",
        "bitcoin_prices.head()"
      ],
      "metadata": {
        "colab": {
          "base_uri": "https://localhost:8080/",
          "height": 237
        },
        "id": "ZuGmtMk03wdz",
        "outputId": "ccd07655-76c8-4f8d-912e-6a324e699e56"
      },
      "execution_count": 96,
      "outputs": [
        {
          "output_type": "execute_result",
          "data": {
            "text/plain": [
              "                Price\n",
              "Date                 \n",
              "2013-10-01  123.65499\n",
              "2013-10-02  125.45500\n",
              "2013-10-03  108.58483\n",
              "2013-10-04  118.67466\n",
              "2013-10-05  121.33866"
            ],
            "text/html": [
              "\n",
              "  <div id=\"df-f8dcc050-7c0e-4f64-b709-2e8f71b5fc89\">\n",
              "    <div class=\"colab-df-container\">\n",
              "      <div>\n",
              "<style scoped>\n",
              "    .dataframe tbody tr th:only-of-type {\n",
              "        vertical-align: middle;\n",
              "    }\n",
              "\n",
              "    .dataframe tbody tr th {\n",
              "        vertical-align: top;\n",
              "    }\n",
              "\n",
              "    .dataframe thead th {\n",
              "        text-align: right;\n",
              "    }\n",
              "</style>\n",
              "<table border=\"1\" class=\"dataframe\">\n",
              "  <thead>\n",
              "    <tr style=\"text-align: right;\">\n",
              "      <th></th>\n",
              "      <th>Price</th>\n",
              "    </tr>\n",
              "    <tr>\n",
              "      <th>Date</th>\n",
              "      <th></th>\n",
              "    </tr>\n",
              "  </thead>\n",
              "  <tbody>\n",
              "    <tr>\n",
              "      <th>2013-10-01</th>\n",
              "      <td>123.65499</td>\n",
              "    </tr>\n",
              "    <tr>\n",
              "      <th>2013-10-02</th>\n",
              "      <td>125.45500</td>\n",
              "    </tr>\n",
              "    <tr>\n",
              "      <th>2013-10-03</th>\n",
              "      <td>108.58483</td>\n",
              "    </tr>\n",
              "    <tr>\n",
              "      <th>2013-10-04</th>\n",
              "      <td>118.67466</td>\n",
              "    </tr>\n",
              "    <tr>\n",
              "      <th>2013-10-05</th>\n",
              "      <td>121.33866</td>\n",
              "    </tr>\n",
              "  </tbody>\n",
              "</table>\n",
              "</div>\n",
              "      <button class=\"colab-df-convert\" onclick=\"convertToInteractive('df-f8dcc050-7c0e-4f64-b709-2e8f71b5fc89')\"\n",
              "              title=\"Convert this dataframe to an interactive table.\"\n",
              "              style=\"display:none;\">\n",
              "        \n",
              "  <svg xmlns=\"http://www.w3.org/2000/svg\" height=\"24px\"viewBox=\"0 0 24 24\"\n",
              "       width=\"24px\">\n",
              "    <path d=\"M0 0h24v24H0V0z\" fill=\"none\"/>\n",
              "    <path d=\"M18.56 5.44l.94 2.06.94-2.06 2.06-.94-2.06-.94-.94-2.06-.94 2.06-2.06.94zm-11 1L8.5 8.5l.94-2.06 2.06-.94-2.06-.94L8.5 2.5l-.94 2.06-2.06.94zm10 10l.94 2.06.94-2.06 2.06-.94-2.06-.94-.94-2.06-.94 2.06-2.06.94z\"/><path d=\"M17.41 7.96l-1.37-1.37c-.4-.4-.92-.59-1.43-.59-.52 0-1.04.2-1.43.59L10.3 9.45l-7.72 7.72c-.78.78-.78 2.05 0 2.83L4 21.41c.39.39.9.59 1.41.59.51 0 1.02-.2 1.41-.59l7.78-7.78 2.81-2.81c.8-.78.8-2.07 0-2.86zM5.41 20L4 18.59l7.72-7.72 1.47 1.35L5.41 20z\"/>\n",
              "  </svg>\n",
              "      </button>\n",
              "      \n",
              "  <style>\n",
              "    .colab-df-container {\n",
              "      display:flex;\n",
              "      flex-wrap:wrap;\n",
              "      gap: 12px;\n",
              "    }\n",
              "\n",
              "    .colab-df-convert {\n",
              "      background-color: #E8F0FE;\n",
              "      border: none;\n",
              "      border-radius: 50%;\n",
              "      cursor: pointer;\n",
              "      display: none;\n",
              "      fill: #1967D2;\n",
              "      height: 32px;\n",
              "      padding: 0 0 0 0;\n",
              "      width: 32px;\n",
              "    }\n",
              "\n",
              "    .colab-df-convert:hover {\n",
              "      background-color: #E2EBFA;\n",
              "      box-shadow: 0px 1px 2px rgba(60, 64, 67, 0.3), 0px 1px 3px 1px rgba(60, 64, 67, 0.15);\n",
              "      fill: #174EA6;\n",
              "    }\n",
              "\n",
              "    [theme=dark] .colab-df-convert {\n",
              "      background-color: #3B4455;\n",
              "      fill: #D2E3FC;\n",
              "    }\n",
              "\n",
              "    [theme=dark] .colab-df-convert:hover {\n",
              "      background-color: #434B5C;\n",
              "      box-shadow: 0px 1px 3px 1px rgba(0, 0, 0, 0.15);\n",
              "      filter: drop-shadow(0px 1px 2px rgba(0, 0, 0, 0.3));\n",
              "      fill: #FFFFFF;\n",
              "    }\n",
              "  </style>\n",
              "\n",
              "      <script>\n",
              "        const buttonEl =\n",
              "          document.querySelector('#df-f8dcc050-7c0e-4f64-b709-2e8f71b5fc89 button.colab-df-convert');\n",
              "        buttonEl.style.display =\n",
              "          google.colab.kernel.accessAllowed ? 'block' : 'none';\n",
              "\n",
              "        async function convertToInteractive(key) {\n",
              "          const element = document.querySelector('#df-f8dcc050-7c0e-4f64-b709-2e8f71b5fc89');\n",
              "          const dataTable =\n",
              "            await google.colab.kernel.invokeFunction('convertToInteractive',\n",
              "                                                     [key], {});\n",
              "          if (!dataTable) return;\n",
              "\n",
              "          const docLinkHtml = 'Like what you see? Visit the ' +\n",
              "            '<a target=\"_blank\" href=https://colab.research.google.com/notebooks/data_table.ipynb>data table notebook</a>'\n",
              "            + ' to learn more about interactive tables.';\n",
              "          element.innerHTML = '';\n",
              "          dataTable['output_type'] = 'display_data';\n",
              "          await google.colab.output.renderOutput(dataTable, element);\n",
              "          const docLink = document.createElement('div');\n",
              "          docLink.innerHTML = docLinkHtml;\n",
              "          element.appendChild(docLink);\n",
              "        }\n",
              "      </script>\n",
              "    </div>\n",
              "  </div>\n",
              "  "
            ]
          },
          "metadata": {},
          "execution_count": 96
        }
      ]
    },
    {
      "cell_type": "code",
      "source": [
        "# Add windowed columns\n",
        "\n",
        "bitcoin_prices_ensemble = bitcoin_prices.copy()\n",
        "for i in range(WINDOW_SIZE):\n",
        "  bitcoin_prices_ensemble[f\"Price+{i+1}\"] = bitcoin_prices_ensemble[\"Price\"].shift(periods=i+1)\n",
        "\n",
        "bitcoin_prices_ensemble.head() "
      ],
      "metadata": {
        "colab": {
          "base_uri": "https://localhost:8080/",
          "height": 237
        },
        "id": "BG4ABJnZ3wae",
        "outputId": "fbea94f2-a121-4915-f9f8-fb88d7f4e1a6"
      },
      "execution_count": 97,
      "outputs": [
        {
          "output_type": "execute_result",
          "data": {
            "text/plain": [
              "                Price    Price+1    Price+2    Price+3    Price+4  Price+5  \\\n",
              "Date                                                                         \n",
              "2013-10-01  123.65499        NaN        NaN        NaN        NaN      NaN   \n",
              "2013-10-02  125.45500  123.65499        NaN        NaN        NaN      NaN   \n",
              "2013-10-03  108.58483  125.45500  123.65499        NaN        NaN      NaN   \n",
              "2013-10-04  118.67466  108.58483  125.45500  123.65499        NaN      NaN   \n",
              "2013-10-05  121.33866  118.67466  108.58483  125.45500  123.65499      NaN   \n",
              "\n",
              "            Price+6  Price+7  \n",
              "Date                          \n",
              "2013-10-01      NaN      NaN  \n",
              "2013-10-02      NaN      NaN  \n",
              "2013-10-03      NaN      NaN  \n",
              "2013-10-04      NaN      NaN  \n",
              "2013-10-05      NaN      NaN  "
            ],
            "text/html": [
              "\n",
              "  <div id=\"df-89c8ae74-427b-40a8-9535-a3df38f29f6b\">\n",
              "    <div class=\"colab-df-container\">\n",
              "      <div>\n",
              "<style scoped>\n",
              "    .dataframe tbody tr th:only-of-type {\n",
              "        vertical-align: middle;\n",
              "    }\n",
              "\n",
              "    .dataframe tbody tr th {\n",
              "        vertical-align: top;\n",
              "    }\n",
              "\n",
              "    .dataframe thead th {\n",
              "        text-align: right;\n",
              "    }\n",
              "</style>\n",
              "<table border=\"1\" class=\"dataframe\">\n",
              "  <thead>\n",
              "    <tr style=\"text-align: right;\">\n",
              "      <th></th>\n",
              "      <th>Price</th>\n",
              "      <th>Price+1</th>\n",
              "      <th>Price+2</th>\n",
              "      <th>Price+3</th>\n",
              "      <th>Price+4</th>\n",
              "      <th>Price+5</th>\n",
              "      <th>Price+6</th>\n",
              "      <th>Price+7</th>\n",
              "    </tr>\n",
              "    <tr>\n",
              "      <th>Date</th>\n",
              "      <th></th>\n",
              "      <th></th>\n",
              "      <th></th>\n",
              "      <th></th>\n",
              "      <th></th>\n",
              "      <th></th>\n",
              "      <th></th>\n",
              "      <th></th>\n",
              "    </tr>\n",
              "  </thead>\n",
              "  <tbody>\n",
              "    <tr>\n",
              "      <th>2013-10-01</th>\n",
              "      <td>123.65499</td>\n",
              "      <td>NaN</td>\n",
              "      <td>NaN</td>\n",
              "      <td>NaN</td>\n",
              "      <td>NaN</td>\n",
              "      <td>NaN</td>\n",
              "      <td>NaN</td>\n",
              "      <td>NaN</td>\n",
              "    </tr>\n",
              "    <tr>\n",
              "      <th>2013-10-02</th>\n",
              "      <td>125.45500</td>\n",
              "      <td>123.65499</td>\n",
              "      <td>NaN</td>\n",
              "      <td>NaN</td>\n",
              "      <td>NaN</td>\n",
              "      <td>NaN</td>\n",
              "      <td>NaN</td>\n",
              "      <td>NaN</td>\n",
              "    </tr>\n",
              "    <tr>\n",
              "      <th>2013-10-03</th>\n",
              "      <td>108.58483</td>\n",
              "      <td>125.45500</td>\n",
              "      <td>123.65499</td>\n",
              "      <td>NaN</td>\n",
              "      <td>NaN</td>\n",
              "      <td>NaN</td>\n",
              "      <td>NaN</td>\n",
              "      <td>NaN</td>\n",
              "    </tr>\n",
              "    <tr>\n",
              "      <th>2013-10-04</th>\n",
              "      <td>118.67466</td>\n",
              "      <td>108.58483</td>\n",
              "      <td>125.45500</td>\n",
              "      <td>123.65499</td>\n",
              "      <td>NaN</td>\n",
              "      <td>NaN</td>\n",
              "      <td>NaN</td>\n",
              "      <td>NaN</td>\n",
              "    </tr>\n",
              "    <tr>\n",
              "      <th>2013-10-05</th>\n",
              "      <td>121.33866</td>\n",
              "      <td>118.67466</td>\n",
              "      <td>108.58483</td>\n",
              "      <td>125.45500</td>\n",
              "      <td>123.65499</td>\n",
              "      <td>NaN</td>\n",
              "      <td>NaN</td>\n",
              "      <td>NaN</td>\n",
              "    </tr>\n",
              "  </tbody>\n",
              "</table>\n",
              "</div>\n",
              "      <button class=\"colab-df-convert\" onclick=\"convertToInteractive('df-89c8ae74-427b-40a8-9535-a3df38f29f6b')\"\n",
              "              title=\"Convert this dataframe to an interactive table.\"\n",
              "              style=\"display:none;\">\n",
              "        \n",
              "  <svg xmlns=\"http://www.w3.org/2000/svg\" height=\"24px\"viewBox=\"0 0 24 24\"\n",
              "       width=\"24px\">\n",
              "    <path d=\"M0 0h24v24H0V0z\" fill=\"none\"/>\n",
              "    <path d=\"M18.56 5.44l.94 2.06.94-2.06 2.06-.94-2.06-.94-.94-2.06-.94 2.06-2.06.94zm-11 1L8.5 8.5l.94-2.06 2.06-.94-2.06-.94L8.5 2.5l-.94 2.06-2.06.94zm10 10l.94 2.06.94-2.06 2.06-.94-2.06-.94-.94-2.06-.94 2.06-2.06.94z\"/><path d=\"M17.41 7.96l-1.37-1.37c-.4-.4-.92-.59-1.43-.59-.52 0-1.04.2-1.43.59L10.3 9.45l-7.72 7.72c-.78.78-.78 2.05 0 2.83L4 21.41c.39.39.9.59 1.41.59.51 0 1.02-.2 1.41-.59l7.78-7.78 2.81-2.81c.8-.78.8-2.07 0-2.86zM5.41 20L4 18.59l7.72-7.72 1.47 1.35L5.41 20z\"/>\n",
              "  </svg>\n",
              "      </button>\n",
              "      \n",
              "  <style>\n",
              "    .colab-df-container {\n",
              "      display:flex;\n",
              "      flex-wrap:wrap;\n",
              "      gap: 12px;\n",
              "    }\n",
              "\n",
              "    .colab-df-convert {\n",
              "      background-color: #E8F0FE;\n",
              "      border: none;\n",
              "      border-radius: 50%;\n",
              "      cursor: pointer;\n",
              "      display: none;\n",
              "      fill: #1967D2;\n",
              "      height: 32px;\n",
              "      padding: 0 0 0 0;\n",
              "      width: 32px;\n",
              "    }\n",
              "\n",
              "    .colab-df-convert:hover {\n",
              "      background-color: #E2EBFA;\n",
              "      box-shadow: 0px 1px 2px rgba(60, 64, 67, 0.3), 0px 1px 3px 1px rgba(60, 64, 67, 0.15);\n",
              "      fill: #174EA6;\n",
              "    }\n",
              "\n",
              "    [theme=dark] .colab-df-convert {\n",
              "      background-color: #3B4455;\n",
              "      fill: #D2E3FC;\n",
              "    }\n",
              "\n",
              "    [theme=dark] .colab-df-convert:hover {\n",
              "      background-color: #434B5C;\n",
              "      box-shadow: 0px 1px 3px 1px rgba(0, 0, 0, 0.15);\n",
              "      filter: drop-shadow(0px 1px 2px rgba(0, 0, 0, 0.3));\n",
              "      fill: #FFFFFF;\n",
              "    }\n",
              "  </style>\n",
              "\n",
              "      <script>\n",
              "        const buttonEl =\n",
              "          document.querySelector('#df-89c8ae74-427b-40a8-9535-a3df38f29f6b button.colab-df-convert');\n",
              "        buttonEl.style.display =\n",
              "          google.colab.kernel.accessAllowed ? 'block' : 'none';\n",
              "\n",
              "        async function convertToInteractive(key) {\n",
              "          const element = document.querySelector('#df-89c8ae74-427b-40a8-9535-a3df38f29f6b');\n",
              "          const dataTable =\n",
              "            await google.colab.kernel.invokeFunction('convertToInteractive',\n",
              "                                                     [key], {});\n",
              "          if (!dataTable) return;\n",
              "\n",
              "          const docLinkHtml = 'Like what you see? Visit the ' +\n",
              "            '<a target=\"_blank\" href=https://colab.research.google.com/notebooks/data_table.ipynb>data table notebook</a>'\n",
              "            + ' to learn more about interactive tables.';\n",
              "          element.innerHTML = '';\n",
              "          dataTable['output_type'] = 'display_data';\n",
              "          await google.colab.output.renderOutput(dataTable, element);\n",
              "          const docLink = document.createElement('div');\n",
              "          docLink.innerHTML = docLinkHtml;\n",
              "          element.appendChild(docLink);\n",
              "        }\n",
              "      </script>\n",
              "    </div>\n",
              "  </div>\n",
              "  "
            ]
          },
          "metadata": {},
          "execution_count": 97
        }
      ]
    },
    {
      "cell_type": "code",
      "source": [
        "# Make features and labels\n",
        "\n",
        "X = bitcoin_prices_ensemble.dropna().drop(\"Price\", axis = 1)\n",
        "y = bitcoin_prices_ensemble.dropna()[\"Price\"]\n",
        "\n",
        "# Make train and test splits\n",
        "\n",
        "split_size = int(len(X) *  0.8)\n",
        "X_train, y_train = X[:split_size], y[:split_size]\n",
        "X_test, y_test = X[split_size:], y[split_size:]\n",
        "\n",
        "len(X_train), len(y_train), len(X_test), len(y_test)"
      ],
      "metadata": {
        "colab": {
          "base_uri": "https://localhost:8080/"
        },
        "id": "5AQvTnXy3wXR",
        "outputId": "03f38d39-4ff6-4414-9451-c12c0a67bcfd"
      },
      "execution_count": 98,
      "outputs": [
        {
          "output_type": "execute_result",
          "data": {
            "text/plain": [
              "(2224, 2224, 556, 556)"
            ]
          },
          "metadata": {},
          "execution_count": 98
        }
      ]
    },
    {
      "cell_type": "code",
      "source": [
        "# Making our dataset performant using tf.data api\n",
        "\n",
        "train_features_dataset = tf.data.Dataset.from_tensor_slices(X_train) # from_tensor_slices() creates a dataset whose elements \n",
        "                                                                     # are slices of the given tensors\n",
        "train_labels_dataset = tf.data.Dataset.from_tensor_slices(y_train)\n",
        "\n",
        "test_features_dataset = tf.data.Dataset.from_tensor_slices(X_test)\n",
        "test_labels_dataset = tf.data.Dataset.from_tensor_slices(y_test)\n",
        "\n",
        "# Compining labels and features by zipping together into a tuple -> (features, labels)\n",
        "\n",
        "train_dataset = tf.data.Dataset.zip((train_features_dataset, train_labels_dataset)) # zip() creates a Dataset by zipping together the given datasets\n",
        "test_dataset = tf.data.Dataset.zip((test_features_dataset, test_labels_dataset))\n",
        "\n",
        "# Batch and prefetch\n",
        "\n",
        "BATCH_SIZE = 1024\n",
        "\n",
        "# Batch -  The tf.data.Dataset.batch() function is used to group the elements into batches.\n",
        "# Prefetch - Creates a Dataset that prefetches elements from this dataset. \n",
        "#            Most dataset input pipelines should end with a call to prefetch. This allows later elements to be prepared while the current element is being processed. This often improves latency and throughput, at the cost of using additional memory to store prefetched elements.\n",
        "train_dataset = train_dataset.batch(BATCH_SIZE).prefetch(tf.data.AUTOTUNE)\n",
        "test_dataset = test_dataset.batch(BATCH_SIZE).prefetch(tf.data.AUTOTUNE)\n",
        "\n",
        "train_dataset, test_dataset"
      ],
      "metadata": {
        "colab": {
          "base_uri": "https://localhost:8080/"
        },
        "id": "h_R4k3G43wLt",
        "outputId": "f237d30f-b667-4863-e90e-dd5386a226fa"
      },
      "execution_count": 99,
      "outputs": [
        {
          "output_type": "execute_result",
          "data": {
            "text/plain": [
              "(<PrefetchDataset element_spec=(TensorSpec(shape=(None, 7), dtype=tf.float64, name=None), TensorSpec(shape=(None,), dtype=tf.float64, name=None))>,\n",
              " <PrefetchDataset element_spec=(TensorSpec(shape=(None, 7), dtype=tf.float64, name=None), TensorSpec(shape=(None,), dtype=tf.float64, name=None))>)"
            ]
          },
          "metadata": {},
          "execution_count": 99
        }
      ]
    },
    {
      "cell_type": "markdown",
      "source": [
        "1. batch( batch_size, name=None)\n",
        "\n",
        "  - Combines consecutive elements of this dataset into batches. \n",
        "\n",
        "2. prefetch( buffer_size, name=None)\n",
        "\n",
        "  - Creates a Dataset that prefetches elements from this dataset.\n",
        "  - Most dataset input pipelines should end with a call to prefetch. This allows later elements to be prepared while the current element is being processed. This often improves latency and throughput, at the cost of using additional memory to store prefetched elements."
      ],
      "metadata": {
        "id": "Tb90cd0tEvUX"
      }
    },
    {
      "cell_type": "markdown",
      "source": [
        "## Model 5: Creating an ensemble (stacking different models together)\n",
        "\n",
        "An ensemble leverages the wisdom of the crowd effect\n"
      ],
      "metadata": {
        "id": "1hVitgaf0-dr"
      }
    },
    {
      "cell_type": "markdown",
      "source": [
        "### Constructing and fitting an ensemble of models (using different loss functions)"
      ],
      "metadata": {
        "id": "mRAR5DlO2FHJ"
      }
    },
    {
      "cell_type": "code",
      "source": [
        "def get_ensemble_models(horizon=HORIZON, \n",
        "                        train_data=train_dataset,\n",
        "                        test_data=test_dataset,\n",
        "                        num_iter=10, # number of models we are going to train\n",
        "                        num_epochs=1000, \n",
        "                        loss_fns=[\"mae\", \"mse\", \"mape\"]):\n",
        "  \"\"\"\n",
        "  Returns a list of num_iter models each trained on MAE, MSE and MAPE loss.\n",
        "\n",
        "  For example, if num_iter=10, a list of 30 trained models will be returned:\n",
        "  10 * len([\"mae\", \"mse\", \"mape\"]).\n",
        "  \"\"\"\n",
        "  # Make empty list for trained ensemble models\n",
        "  ensemble_models = []\n",
        "\n",
        "  # Create num_iter number of models per loss function\n",
        "  for i in range(num_iter):\n",
        "    # Build and fit a new model with a different loss function\n",
        "    for loss_function in loss_fns:\n",
        "      print(f\"Optimizing model by reducing: {loss_function} for {num_epochs} epochs, model number: {i}\")\n",
        "\n",
        "      # Construct a simple model (similar to model_1)\n",
        "      model = tf.keras.Sequential([\n",
        "        # Initialize layers with normal (Gaussian) distribution so we can use the models for prediction\n",
        "        layers.Dense(128, kernel_initializer=\"he_normal\", activation=\"relu\"), \n",
        "        layers.Dense(128, kernel_initializer=\"he_normal\", activation=\"relu\"),\n",
        "        layers.Dense(HORIZON)                                 \n",
        "      ])\n",
        "\n",
        "      # Compile simple model with current loss function\n",
        "      model.compile(loss=loss_function,\n",
        "                    optimizer=tf.keras.optimizers.Adam(),\n",
        "                    metrics=[\"mae\", \"mse\"])\n",
        "      \n",
        "      # Fit model\n",
        "      model.fit(train_data,\n",
        "                epochs=num_epochs,\n",
        "                verbose=0,\n",
        "                validation_data=test_data,\n",
        "                # Add callbacks to prevent training from going/stalling for too long\n",
        "                callbacks=[tf.keras.callbacks.EarlyStopping(monitor=\"val_loss\",\n",
        "                                                            patience=200,\n",
        "                                                            restore_best_weights=True),\n",
        "                # The above Early Stopping callback means: if \"val_loss\" doesn't improve for 200 epochs, stop training and\n",
        "                # restore our model to the best_weights, so that we are not burning through extra epochs that we don't have to\n",
        "                           tf.keras.callbacks.ReduceLROnPlateau(monitor=\"val_loss\",\n",
        "                                                                patience=100,\n",
        "                                                                verbose=1)])\n",
        "                # The above ReduceLROnPlateau means: reduces the learning rate by a factor of 0.1, if \"val_loss\" doesn't \n",
        "                # improve after a 100 epochs\n",
        "      \n",
        "      # Append fitted model to list of ensemble models\n",
        "      ensemble_models.append(model)\n",
        "\n",
        "  return ensemble_models # return list of trained models"
      ],
      "metadata": {
        "id": "ZsxUC12qTTUS"
      },
      "execution_count": 100,
      "outputs": []
    },
    {
      "cell_type": "code",
      "source": [
        "%%time\n",
        "# Get list of trained ensemble models\n",
        "ensemble_models = get_ensemble_models(num_iter = 5,\n",
        "                                      num_epochs = 1000)"
      ],
      "metadata": {
        "colab": {
          "base_uri": "https://localhost:8080/"
        },
        "id": "j9kfKSgdNJYl",
        "outputId": "d74164a7-26ba-46ea-df07-17e0db36e32d"
      },
      "execution_count": 101,
      "outputs": [
        {
          "output_type": "stream",
          "name": "stdout",
          "text": [
            "Optimizing model by reducing: mae for 1000 epochs, model number: 0\n",
            "\n",
            "Epoch 650: ReduceLROnPlateau reducing learning rate to 0.00010000000474974513.\n",
            "\n",
            "Epoch 791: ReduceLROnPlateau reducing learning rate to 1.0000000474974514e-05.\n",
            "\n",
            "Epoch 891: ReduceLROnPlateau reducing learning rate to 1.0000000656873453e-06.\n",
            "Optimizing model by reducing: mse for 1000 epochs, model number: 0\n",
            "\n",
            "Epoch 624: ReduceLROnPlateau reducing learning rate to 0.00010000000474974513.\n",
            "\n",
            "Epoch 724: ReduceLROnPlateau reducing learning rate to 1.0000000474974514e-05.\n",
            "Optimizing model by reducing: mape for 1000 epochs, model number: 0\n",
            "\n",
            "Epoch 361: ReduceLROnPlateau reducing learning rate to 0.00010000000474974513.\n",
            "\n",
            "Epoch 715: ReduceLROnPlateau reducing learning rate to 1.0000000474974514e-05.\n",
            "\n",
            "Epoch 815: ReduceLROnPlateau reducing learning rate to 1.0000000656873453e-06.\n",
            "Optimizing model by reducing: mae for 1000 epochs, model number: 1\n",
            "\n",
            "Epoch 563: ReduceLROnPlateau reducing learning rate to 0.00010000000474974513.\n",
            "Optimizing model by reducing: mse for 1000 epochs, model number: 1\n",
            "\n",
            "Epoch 393: ReduceLROnPlateau reducing learning rate to 0.00010000000474974513.\n",
            "\n",
            "Epoch 493: ReduceLROnPlateau reducing learning rate to 1.0000000474974514e-05.\n",
            "Optimizing model by reducing: mape for 1000 epochs, model number: 1\n",
            "\n",
            "Epoch 267: ReduceLROnPlateau reducing learning rate to 0.00010000000474974513.\n",
            "\n",
            "Epoch 367: ReduceLROnPlateau reducing learning rate to 1.0000000474974514e-05.\n",
            "Optimizing model by reducing: mae for 1000 epochs, model number: 2\n",
            "\n",
            "Epoch 983: ReduceLROnPlateau reducing learning rate to 0.00010000000474974513.\n",
            "Optimizing model by reducing: mse for 1000 epochs, model number: 2\n",
            "\n",
            "Epoch 150: ReduceLROnPlateau reducing learning rate to 0.00010000000474974513.\n",
            "\n",
            "Epoch 250: ReduceLROnPlateau reducing learning rate to 1.0000000474974514e-05.\n",
            "Optimizing model by reducing: mape for 1000 epochs, model number: 2\n",
            "\n",
            "Epoch 132: ReduceLROnPlateau reducing learning rate to 0.00010000000474974513.\n",
            "\n",
            "Epoch 594: ReduceLROnPlateau reducing learning rate to 1.0000000474974514e-05.\n",
            "\n",
            "Epoch 700: ReduceLROnPlateau reducing learning rate to 1.0000000656873453e-06.\n",
            "\n",
            "Epoch 800: ReduceLROnPlateau reducing learning rate to 1.0000001111620805e-07.\n",
            "Optimizing model by reducing: mae for 1000 epochs, model number: 3\n",
            "Optimizing model by reducing: mse for 1000 epochs, model number: 3\n",
            "\n",
            "Epoch 284: ReduceLROnPlateau reducing learning rate to 0.00010000000474974513.\n",
            "\n",
            "Epoch 384: ReduceLROnPlateau reducing learning rate to 1.0000000474974514e-05.\n",
            "Optimizing model by reducing: mape for 1000 epochs, model number: 3\n",
            "\n",
            "Epoch 265: ReduceLROnPlateau reducing learning rate to 0.00010000000474974513.\n",
            "\n",
            "Epoch 365: ReduceLROnPlateau reducing learning rate to 1.0000000474974514e-05.\n",
            "Optimizing model by reducing: mae for 1000 epochs, model number: 4\n",
            "Optimizing model by reducing: mse for 1000 epochs, model number: 4\n",
            "\n",
            "Epoch 699: ReduceLROnPlateau reducing learning rate to 0.00010000000474974513.\n",
            "\n",
            "Epoch 799: ReduceLROnPlateau reducing learning rate to 1.0000000474974514e-05.\n",
            "Optimizing model by reducing: mape for 1000 epochs, model number: 4\n",
            "\n",
            "Epoch 158: ReduceLROnPlateau reducing learning rate to 0.00010000000474974513.\n",
            "\n",
            "Epoch 632: ReduceLROnPlateau reducing learning rate to 1.0000000474974514e-05.\n",
            "\n",
            "Epoch 800: ReduceLROnPlateau reducing learning rate to 1.0000000656873453e-06.\n",
            "\n",
            "Epoch 900: ReduceLROnPlateau reducing learning rate to 1.0000001111620805e-07.\n",
            "CPU times: user 5min 33s, sys: 25.2 s, total: 5min 58s\n",
            "Wall time: 5min 29s\n"
          ]
        }
      ]
    },
    {
      "cell_type": "code",
      "source": [
        "!nvidia-smi"
      ],
      "metadata": {
        "colab": {
          "base_uri": "https://localhost:8080/"
        },
        "id": "VGmEZheiOyuU",
        "outputId": "900dbc8d-0aaa-4e7a-93a9-225f9d95e2c4"
      },
      "execution_count": 102,
      "outputs": [
        {
          "output_type": "stream",
          "name": "stdout",
          "text": [
            "Mon Aug  8 20:37:09 2022       \n",
            "+-----------------------------------------------------------------------------+\n",
            "| NVIDIA-SMI 460.32.03    Driver Version: 460.32.03    CUDA Version: 11.2     |\n",
            "|-------------------------------+----------------------+----------------------+\n",
            "| GPU  Name        Persistence-M| Bus-Id        Disp.A | Volatile Uncorr. ECC |\n",
            "| Fan  Temp  Perf  Pwr:Usage/Cap|         Memory-Usage | GPU-Util  Compute M. |\n",
            "|                               |                      |               MIG M. |\n",
            "|===============================+======================+======================|\n",
            "|   0  Tesla T4            Off  | 00000000:00:04.0 Off |                    0 |\n",
            "| N/A   46C    P0    25W /  70W |    462MiB / 15109MiB |      7%      Default |\n",
            "|                               |                      |                  N/A |\n",
            "+-------------------------------+----------------------+----------------------+\n",
            "                                                                               \n",
            "+-----------------------------------------------------------------------------+\n",
            "| Processes:                                                                  |\n",
            "|  GPU   GI   CI        PID   Type   Process name                  GPU Memory |\n",
            "|        ID   ID                                                   Usage      |\n",
            "|=============================================================================|\n",
            "+-----------------------------------------------------------------------------+\n"
          ]
        }
      ]
    },
    {
      "cell_type": "code",
      "source": [
        "ensemble_models"
      ],
      "metadata": {
        "colab": {
          "base_uri": "https://localhost:8080/"
        },
        "id": "R-Ztgdt-RD-U",
        "outputId": "bacd3e2a-a6dd-4b59-864c-a7e398c3e916"
      },
      "execution_count": 103,
      "outputs": [
        {
          "output_type": "execute_result",
          "data": {
            "text/plain": [
              "[<keras.engine.sequential.Sequential at 0x7fc69e2b2210>,\n",
              " <keras.engine.sequential.Sequential at 0x7fc678389850>,\n",
              " <keras.engine.sequential.Sequential at 0x7fc6865f2bd0>,\n",
              " <keras.engine.sequential.Sequential at 0x7fc6780c0e90>,\n",
              " <keras.engine.sequential.Sequential at 0x7fc67850b650>,\n",
              " <keras.engine.sequential.Sequential at 0x7fc688081290>,\n",
              " <keras.engine.sequential.Sequential at 0x7fc6866afe90>,\n",
              " <keras.engine.sequential.Sequential at 0x7fc674669f50>,\n",
              " <keras.engine.sequential.Sequential at 0x7fc66fdebf10>,\n",
              " <keras.engine.sequential.Sequential at 0x7fc67056bd90>,\n",
              " <keras.engine.sequential.Sequential at 0x7fc670478850>,\n",
              " <keras.engine.sequential.Sequential at 0x7fc686544f90>,\n",
              " <keras.engine.sequential.Sequential at 0x7fc6747c4690>,\n",
              " <keras.engine.sequential.Sequential at 0x7fc67843d250>,\n",
              " <keras.engine.sequential.Sequential at 0x7fc67024d050>]"
            ]
          },
          "metadata": {},
          "execution_count": 103
        }
      ]
    },
    {
      "cell_type": "markdown",
      "source": [
        "### Make predictions with our ensemble model"
      ],
      "metadata": {
        "id": "37w7k1sYQg_A"
      }
    },
    {
      "cell_type": "code",
      "source": [
        "# Create a function which uses a list of trained models to make and return a list of predictions\n",
        "def make_ensemble_preds(ensemble_models, data):\n",
        "  ensemble_preds = []\n",
        "  for model in ensemble_models:\n",
        "    preds = model.predict(data)\n",
        "    ensemble_preds.append(preds)\n",
        "  return tf.constant(tf.squeeze(ensemble_preds))\n"
      ],
      "metadata": {
        "id": "raz2IUDYQb2P"
      },
      "execution_count": 104,
      "outputs": []
    },
    {
      "cell_type": "code",
      "source": [
        "# Create a list of ensemble preds\n",
        "%%time\n",
        "\n",
        "ensemble_preds = make_ensemble_preds(ensemble_models = ensemble_models, \n",
        "                                     data = test_dataset)\n",
        "\n",
        "ensemble_preds"
      ],
      "metadata": {
        "colab": {
          "base_uri": "https://localhost:8080/"
        },
        "id": "GcloFzq_SNQ1",
        "outputId": "a1e9a19f-ee65-4e50-c4e8-9bc59b4effa7"
      },
      "execution_count": 105,
      "outputs": [
        {
          "output_type": "stream",
          "name": "stdout",
          "text": [
            "WARNING:tensorflow:5 out of the last 22 calls to <function Model.make_predict_function.<locals>.predict_function at 0x7fc6780c98c0> triggered tf.function retracing. Tracing is expensive and the excessive number of tracings could be due to (1) creating @tf.function repeatedly in a loop, (2) passing tensors with different shapes, (3) passing Python objects instead of tensors. For (1), please define your @tf.function outside of the loop. For (2), @tf.function has experimental_relax_shapes=True option that relaxes argument shapes that can avoid unnecessary retracing. For (3), please refer to https://www.tensorflow.org/guide/function#controlling_retracing and https://www.tensorflow.org/api_docs/python/tf/function for  more details.\n"
          ]
        },
        {
          "output_type": "stream",
          "name": "stderr",
          "text": [
            "WARNING:tensorflow:5 out of the last 22 calls to <function Model.make_predict_function.<locals>.predict_function at 0x7fc6780c98c0> triggered tf.function retracing. Tracing is expensive and the excessive number of tracings could be due to (1) creating @tf.function repeatedly in a loop, (2) passing tensors with different shapes, (3) passing Python objects instead of tensors. For (1), please define your @tf.function outside of the loop. For (2), @tf.function has experimental_relax_shapes=True option that relaxes argument shapes that can avoid unnecessary retracing. For (3), please refer to https://www.tensorflow.org/guide/function#controlling_retracing and https://www.tensorflow.org/api_docs/python/tf/function for  more details.\n"
          ]
        },
        {
          "output_type": "stream",
          "name": "stdout",
          "text": [
            "WARNING:tensorflow:6 out of the last 23 calls to <function Model.make_predict_function.<locals>.predict_function at 0x7fc687db1830> triggered tf.function retracing. Tracing is expensive and the excessive number of tracings could be due to (1) creating @tf.function repeatedly in a loop, (2) passing tensors with different shapes, (3) passing Python objects instead of tensors. For (1), please define your @tf.function outside of the loop. For (2), @tf.function has experimental_relax_shapes=True option that relaxes argument shapes that can avoid unnecessary retracing. For (3), please refer to https://www.tensorflow.org/guide/function#controlling_retracing and https://www.tensorflow.org/api_docs/python/tf/function for  more details.\n"
          ]
        },
        {
          "output_type": "stream",
          "name": "stderr",
          "text": [
            "WARNING:tensorflow:6 out of the last 23 calls to <function Model.make_predict_function.<locals>.predict_function at 0x7fc687db1830> triggered tf.function retracing. Tracing is expensive and the excessive number of tracings could be due to (1) creating @tf.function repeatedly in a loop, (2) passing tensors with different shapes, (3) passing Python objects instead of tensors. For (1), please define your @tf.function outside of the loop. For (2), @tf.function has experimental_relax_shapes=True option that relaxes argument shapes that can avoid unnecessary retracing. For (3), please refer to https://www.tensorflow.org/guide/function#controlling_retracing and https://www.tensorflow.org/api_docs/python/tf/function for  more details.\n"
          ]
        },
        {
          "output_type": "stream",
          "name": "stdout",
          "text": [
            "CPU times: user 610 ms, sys: 37.2 ms, total: 647 ms\n",
            "Wall time: 637 ms\n"
          ]
        }
      ]
    },
    {
      "cell_type": "code",
      "source": [
        "ensemble_preds"
      ],
      "metadata": {
        "colab": {
          "base_uri": "https://localhost:8080/"
        },
        "id": "Kcn9cqSXSU64",
        "outputId": "580e5fc5-22d8-48d6-cd50-4c616904712b"
      },
      "execution_count": 106,
      "outputs": [
        {
          "output_type": "execute_result",
          "data": {
            "text/plain": [
              "<tf.Tensor: shape=(15, 556), dtype=float32, numpy=\n",
              "array([[ 8778.674 ,  8843.493 ,  9064.171 , ..., 49279.664 , 48609.297 ,\n",
              "        46203.156 ],\n",
              "       [ 8736.658 ,  8787.107 ,  9039.8125, ..., 50116.11  , 48259.85  ,\n",
              "        45876.703 ],\n",
              "       [ 8780.267 ,  8805.378 ,  9092.468 , ..., 50267.844 , 48242.688 ,\n",
              "        45886.45  ],\n",
              "       ...,\n",
              "       [ 8661.287 ,  8642.298 ,  9134.07  , ..., 49868.92  , 48643.95  ,\n",
              "        45533.344 ],\n",
              "       [ 8812.776 ,  8754.445 ,  9002.784 , ..., 49482.824 , 48219.027 ,\n",
              "        46167.91  ],\n",
              "       [ 8809.392 ,  8810.626 ,  9067.475 , ..., 50012.508 , 47947.445 ,\n",
              "        45541.402 ]], dtype=float32)>"
            ]
          },
          "metadata": {},
          "execution_count": 106
        }
      ]
    },
    {
      "cell_type": "markdown",
      "source": [
        "Now we've got a set of ensemble predictions, we can evaluate them against the ground truth values.\n",
        "\n",
        "However, since we've trained 15 models, there's going to be 15 sets of predictions. Rather than comparing every set of predictions to the ground truth, let's take the median (you could also take the mean too but the median is usually more robust than the mean)."
      ],
      "metadata": {
        "id": "GkfngkONXelx"
      }
    },
    {
      "cell_type": "code",
      "source": [
        "ensemble_median = np.median(ensemble_preds, axis=0)\n",
        "ensemble_median[:10]"
      ],
      "metadata": {
        "colab": {
          "base_uri": "https://localhost:8080/"
        },
        "id": "GaoXbWi2VBBr",
        "outputId": "4d8069f7-f829-4cb6-85f4-3ad91e19bfb4"
      },
      "execution_count": 107,
      "outputs": [
        {
          "output_type": "execute_result",
          "data": {
            "text/plain": [
              "array([8794.825, 8775.06 , 9057.606, 8712.127, 8741.391, 8716.866,\n",
              "       8647.917, 8483.576, 8452.958, 8520.001], dtype=float32)"
            ]
          },
          "metadata": {},
          "execution_count": 107
        }
      ]
    },
    {
      "cell_type": "code",
      "source": [
        "# Evaluate ensemble model(s) predictions\n",
        "ensemble_results = evaluate_preds(y_true = y_test, \n",
        "                                  y_pred = ensemble_median)\n",
        "\n",
        "ensemble_results"
      ],
      "metadata": {
        "colab": {
          "base_uri": "https://localhost:8080/"
        },
        "id": "ym-MN2_WVlei",
        "outputId": "3f5e1a46-2e7b-4b7e-84f1-7ceb8a851ce4"
      },
      "execution_count": 108,
      "outputs": [
        {
          "output_type": "execute_result",
          "data": {
            "text/plain": [
              "{'mae': 565.0479,\n",
              " 'mape': 2.554046,\n",
              " 'mase': 0.9926327,\n",
              " 'mse': 1131961.5,\n",
              " 'rmse': 1063.9368}"
            ]
          },
          "metadata": {},
          "execution_count": 108
        }
      ]
    },
    {
      "cell_type": "markdown",
      "source": [
        "It looks like the ensemble model is the best performing model so far"
      ],
      "metadata": {
        "id": "FYZ8XpvpYQfs"
      }
    },
    {
      "cell_type": "markdown",
      "source": [
        "## Why forecasting doesn't work (the turkey problem)\n",
        "\n",
        "You could have the historical data of Bitcoin for its entire existence and build a model which predicts it perfectly.\n",
        "\n",
        "But then one day for some unknown and unpredictable reason, the price of Bitcoin plummets 100x in a single day.\n",
        "\n",
        "Just like a turkey could live 1000 days eating healthy, and on the day of thanksgiving (1001st day) it may become a roasted turkey."
      ],
      "metadata": {
        "id": "eOZ7WFzGXymM"
      }
    },
    {
      "cell_type": "code",
      "source": [
        "btc_price_turkeys = bitcoin_prices.copy()"
      ],
      "metadata": {
        "id": "-135cOyxYPBA"
      },
      "execution_count": 109,
      "outputs": []
    },
    {
      "cell_type": "code",
      "source": [
        "len(btc_price_turkeys)"
      ],
      "metadata": {
        "colab": {
          "base_uri": "https://localhost:8080/"
        },
        "id": "uPpPcUfhZGlP",
        "outputId": "b6b42f1f-d2c9-4637-de08-6c12b5969668"
      },
      "execution_count": 110,
      "outputs": [
        {
          "output_type": "execute_result",
          "data": {
            "text/plain": [
              "2787"
            ]
          },
          "metadata": {},
          "execution_count": 110
        }
      ]
    },
    {
      "cell_type": "code",
      "source": [
        "btc_price_turkey = btc_price_turkeys[\"Price\"].values.tolist()\n",
        "\n",
        "\n",
        "# Introducing the above problem in our BTC data (price of BTC falls 100x in 1 day)\n",
        "\n",
        "btc_price_turkey[-1] = btc_price_turkey[-1] / 100"
      ],
      "metadata": {
        "id": "MCqpvaTmecrT"
      },
      "execution_count": 111,
      "outputs": []
    },
    {
      "cell_type": "code",
      "source": [
        "btc_price_turkey[-10:]"
      ],
      "metadata": {
        "colab": {
          "base_uri": "https://localhost:8080/"
        },
        "id": "0xAVUE9efTsp",
        "outputId": "1a173764-2102-4f09-ad3f-1dd6505e9f64"
      },
      "execution_count": 112,
      "outputs": [
        {
          "output_type": "execute_result",
          "data": {
            "text/plain": [
              "[58788.20968,\n",
              " 58102.19143,\n",
              " 55715.54665,\n",
              " 56573.55547,\n",
              " 52147.82119,\n",
              " 49764.13208,\n",
              " 50032.69314,\n",
              " 47885.62525,\n",
              " 45604.61575,\n",
              " 431.4447129]"
            ]
          },
          "metadata": {},
          "execution_count": 112
        }
      ]
    },
    {
      "cell_type": "code",
      "source": [
        "# Get the timesteps for the turkey problem\n",
        "\n",
        "btc_timesteps_turkey = np.array(bitcoin_prices.index)\n",
        "btc_timesteps_turkey[-10:]"
      ],
      "metadata": {
        "colab": {
          "base_uri": "https://localhost:8080/"
        },
        "id": "XnOp550N0Mrx",
        "outputId": "4fea879b-212b-43c0-8586-0e5605d0d931"
      },
      "execution_count": 113,
      "outputs": [
        {
          "output_type": "execute_result",
          "data": {
            "text/plain": [
              "array(['2021-05-09T00:00:00.000000000', '2021-05-10T00:00:00.000000000',\n",
              "       '2021-05-11T00:00:00.000000000', '2021-05-12T00:00:00.000000000',\n",
              "       '2021-05-13T00:00:00.000000000', '2021-05-14T00:00:00.000000000',\n",
              "       '2021-05-15T00:00:00.000000000', '2021-05-16T00:00:00.000000000',\n",
              "       '2021-05-17T00:00:00.000000000', '2021-05-18T00:00:00.000000000'],\n",
              "      dtype='datetime64[ns]')"
            ]
          },
          "metadata": {},
          "execution_count": 113
        }
      ]
    },
    {
      "cell_type": "code",
      "source": [
        "# Plotting our turkey data\n",
        "\n",
        "plt.figure(figsize=(10, 7))\n",
        "plot_time_series(timesteps = btc_timesteps_turkey, values=btc_price_turkey, format='-', start = 2500, label = \"BTC Price + Turkey Problem\")"
      ],
      "metadata": {
        "colab": {
          "base_uri": "https://localhost:8080/",
          "height": 442
        },
        "id": "UFw0jAmp0zz9",
        "outputId": "682fe455-4460-4a7a-9b15-e6953c240bd9"
      },
      "execution_count": 114,
      "outputs": [
        {
          "output_type": "display_data",
          "data": {
            "text/plain": [
              "<Figure size 720x504 with 1 Axes>"
            ],
            "image/png": "[encoded data removed]"
          },
          "metadata": {
            "needs_background": "light"
          }
        }
      ]
    },
    {
      "cell_type": "markdown",
      "source": [
        "## Preparing data for the turkey model"
      ],
      "metadata": {
        "id": "j4mIYbpzHFRq"
      }
    },
    {
      "cell_type": "code",
      "source": [
        "HORIZON = 1\n",
        "WINDOW_SIZE = 7"
      ],
      "metadata": {
        "id": "8tJYoHhi2KXJ"
      },
      "execution_count": 115,
      "outputs": []
    },
    {
      "cell_type": "code",
      "source": [
        "full_windows, full_labels = make_windows(np.array(btc_price_turkey), window_size = WINDOW_SIZE, horizon = HORIZON)\n",
        "\n",
        "len(full_windows), len(full_labels)"
      ],
      "metadata": {
        "colab": {
          "base_uri": "https://localhost:8080/"
        },
        "id": "ym_NRAr41XtE",
        "outputId": "c49ac681-1202-4fcd-9550-ad77a6741eb2"
      },
      "execution_count": 116,
      "outputs": [
        {
          "output_type": "stream",
          "name": "stdout",
          "text": [
            "Window step:\n",
            "  [[0 1 2 3 4 5 6 7]]\n",
            "Window indexes:\n",
            " (array([[0, 1, 2, 3, 4, 5, 6, 7],\n",
            "       [1, 2, 3, 4, 5, 6, 7, 8],\n",
            "       [2, 3, 4, 5, 6, 7, 8, 9]]), array([[2777, 2778, 2779, 2780, 2781, 2782, 2783, 2784],\n",
            "       [2778, 2779, 2780, 2781, 2782, 2783, 2784, 2785],\n",
            "       [2779, 2780, 2781, 2782, 2783, 2784, 2785, 2786]]), (2780, 8))\n",
            "Windowed array:\n",
            " [[  123.65499     125.455       108.58483   ...   120.65533\n",
            "    121.795       123.033    ]\n",
            " [  125.455       108.58483     118.67466   ...   121.795\n",
            "    123.033       124.049    ]\n",
            " [  108.58483     118.67466     121.33866   ...   123.033\n",
            "    124.049       125.96116  ]\n",
            " ...\n",
            " [58788.20968   58102.19143   55715.54665   ... 49764.13208\n",
            "  50032.69314   47885.62525  ]\n",
            " [58102.19143   55715.54665   56573.55547   ... 50032.69314\n",
            "  47885.62525   45604.61575  ]\n",
            " [55715.54665   56573.55547   52147.82119   ... 47885.62525\n",
            "  45604.61575     431.4447129]]\n"
          ]
        },
        {
          "output_type": "execute_result",
          "data": {
            "text/plain": [
              "(2780, 2780)"
            ]
          },
          "metadata": {},
          "execution_count": 116
        }
      ]
    },
    {
      "cell_type": "code",
      "source": [
        "# Create train and test sets for turkey problem data\n",
        "\n",
        "X_train, X_test, y_train, y_test = make_train_test_splits(windows = full_windows, labels = full_labels)\n",
        "\n",
        "len(X_train), len(X_test), len(y_train), len(y_test)"
      ],
      "metadata": {
        "colab": {
          "base_uri": "https://localhost:8080/"
        },
        "id": "VAbXTre311Of",
        "outputId": "03b63b01-dee3-40c5-90aa-f651317482ff"
      },
      "execution_count": 117,
      "outputs": [
        {
          "output_type": "execute_result",
          "data": {
            "text/plain": [
              "(2224, 556, 2224, 556)"
            ]
          },
          "metadata": {},
          "execution_count": 117
        }
      ]
    },
    {
      "cell_type": "markdown",
      "source": [
        "## Model 6: Turkey Model"
      ],
      "metadata": {
        "id": "JPl8bqn_HQ8T"
      }
    },
    {
      "cell_type": "code",
      "source": [
        "# Clone model 1 architecture for turkey model and fit the turkey model on the turkey data\n",
        "\n",
        "turkey_model = tf.keras.models.clone_model(model_1)\n",
        "turkey_model._name = \"model_6_turkey_model\" # To access and change the name feature in model.keras.Sequential() in model 1\n",
        "\n",
        "# Compile the model\n",
        "turkey_model.compile(loss=\"mae\",\n",
        "                     optimizer = tf.keras.optimizers.Adam())\n",
        "\n",
        "# Fit the model\n",
        "\n",
        "turkey_model.fit(x = X_train,\n",
        "                 y = y_train,\n",
        "                 batch_size = 128,\n",
        "                 epochs = 100,\n",
        "                 verbose = 0,\n",
        "                 validation_data = [X_test, y_test],\n",
        "                 callbacks = [create_model_checkpoint(model_name = \"model_6_turkey_model\")])"
      ],
      "metadata": {
        "colab": {
          "base_uri": "https://localhost:8080/"
        },
        "id": "SLAxhEkv2l8y",
        "outputId": "f570885a-4cfc-4fc5-a329-f5f592814773"
      },
      "execution_count": 118,
      "outputs": [
        {
          "output_type": "stream",
          "name": "stdout",
          "text": [
            "INFO:tensorflow:Assets written to: /content/drive/MyDrive/BTC Predictor/model_experiments/model_6_turkey_model/assets\n"
          ]
        },
        {
          "output_type": "stream",
          "name": "stderr",
          "text": [
            "INFO:tensorflow:Assets written to: /content/drive/MyDrive/BTC Predictor/model_experiments/model_6_turkey_model/assets\n"
          ]
        },
        {
          "output_type": "stream",
          "name": "stdout",
          "text": [
            "INFO:tensorflow:Assets written to: /content/drive/MyDrive/BTC Predictor/model_experiments/model_6_turkey_model/assets\n"
          ]
        },
        {
          "output_type": "stream",
          "name": "stderr",
          "text": [
            "INFO:tensorflow:Assets written to: /content/drive/MyDrive/BTC Predictor/model_experiments/model_6_turkey_model/assets\n"
          ]
        },
        {
          "output_type": "stream",
          "name": "stdout",
          "text": [
            "INFO:tensorflow:Assets written to: /content/drive/MyDrive/BTC Predictor/model_experiments/model_6_turkey_model/assets\n"
          ]
        },
        {
          "output_type": "stream",
          "name": "stderr",
          "text": [
            "INFO:tensorflow:Assets written to: /content/drive/MyDrive/BTC Predictor/model_experiments/model_6_turkey_model/assets\n"
          ]
        },
        {
          "output_type": "stream",
          "name": "stdout",
          "text": [
            "INFO:tensorflow:Assets written to: /content/drive/MyDrive/BTC Predictor/model_experiments/model_6_turkey_model/assets\n"
          ]
        },
        {
          "output_type": "stream",
          "name": "stderr",
          "text": [
            "INFO:tensorflow:Assets written to: /content/drive/MyDrive/BTC Predictor/model_experiments/model_6_turkey_model/assets\n"
          ]
        },
        {
          "output_type": "stream",
          "name": "stdout",
          "text": [
            "INFO:tensorflow:Assets written to: /content/drive/MyDrive/BTC Predictor/model_experiments/model_6_turkey_model/assets\n"
          ]
        },
        {
          "output_type": "stream",
          "name": "stderr",
          "text": [
            "INFO:tensorflow:Assets written to: /content/drive/MyDrive/BTC Predictor/model_experiments/model_6_turkey_model/assets\n"
          ]
        },
        {
          "output_type": "stream",
          "name": "stdout",
          "text": [
            "INFO:tensorflow:Assets written to: /content/drive/MyDrive/BTC Predictor/model_experiments/model_6_turkey_model/assets\n"
          ]
        },
        {
          "output_type": "stream",
          "name": "stderr",
          "text": [
            "INFO:tensorflow:Assets written to: /content/drive/MyDrive/BTC Predictor/model_experiments/model_6_turkey_model/assets\n"
          ]
        },
        {
          "output_type": "stream",
          "name": "stdout",
          "text": [
            "INFO:tensorflow:Assets written to: /content/drive/MyDrive/BTC Predictor/model_experiments/model_6_turkey_model/assets\n"
          ]
        },
        {
          "output_type": "stream",
          "name": "stderr",
          "text": [
            "INFO:tensorflow:Assets written to: /content/drive/MyDrive/BTC Predictor/model_experiments/model_6_turkey_model/assets\n"
          ]
        },
        {
          "output_type": "stream",
          "name": "stdout",
          "text": [
            "INFO:tensorflow:Assets written to: /content/drive/MyDrive/BTC Predictor/model_experiments/model_6_turkey_model/assets\n"
          ]
        },
        {
          "output_type": "stream",
          "name": "stderr",
          "text": [
            "INFO:tensorflow:Assets written to: /content/drive/MyDrive/BTC Predictor/model_experiments/model_6_turkey_model/assets\n"
          ]
        },
        {
          "output_type": "stream",
          "name": "stdout",
          "text": [
            "INFO:tensorflow:Assets written to: /content/drive/MyDrive/BTC Predictor/model_experiments/model_6_turkey_model/assets\n"
          ]
        },
        {
          "output_type": "stream",
          "name": "stderr",
          "text": [
            "INFO:tensorflow:Assets written to: /content/drive/MyDrive/BTC Predictor/model_experiments/model_6_turkey_model/assets\n"
          ]
        },
        {
          "output_type": "stream",
          "name": "stdout",
          "text": [
            "INFO:tensorflow:Assets written to: /content/drive/MyDrive/BTC Predictor/model_experiments/model_6_turkey_model/assets\n"
          ]
        },
        {
          "output_type": "stream",
          "name": "stderr",
          "text": [
            "INFO:tensorflow:Assets written to: /content/drive/MyDrive/BTC Predictor/model_experiments/model_6_turkey_model/assets\n"
          ]
        },
        {
          "output_type": "stream",
          "name": "stdout",
          "text": [
            "INFO:tensorflow:Assets written to: /content/drive/MyDrive/BTC Predictor/model_experiments/model_6_turkey_model/assets\n"
          ]
        },
        {
          "output_type": "stream",
          "name": "stderr",
          "text": [
            "INFO:tensorflow:Assets written to: /content/drive/MyDrive/BTC Predictor/model_experiments/model_6_turkey_model/assets\n"
          ]
        },
        {
          "output_type": "stream",
          "name": "stdout",
          "text": [
            "INFO:tensorflow:Assets written to: /content/drive/MyDrive/BTC Predictor/model_experiments/model_6_turkey_model/assets\n"
          ]
        },
        {
          "output_type": "stream",
          "name": "stderr",
          "text": [
            "INFO:tensorflow:Assets written to: /content/drive/MyDrive/BTC Predictor/model_experiments/model_6_turkey_model/assets\n"
          ]
        },
        {
          "output_type": "stream",
          "name": "stdout",
          "text": [
            "INFO:tensorflow:Assets written to: /content/drive/MyDrive/BTC Predictor/model_experiments/model_6_turkey_model/assets\n"
          ]
        },
        {
          "output_type": "stream",
          "name": "stderr",
          "text": [
            "INFO:tensorflow:Assets written to: /content/drive/MyDrive/BTC Predictor/model_experiments/model_6_turkey_model/assets\n"
          ]
        },
        {
          "output_type": "stream",
          "name": "stdout",
          "text": [
            "INFO:tensorflow:Assets written to: /content/drive/MyDrive/BTC Predictor/model_experiments/model_6_turkey_model/assets\n"
          ]
        },
        {
          "output_type": "stream",
          "name": "stderr",
          "text": [
            "INFO:tensorflow:Assets written to: /content/drive/MyDrive/BTC Predictor/model_experiments/model_6_turkey_model/assets\n"
          ]
        },
        {
          "output_type": "stream",
          "name": "stdout",
          "text": [
            "INFO:tensorflow:Assets written to: /content/drive/MyDrive/BTC Predictor/model_experiments/model_6_turkey_model/assets\n"
          ]
        },
        {
          "output_type": "stream",
          "name": "stderr",
          "text": [
            "INFO:tensorflow:Assets written to: /content/drive/MyDrive/BTC Predictor/model_experiments/model_6_turkey_model/assets\n"
          ]
        },
        {
          "output_type": "stream",
          "name": "stdout",
          "text": [
            "INFO:tensorflow:Assets written to: /content/drive/MyDrive/BTC Predictor/model_experiments/model_6_turkey_model/assets\n"
          ]
        },
        {
          "output_type": "stream",
          "name": "stderr",
          "text": [
            "INFO:tensorflow:Assets written to: /content/drive/MyDrive/BTC Predictor/model_experiments/model_6_turkey_model/assets\n"
          ]
        },
        {
          "output_type": "stream",
          "name": "stdout",
          "text": [
            "INFO:tensorflow:Assets written to: /content/drive/MyDrive/BTC Predictor/model_experiments/model_6_turkey_model/assets\n"
          ]
        },
        {
          "output_type": "stream",
          "name": "stderr",
          "text": [
            "INFO:tensorflow:Assets written to: /content/drive/MyDrive/BTC Predictor/model_experiments/model_6_turkey_model/assets\n"
          ]
        },
        {
          "output_type": "stream",
          "name": "stdout",
          "text": [
            "INFO:tensorflow:Assets written to: /content/drive/MyDrive/BTC Predictor/model_experiments/model_6_turkey_model/assets\n"
          ]
        },
        {
          "output_type": "stream",
          "name": "stderr",
          "text": [
            "INFO:tensorflow:Assets written to: /content/drive/MyDrive/BTC Predictor/model_experiments/model_6_turkey_model/assets\n"
          ]
        },
        {
          "output_type": "stream",
          "name": "stdout",
          "text": [
            "INFO:tensorflow:Assets written to: /content/drive/MyDrive/BTC Predictor/model_experiments/model_6_turkey_model/assets\n"
          ]
        },
        {
          "output_type": "stream",
          "name": "stderr",
          "text": [
            "INFO:tensorflow:Assets written to: /content/drive/MyDrive/BTC Predictor/model_experiments/model_6_turkey_model/assets\n"
          ]
        },
        {
          "output_type": "stream",
          "name": "stdout",
          "text": [
            "INFO:tensorflow:Assets written to: /content/drive/MyDrive/BTC Predictor/model_experiments/model_6_turkey_model/assets\n"
          ]
        },
        {
          "output_type": "stream",
          "name": "stderr",
          "text": [
            "INFO:tensorflow:Assets written to: /content/drive/MyDrive/BTC Predictor/model_experiments/model_6_turkey_model/assets\n"
          ]
        },
        {
          "output_type": "stream",
          "name": "stdout",
          "text": [
            "INFO:tensorflow:Assets written to: /content/drive/MyDrive/BTC Predictor/model_experiments/model_6_turkey_model/assets\n"
          ]
        },
        {
          "output_type": "stream",
          "name": "stderr",
          "text": [
            "INFO:tensorflow:Assets written to: /content/drive/MyDrive/BTC Predictor/model_experiments/model_6_turkey_model/assets\n"
          ]
        },
        {
          "output_type": "stream",
          "name": "stdout",
          "text": [
            "INFO:tensorflow:Assets written to: /content/drive/MyDrive/BTC Predictor/model_experiments/model_6_turkey_model/assets\n"
          ]
        },
        {
          "output_type": "stream",
          "name": "stderr",
          "text": [
            "INFO:tensorflow:Assets written to: /content/drive/MyDrive/BTC Predictor/model_experiments/model_6_turkey_model/assets\n"
          ]
        },
        {
          "output_type": "stream",
          "name": "stdout",
          "text": [
            "INFO:tensorflow:Assets written to: /content/drive/MyDrive/BTC Predictor/model_experiments/model_6_turkey_model/assets\n"
          ]
        },
        {
          "output_type": "stream",
          "name": "stderr",
          "text": [
            "INFO:tensorflow:Assets written to: /content/drive/MyDrive/BTC Predictor/model_experiments/model_6_turkey_model/assets\n"
          ]
        },
        {
          "output_type": "stream",
          "name": "stdout",
          "text": [
            "INFO:tensorflow:Assets written to: /content/drive/MyDrive/BTC Predictor/model_experiments/model_6_turkey_model/assets\n"
          ]
        },
        {
          "output_type": "stream",
          "name": "stderr",
          "text": [
            "INFO:tensorflow:Assets written to: /content/drive/MyDrive/BTC Predictor/model_experiments/model_6_turkey_model/assets\n"
          ]
        },
        {
          "output_type": "stream",
          "name": "stdout",
          "text": [
            "INFO:tensorflow:Assets written to: /content/drive/MyDrive/BTC Predictor/model_experiments/model_6_turkey_model/assets\n"
          ]
        },
        {
          "output_type": "stream",
          "name": "stderr",
          "text": [
            "INFO:tensorflow:Assets written to: /content/drive/MyDrive/BTC Predictor/model_experiments/model_6_turkey_model/assets\n"
          ]
        },
        {
          "output_type": "stream",
          "name": "stdout",
          "text": [
            "INFO:tensorflow:Assets written to: /content/drive/MyDrive/BTC Predictor/model_experiments/model_6_turkey_model/assets\n"
          ]
        },
        {
          "output_type": "stream",
          "name": "stderr",
          "text": [
            "INFO:tensorflow:Assets written to: /content/drive/MyDrive/BTC Predictor/model_experiments/model_6_turkey_model/assets\n"
          ]
        },
        {
          "output_type": "stream",
          "name": "stdout",
          "text": [
            "INFO:tensorflow:Assets written to: /content/drive/MyDrive/BTC Predictor/model_experiments/model_6_turkey_model/assets\n"
          ]
        },
        {
          "output_type": "stream",
          "name": "stderr",
          "text": [
            "INFO:tensorflow:Assets written to: /content/drive/MyDrive/BTC Predictor/model_experiments/model_6_turkey_model/assets\n"
          ]
        },
        {
          "output_type": "stream",
          "name": "stdout",
          "text": [
            "INFO:tensorflow:Assets written to: /content/drive/MyDrive/BTC Predictor/model_experiments/model_6_turkey_model/assets\n"
          ]
        },
        {
          "output_type": "stream",
          "name": "stderr",
          "text": [
            "INFO:tensorflow:Assets written to: /content/drive/MyDrive/BTC Predictor/model_experiments/model_6_turkey_model/assets\n"
          ]
        },
        {
          "output_type": "stream",
          "name": "stdout",
          "text": [
            "INFO:tensorflow:Assets written to: /content/drive/MyDrive/BTC Predictor/model_experiments/model_6_turkey_model/assets\n"
          ]
        },
        {
          "output_type": "stream",
          "name": "stderr",
          "text": [
            "INFO:tensorflow:Assets written to: /content/drive/MyDrive/BTC Predictor/model_experiments/model_6_turkey_model/assets\n"
          ]
        },
        {
          "output_type": "stream",
          "name": "stdout",
          "text": [
            "INFO:tensorflow:Assets written to: /content/drive/MyDrive/BTC Predictor/model_experiments/model_6_turkey_model/assets\n"
          ]
        },
        {
          "output_type": "stream",
          "name": "stderr",
          "text": [
            "INFO:tensorflow:Assets written to: /content/drive/MyDrive/BTC Predictor/model_experiments/model_6_turkey_model/assets\n"
          ]
        },
        {
          "output_type": "stream",
          "name": "stdout",
          "text": [
            "INFO:tensorflow:Assets written to: /content/drive/MyDrive/BTC Predictor/model_experiments/model_6_turkey_model/assets\n"
          ]
        },
        {
          "output_type": "stream",
          "name": "stderr",
          "text": [
            "INFO:tensorflow:Assets written to: /content/drive/MyDrive/BTC Predictor/model_experiments/model_6_turkey_model/assets\n"
          ]
        },
        {
          "output_type": "stream",
          "name": "stdout",
          "text": [
            "INFO:tensorflow:Assets written to: /content/drive/MyDrive/BTC Predictor/model_experiments/model_6_turkey_model/assets\n"
          ]
        },
        {
          "output_type": "stream",
          "name": "stderr",
          "text": [
            "INFO:tensorflow:Assets written to: /content/drive/MyDrive/BTC Predictor/model_experiments/model_6_turkey_model/assets\n"
          ]
        },
        {
          "output_type": "stream",
          "name": "stdout",
          "text": [
            "INFO:tensorflow:Assets written to: /content/drive/MyDrive/BTC Predictor/model_experiments/model_6_turkey_model/assets\n"
          ]
        },
        {
          "output_type": "stream",
          "name": "stderr",
          "text": [
            "INFO:tensorflow:Assets written to: /content/drive/MyDrive/BTC Predictor/model_experiments/model_6_turkey_model/assets\n"
          ]
        },
        {
          "output_type": "execute_result",
          "data": {
            "text/plain": [
              "<keras.callbacks.History at 0x7fc66ff0aa50>"
            ]
          },
          "metadata": {},
          "execution_count": 118
        }
      ]
    },
    {
      "cell_type": "code",
      "source": [
        "# Evaluate turkey model on test data\n",
        "\n",
        "turkey_model.evaluate(X_test, y_test)"
      ],
      "metadata": {
        "colab": {
          "base_uri": "https://localhost:8080/"
        },
        "id": "N_ZhAeFZ3PtU",
        "outputId": "651ab7a4-9895-4277-c387-1f144f3bbb0e"
      },
      "execution_count": 119,
      "outputs": [
        {
          "output_type": "stream",
          "name": "stdout",
          "text": [
            "18/18 [==============================] - 0s 3ms/step - loss: 807.1151\n"
          ]
        },
        {
          "output_type": "execute_result",
          "data": {
            "text/plain": [
              "807.1150512695312"
            ]
          },
          "metadata": {},
          "execution_count": 119
        }
      ]
    },
    {
      "cell_type": "code",
      "source": [
        "# Load best performing turkey model and evaluate on test data\n",
        "\n",
        "turkey_model = tf.keras.models.load_model(filepath = '/content/drive/MyDrive/BTC Predictor/model_experiments/model_6_turkey_model/')\n",
        "turkey_model.evaluate(X_test, y_test)"
      ],
      "metadata": {
        "colab": {
          "base_uri": "https://localhost:8080/"
        },
        "id": "eyYvzkgk5goa",
        "outputId": "8810dd73-66f0-480e-ce67-712f6889914f"
      },
      "execution_count": 120,
      "outputs": [
        {
          "output_type": "stream",
          "name": "stdout",
          "text": [
            "18/18 [==============================] - 0s 3ms/step - loss: 637.4183\n"
          ]
        },
        {
          "output_type": "execute_result",
          "data": {
            "text/plain": [
              "637.4182739257812"
            ]
          },
          "metadata": {},
          "execution_count": 120
        }
      ]
    },
    {
      "cell_type": "code",
      "source": [
        "# Make predictions with turkey model\n",
        "\n",
        "turkey_preds = make_preds(turkey_model, X_test)\n",
        "turkey_preds[:10]"
      ],
      "metadata": {
        "colab": {
          "base_uri": "https://localhost:8080/"
        },
        "id": "DFo91B-_53mU",
        "outputId": "588f7b91-15f9-40bf-f674-f68ca6bab5d0"
      },
      "execution_count": 121,
      "outputs": [
        {
          "output_type": "execute_result",
          "data": {
            "text/plain": [
              "<tf.Tensor: shape=(10,), dtype=float32, numpy=\n",
              "array([8817.066 , 8783.974 , 9029.472 , 8763.059 , 8774.349 , 8712.79  ,\n",
              "       8650.94  , 8553.647 , 8434.3125, 8527.643 ], dtype=float32)>"
            ]
          },
          "metadata": {},
          "execution_count": 121
        }
      ]
    },
    {
      "cell_type": "code",
      "source": [
        "# Evaluate turkey preds\n",
        "\n",
        "turkey_results = evaluate_preds(y_true = y_test, \n",
        "                                y_pred = turkey_preds)\n",
        "turkey_results"
      ],
      "metadata": {
        "colab": {
          "base_uri": "https://localhost:8080/"
        },
        "id": "-SSrlR6F6YgM",
        "outputId": "0c56f3ba-29f3-424b-f463-a95a98f692b3"
      },
      "execution_count": 122,
      "outputs": [
        {
          "output_type": "execute_result",
          "data": {
            "text/plain": [
              "{'mae': 17134.238,\n",
              " 'mape': 121.42651,\n",
              " 'mase': 26.515285,\n",
              " 'mse': 614681100.0,\n",
              " 'rmse': 23721.217}"
            ]
          },
          "metadata": {},
          "execution_count": 122
        }
      ]
    },
    {
      "cell_type": "code",
      "source": [
        "model_1_results"
      ],
      "metadata": {
        "colab": {
          "base_uri": "https://localhost:8080/"
        },
        "id": "DjBE5iQ-6g1C",
        "outputId": "d76017b2-cc92-4d92-b7c0-d159e24862be"
      },
      "execution_count": 123,
      "outputs": [
        {
          "output_type": "execute_result",
          "data": {
            "text/plain": [
              "{'mae': 568.95105,\n",
              " 'mape': 2.5448983,\n",
              " 'mase': 0.9994894,\n",
              " 'mse': 1171743.8,\n",
              " 'rmse': 1082.4711}"
            ]
          },
          "metadata": {},
          "execution_count": 123
        }
      ]
    },
    {
      "cell_type": "code",
      "source": [
        "# Plotting the results\n",
        "\n",
        "plt.figure(figsize = (10, 7))\n",
        "offset = 0\n",
        "plot_time_series(timesteps = btc_timesteps_turkey[-len(X_test):], \n",
        "                 values = btc_price_turkey[-len(y_test):],\n",
        "                 format = '-',\n",
        "                 start = offset,\n",
        "                 label = \"Turkey Test Data\")\n",
        "\n",
        "plot_time_series(timesteps = btc_timesteps_turkey[-len(X_test):], \n",
        "                 values = turkey_preds,\n",
        "                 format = '-',\n",
        "                 start = offset,\n",
        "                 label = \"Turkey Preds\")"
      ],
      "metadata": {
        "colab": {
          "base_uri": "https://localhost:8080/",
          "height": 442
        },
        "id": "AG7Ixc8x66_K",
        "outputId": "45c112c1-c80b-4035-c601-e11044874f17"
      },
      "execution_count": 124,
      "outputs": [
        {
          "output_type": "display_data",
          "data": {
            "text/plain": [
              "<Figure size 720x504 with 1 Axes>"
            ],
            "image/png": "[encoded data removed]"
          },
          "metadata": {
            "needs_background": "light"
          }
        }
      ]
    },
    {
      "cell_type": "markdown",
      "source": [
        "Why does our model fail to capture the turkey problem data point?\n",
        "\n",
        "Think about it like this, just like a turkey who lives 1000 joyful days, based on observation alone has no reason to believe day 1001 won't be as joyful as the last, a model which has been trained on historical data of Bitcoin which has no single event where the price decreased by 100x in a day, has no reason to predict it will in the future.\n",
        "\n",
        "A model cannot predict anything in the future outside of the distribution it was trained on.\n",
        "\n",
        "In turn, highly unlikely price movements (based on historical movements), upward or downward will likely never be part of a forecast.\n",
        "\n",
        "However, as we've seen, despite their unlikeliness, these events can have catastrophic impacts to the performance of our models."
      ],
      "metadata": {
        "id": "osQXpBqM9LYl"
      }
    },
    {
      "cell_type": "markdown",
      "source": [
        "## Comparing Models"
      ],
      "metadata": {
        "id": "vqZE4rbM9max"
      }
    },
    {
      "cell_type": "code",
      "source": [
        "# Compare different model resutls (w = window, h = horizon, e.g. w = 7 means a window_size of 7)\n",
        "\n",
        "model_results = pd.DataFrame({\"naive_model\": naive_results,\n",
        "                             \"model_1_dense_w7_h1\": model_1_results,\n",
        "                             \"model_2_dense_w30_h1\": model_2_results,\n",
        "                             \"model_3_dense_w30_h7\": model_3_results,\n",
        "                             \"model_4_LSTM\": model_4_results,\n",
        "                             \"model_5_ensemble\": ensemble_results,\n",
        "                             \"model_6_turkey_model\": turkey_results}).T\n",
        "              \n",
        "model_results"
      ],
      "metadata": {
        "colab": {
          "base_uri": "https://localhost:8080/",
          "height": 269
        },
        "id": "_ve-64Jl7ebF",
        "outputId": "ac7b1c24-f9c5-4205-b86c-7f8295eb9092"
      },
      "execution_count": 125,
      "outputs": [
        {
          "output_type": "execute_result",
          "data": {
            "text/plain": [
              "                               mae           mse          rmse        mape  \\\n",
              "naive_model             567.980225  1.147547e+06   1071.236206    2.516525   \n",
              "model_1_dense_w7_h1     568.951050  1.171744e+06   1082.471069    2.544898   \n",
              "model_2_dense_w30_h1    605.874084  1.273361e+06   1128.432861    2.726445   \n",
              "model_3_dense_w30_h7   1237.506470  5.405199e+06   1425.747803    5.558879   \n",
              "model_4_LSTM            594.602966  1.267232e+06   1125.713867    2.671757   \n",
              "model_5_ensemble        565.047913  1.131962e+06   1063.936768    2.554046   \n",
              "model_6_turkey_model  17134.238281  6.146811e+08  23721.216797  121.426514   \n",
              "\n",
              "                           mase  \n",
              "naive_model            0.999570  \n",
              "model_1_dense_w7_h1    0.999489  \n",
              "model_2_dense_w30_h1   1.059074  \n",
              "model_3_dense_w30_h7   2.202073  \n",
              "model_4_LSTM           1.044553  \n",
              "model_5_ensemble       0.992633  \n",
              "model_6_turkey_model  26.515285  "
            ],
            "text/html": [
              "\n",
              "  <div id=\"df-94258da3-2a2e-4d27-ba2d-8ede8f6dff6d\">\n",
              "    <div class=\"colab-df-container\">\n",
              "      <div>\n",
              "<style scoped>\n",
              "    .dataframe tbody tr th:only-of-type {\n",
              "        vertical-align: middle;\n",
              "    }\n",
              "\n",
              "    .dataframe tbody tr th {\n",
              "        vertical-align: top;\n",
              "    }\n",
              "\n",
              "    .dataframe thead th {\n",
              "        text-align: right;\n",
              "    }\n",
              "</style>\n",
              "<table border=\"1\" class=\"dataframe\">\n",
              "  <thead>\n",
              "    <tr style=\"text-align: right;\">\n",
              "      <th></th>\n",
              "      <th>mae</th>\n",
              "      <th>mse</th>\n",
              "      <th>rmse</th>\n",
              "      <th>mape</th>\n",
              "      <th>mase</th>\n",
              "    </tr>\n",
              "  </thead>\n",
              "  <tbody>\n",
              "    <tr>\n",
              "      <th>naive_model</th>\n",
              "      <td>567.980225</td>\n",
              "      <td>1.147547e+06</td>\n",
              "      <td>1071.236206</td>\n",
              "      <td>2.516525</td>\n",
              "      <td>0.999570</td>\n",
              "    </tr>\n",
              "    <tr>\n",
              "      <th>model_1_dense_w7_h1</th>\n",
              "      <td>568.951050</td>\n",
              "      <td>1.171744e+06</td>\n",
              "      <td>1082.471069</td>\n",
              "      <td>2.544898</td>\n",
              "      <td>0.999489</td>\n",
              "    </tr>\n",
              "    <tr>\n",
              "      <th>model_2_dense_w30_h1</th>\n",
              "      <td>605.874084</td>\n",
              "      <td>1.273361e+06</td>\n",
              "      <td>1128.432861</td>\n",
              "      <td>2.726445</td>\n",
              "      <td>1.059074</td>\n",
              "    </tr>\n",
              "    <tr>\n",
              "      <th>model_3_dense_w30_h7</th>\n",
              "      <td>1237.506470</td>\n",
              "      <td>5.405199e+06</td>\n",
              "      <td>1425.747803</td>\n",
              "      <td>5.558879</td>\n",
              "      <td>2.202073</td>\n",
              "    </tr>\n",
              "    <tr>\n",
              "      <th>model_4_LSTM</th>\n",
              "      <td>594.602966</td>\n",
              "      <td>1.267232e+06</td>\n",
              "      <td>1125.713867</td>\n",
              "      <td>2.671757</td>\n",
              "      <td>1.044553</td>\n",
              "    </tr>\n",
              "    <tr>\n",
              "      <th>model_5_ensemble</th>\n",
              "      <td>565.047913</td>\n",
              "      <td>1.131962e+06</td>\n",
              "      <td>1063.936768</td>\n",
              "      <td>2.554046</td>\n",
              "      <td>0.992633</td>\n",
              "    </tr>\n",
              "    <tr>\n",
              "      <th>model_6_turkey_model</th>\n",
              "      <td>17134.238281</td>\n",
              "      <td>6.146811e+08</td>\n",
              "      <td>23721.216797</td>\n",
              "      <td>121.426514</td>\n",
              "      <td>26.515285</td>\n",
              "    </tr>\n",
              "  </tbody>\n",
              "</table>\n",
              "</div>\n",
              "      <button class=\"colab-df-convert\" onclick=\"convertToInteractive('df-94258da3-2a2e-4d27-ba2d-8ede8f6dff6d')\"\n",
              "              title=\"Convert this dataframe to an interactive table.\"\n",
              "              style=\"display:none;\">\n",
              "        \n",
              "  <svg xmlns=\"http://www.w3.org/2000/svg\" height=\"24px\"viewBox=\"0 0 24 24\"\n",
              "       width=\"24px\">\n",
              "    <path d=\"M0 0h24v24H0V0z\" fill=\"none\"/>\n",
              "    <path d=\"M18.56 5.44l.94 2.06.94-2.06 2.06-.94-2.06-.94-.94-2.06-.94 2.06-2.06.94zm-11 1L8.5 8.5l.94-2.06 2.06-.94-2.06-.94L8.5 2.5l-.94 2.06-2.06.94zm10 10l.94 2.06.94-2.06 2.06-.94-2.06-.94-.94-2.06-.94 2.06-2.06.94z\"/><path d=\"M17.41 7.96l-1.37-1.37c-.4-.4-.92-.59-1.43-.59-.52 0-1.04.2-1.43.59L10.3 9.45l-7.72 7.72c-.78.78-.78 2.05 0 2.83L4 21.41c.39.39.9.59 1.41.59.51 0 1.02-.2 1.41-.59l7.78-7.78 2.81-2.81c.8-.78.8-2.07 0-2.86zM5.41 20L4 18.59l7.72-7.72 1.47 1.35L5.41 20z\"/>\n",
              "  </svg>\n",
              "      </button>\n",
              "      \n",
              "  <style>\n",
              "    .colab-df-container {\n",
              "      display:flex;\n",
              "      flex-wrap:wrap;\n",
              "      gap: 12px;\n",
              "    }\n",
              "\n",
              "    .colab-df-convert {\n",
              "      background-color: #E8F0FE;\n",
              "      border: none;\n",
              "      border-radius: 50%;\n",
              "      cursor: pointer;\n",
              "      display: none;\n",
              "      fill: #1967D2;\n",
              "      height: 32px;\n",
              "      padding: 0 0 0 0;\n",
              "      width: 32px;\n",
              "    }\n",
              "\n",
              "    .colab-df-convert:hover {\n",
              "      background-color: #E2EBFA;\n",
              "      box-shadow: 0px 1px 2px rgba(60, 64, 67, 0.3), 0px 1px 3px 1px rgba(60, 64, 67, 0.15);\n",
              "      fill: #174EA6;\n",
              "    }\n",
              "\n",
              "    [theme=dark] .colab-df-convert {\n",
              "      background-color: #3B4455;\n",
              "      fill: #D2E3FC;\n",
              "    }\n",
              "\n",
              "    [theme=dark] .colab-df-convert:hover {\n",
              "      background-color: #434B5C;\n",
              "      box-shadow: 0px 1px 3px 1px rgba(0, 0, 0, 0.15);\n",
              "      filter: drop-shadow(0px 1px 2px rgba(0, 0, 0, 0.3));\n",
              "      fill: #FFFFFF;\n",
              "    }\n",
              "  </style>\n",
              "\n",
              "      <script>\n",
              "        const buttonEl =\n",
              "          document.querySelector('#df-94258da3-2a2e-4d27-ba2d-8ede8f6dff6d button.colab-df-convert');\n",
              "        buttonEl.style.display =\n",
              "          google.colab.kernel.accessAllowed ? 'block' : 'none';\n",
              "\n",
              "        async function convertToInteractive(key) {\n",
              "          const element = document.querySelector('#df-94258da3-2a2e-4d27-ba2d-8ede8f6dff6d');\n",
              "          const dataTable =\n",
              "            await google.colab.kernel.invokeFunction('convertToInteractive',\n",
              "                                                     [key], {});\n",
              "          if (!dataTable) return;\n",
              "\n",
              "          const docLinkHtml = 'Like what you see? Visit the ' +\n",
              "            '<a target=\"_blank\" href=https://colab.research.google.com/notebooks/data_table.ipynb>data table notebook</a>'\n",
              "            + ' to learn more about interactive tables.';\n",
              "          element.innerHTML = '';\n",
              "          dataTable['output_type'] = 'display_data';\n",
              "          await google.colab.output.renderOutput(dataTable, element);\n",
              "          const docLink = document.createElement('div');\n",
              "          docLink.innerHTML = docLinkHtml;\n",
              "          element.appendChild(docLink);\n",
              "        }\n",
              "      </script>\n",
              "    </div>\n",
              "  </div>\n",
              "  "
            ]
          },
          "metadata": {},
          "execution_count": 125
        }
      ]
    },
    {
      "cell_type": "code",
      "source": [
        "# Sort model results by MAE and plot them\n",
        "\n",
        "model_results = model_results[[\"mae\"]].sort_values(by=\"mae\")\n",
        "\n",
        "model_results.plot(figsize=(10, 7), kind = \"bar\")"
      ],
      "metadata": {
        "colab": {
          "base_uri": "https://localhost:8080/",
          "height": 557
        },
        "id": "khwxlQas_e4E",
        "outputId": "2f4347cb-3c3b-44cd-eec3-bab1e2738e80"
      },
      "execution_count": 135,
      "outputs": [
        {
          "output_type": "execute_result",
          "data": {
            "text/plain": [
              "<matplotlib.axes._subplots.AxesSubplot at 0x7fc65e96ea50>"
            ]
          },
          "metadata": {},
          "execution_count": 135
        },
        {
          "output_type": "display_data",
          "data": {
            "text/plain": [
              "<Figure size 720x504 with 1 Axes>"
            ],
            "image/png": "[encoded data removed]"
          },
          "metadata": {
            "needs_background": "light"
          }
        }
      ]
    },
    {
      "cell_type": "code",
      "source": [
        "model_results.plot.pie(y=\"mae\", figsize = (10,7), colors = ['red', 'pink', 'blue', 'green', 'magenta', 'orange', 'cyan'])"
      ],
      "metadata": {
        "colab": {
          "base_uri": "https://localhost:8080/",
          "height": 429
        },
        "id": "PpxdDRqqAEAf",
        "outputId": "ba45dfcb-50fb-460a-a54d-047ace29ad6d"
      },
      "execution_count": 143,
      "outputs": [
        {
          "output_type": "execute_result",
          "data": {
            "text/plain": [
              "<matplotlib.axes._subplots.AxesSubplot at 0x7fc65ceaaf50>"
            ]
          },
          "metadata": {},
          "execution_count": 143
        },
        {
          "output_type": "display_data",
          "data": {
            "text/plain": [
              "<Figure size 720x504 with 1 Axes>"
            ],
            "image/png": "[encoded data removed]"
          },
          "metadata": {}
        }
      ]
    },
    {
      "cell_type": "markdown",
      "source": [
        "\n",
        "* Only the ensemble model performs on par or only slightly better than the naive model. And for the turkey model, changing a single data point destroys its performance.\n",
        "\n",
        "* Forecasting in a closed system (such as predicting the demand of electricity) often yields quite usable results, while forecasting methods usually don't perform well in open systems.\n",
        "\n",
        "* So not knowing the future is a benefit. A known future is already the past.\n"
      ],
      "metadata": {
        "id": "ttFdmzgeB6i7"
      }
    },
    {
      "cell_type": "markdown",
      "source": [
        "# THE END"
      ],
      "metadata": {
        "id": "ub7LWSrWMMlh"
      }
    }
  ]
}